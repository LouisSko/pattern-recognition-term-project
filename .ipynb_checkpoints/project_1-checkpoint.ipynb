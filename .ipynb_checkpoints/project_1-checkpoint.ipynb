{
 "cells": [
  {
   "cell_type": "code",
   "execution_count": 1411,
   "metadata": {
    "ExecuteTime": {
     "end_time": "2023-11-03T16:00:36.545066Z",
     "start_time": "2023-11-03T16:00:36.538191Z"
    }
   },
   "outputs": [],
   "source": [
    "import scipy.io\n",
    "import matplotlib.pyplot as plt\n",
    "from skimage import feature, io, color\n",
    "import numpy as np\n",
    "import pandas as pd\n",
    "import cv2\n",
    "from tqdm import tqdm\n",
    "from sklearn.metrics import pairwise_distances\n",
    "from sklearn.neighbors import KNeighborsClassifier\n",
    "from sklearn import metrics\n",
    "from sklearn.model_selection import train_test_split\n",
    "import skimage.measure\n",
    "from sklearn.cluster import KMeans\n",
    "from sklearn.svm import SVC\n",
    "from sklearn.preprocessing import StandardScaler\n",
    "\n",
    "from sklearn.model_selection import RandomizedSearchCV, GridSearchCV\n",
    "from sklearn.naive_bayes import GaussianNB, CategoricalNB, MultinomialNB\n",
    "from sklearn.pipeline import Pipeline\n",
    "from sklearn.linear_model import LogisticRegression\n",
    "from sklearn.svm import SVC\n",
    "from sklearn.discriminant_analysis import LinearDiscriminantAnalysis\n",
    "\n",
    "import torch\n",
    "from torch.utils.data import DataLoader, TensorDataset"
   ]
  },
  {
   "cell_type": "markdown",
   "metadata": {},
   "source": [
    "# 1 Dataset"
   ]
  },
  {
   "cell_type": "markdown",
   "metadata": {},
   "source": [
    "## Functions"
   ]
  },
  {
   "cell_type": "code",
   "execution_count": 1042,
   "metadata": {},
   "outputs": [],
   "source": [
    "class Standardizer:\n",
    "    def __init__(self, library='torch'):\n",
    "        self.library = library\n",
    "        self.mean = None\n",
    "        self.std = None\n",
    "\n",
    "    def fit(self, x):\n",
    "        if self.library == 'torch':\n",
    "            self.mean = torch.mean(x, dim=0)\n",
    "            self.std = torch.std(x, dim=0)\n",
    "        elif self.library == 'numpy':\n",
    "            self.mean = np.mean(x, axis=0)\n",
    "            self.std = np.std(x, axis=0)\n",
    "        else:\n",
    "            raise ValueError(\"Library not supported. Use 'torch' or 'numpy'.\")\n",
    "\n",
    "        # Avoid division by zero\n",
    "        self.std[self.std == 0] = 1\n",
    "\n",
    "    def transform(self, x):\n",
    "        if self.mean is None or self.std is None:\n",
    "            raise ValueError(\"Standardizer has not been fitted yet.\")\n",
    "\n",
    "        if self.library == 'torch' and not isinstance(x, torch.Tensor):\n",
    "            raise TypeError(\"Input data must be a torch.Tensor.\")\n",
    "        elif self.library == 'numpy' and not isinstance(x, np.ndarray):\n",
    "            raise TypeError(\"Input data must be a numpy.ndarray.\")\n",
    "\n",
    "        x_scaled = (x - self.mean) / self.std\n",
    "        return x_scaled\n",
    "\n",
    "    def fit_transform(self, x):\n",
    "        self.fit(x)\n",
    "        return self.transform(x)"
   ]
  },
  {
   "cell_type": "code",
   "execution_count": 1040,
   "metadata": {
    "ExecuteTime": {
     "end_time": "2023-11-03T16:00:37.396954Z",
     "start_time": "2023-11-03T16:00:37.392114Z"
    }
   },
   "outputs": [],
   "source": [
    "def load_svhn_dataset(train_path, test_path):\n",
    "    train_data = scipy.io.loadmat(train_path)\n",
    "    test_data = scipy.io.loadmat(test_path)\n",
    "    \n",
    "    train_images = train_data['X']\n",
    "    train_labels = train_data['y'].ravel()\n",
    "    test_images = test_data['X']\n",
    "    test_labels = test_data['y'].ravel()\n",
    "\n",
    "    train_images = np.transpose(train_images, (3, 0, 1, 2))\n",
    "    test_images = np.transpose(test_images, (3, 0, 1, 2))\n",
    "    \n",
    "    train_labels[train_labels == 10] = 0\n",
    "    test_labels[test_labels == 10] = 0\n",
    "\n",
    "    return train_images, train_labels, test_images, test_labels"
   ]
  },
  {
   "cell_type": "code",
   "execution_count": 270,
   "metadata": {
    "ExecuteTime": {
     "end_time": "2023-11-03T16:00:41.503880Z",
     "start_time": "2023-11-03T16:00:41.498254Z"
    }
   },
   "outputs": [],
   "source": [
    "# check class distribution\n",
    "def visualize_class_distr(labels):\n",
    "    # plot histogram\n",
    "    counts, bins, _ = plt.hist(labels, bins=10, edgecolor='black')\n",
    "    for i, (count, x) in enumerate(zip(counts, bins)):\n",
    "        plt.text(x + 0.5, count, str(int(count)), ha='center', va='bottom')\n",
    "        plt.text(x + 0.5, count / 2, str(int(i)), ha='center', va='center')\n",
    "\n",
    "    # Set the x-axis ticks\n",
    "    #plt.xticks(np.arange(1,10))\n",
    "\n",
    "    # Add labels and a title\n",
    "    plt.xlabel('Class')\n",
    "    plt.ylabel('# number')\n",
    "    plt.title('Class Distribution')\n",
    "    \n",
    "    plt.xticks([])\n",
    "\n",
    "    # Show the plot\n",
    "    plt.show()"
   ]
  },
  {
   "cell_type": "code",
   "execution_count": 1472,
   "metadata": {},
   "outputs": [],
   "source": [
    "def plot_rnd_images(train_images, rows=3, cols=3):\n",
    "    # Create a figure and a set of subplots\n",
    "    fig, axes = plt.subplots(rows, cols)\n",
    "\n",
    "    # Display the first images based on rows and columns\n",
    "    for i in range(rows):\n",
    "        for j in range(cols):\n",
    "            ax = axes[i, j]\n",
    "            index = i * cols + j\n",
    "            if index < len(train_images):\n",
    "                ax.imshow(train_images[index])  # Display the image\n",
    "                ax.set_title(f'Image {index + 1}')\n",
    "                ax.axis('off')  # Turn off axis labels\n",
    "\n",
    "    plt.tight_layout()  # Ensure proper spacing\n",
    "    plt.show()"
   ]
  },
  {
   "cell_type": "code",
   "execution_count": null,
   "metadata": {
    "ExecuteTime": {
     "end_time": "2023-11-03T16:00:40.141333Z",
     "start_time": "2023-11-03T16:00:38.261735Z"
    }
   },
   "outputs": [],
   "source": [
    "# Provide the paths to SVHN train and test datasets\n",
    "train_path = '/Users/louis.skowronek/PycharmProjects/pattern_recognition/term-project/train_32x32.mat'\n",
    "test_path = '/Users/louis.skowronek/PycharmProjects/pattern_recognition/term-project/test_32x32.mat'\n",
    "\n",
    "train_images, train_labels, test_images, test_labels = load_svhn_dataset(train_path, test_path)\n",
    "\n",
    "# print shapes\n",
    "print(\"Train images shape:\", train_images.shape)\n",
    "print(\"Train labels shape:\", train_labels.shape)\n",
    "print(\"Test images shape:\", test_images.shape)\n",
    "print(\"Test labels shape:\", test_labels.shape)"
   ]
  },
  {
   "cell_type": "code",
   "execution_count": 271,
   "metadata": {
    "ExecuteTime": {
     "end_time": "2023-10-20T13:12:33.656392Z",
     "start_time": "2023-10-20T13:12:33.579557Z"
    }
   },
   "outputs": [
    {
     "data": {
      "image/png": "[encoded data removed]",
      "text/plain": [
       "<Figure size 640x480 with 1 Axes>"
      ]
     },
     "metadata": {},
     "output_type": "display_data"
    }
   ],
   "source": [
    "visualize_class_distr(train_labels)"
   ]
  },
  {
   "cell_type": "code",
   "execution_count": 272,
   "metadata": {
    "ExecuteTime": {
     "end_time": "2023-10-20T13:12:38.298855Z",
     "start_time": "2023-10-20T13:12:38.226949Z"
    }
   },
   "outputs": [
    {
     "data": {
      "image/png": "[encoded data removed]",
      "text/plain": [
       "<Figure size 640x480 with 1 Axes>"
      ]
     },
     "metadata": {},
     "output_type": "display_data"
    }
   ],
   "source": [
    "visualize_class_distr(test_labels)"
   ]
  },
  {
   "cell_type": "code",
   "execution_count": 1471,
   "metadata": {},
   "outputs": [
    {
     "data": {
      "image/png": "[encoded data removed]",
      "text/plain": [
       "<Figure size 640x480 with 9 Axes>"
      ]
     },
     "metadata": {},
     "output_type": "display_data"
    }
   ],
   "source": [
    "plot_rnd_images(train_images, rows=3, cols=3)"
   ]
  },
  {
   "cell_type": "code",
   "execution_count": 275,
   "metadata": {},
   "outputs": [],
   "source": [
    "def create_vectors(images):\n",
    "    \n",
    "    return images.reshape(images.shape[0], -1)"
   ]
  },
  {
   "cell_type": "markdown",
   "metadata": {},
   "source": [
    "# 2 Feature Extraction"
   ]
  },
  {
   "cell_type": "markdown",
   "metadata": {},
   "source": [
    "### 1.  rgb histogram\n",
    "\n",
    "for each channel (rgb) create an histogram. Append all values in a final feature vector"
   ]
  },
  {
   "cell_type": "code",
   "execution_count": 273,
   "metadata": {},
   "outputs": [],
   "source": [
    "def rgb_histogram(images):\n",
    "    # Create empty lists to store the histograms for each channel\n",
    "    hist_r_list = []\n",
    "    hist_g_list = []\n",
    "    hist_b_list = []\n",
    "\n",
    "    histograms = np.zeros((images.shape[0], 3, 256))\n",
    "\n",
    "    for i, image in enumerate(tqdm(images)):\n",
    "        \n",
    "        try:\n",
    "            # Split the image into color channels (R, G, B)\n",
    "            r, g, b = cv2.split(image)\n",
    "\n",
    "            # Create histograms for each channel\n",
    "            hist_r = np.histogram(r, bins=256, range=(0, 256))[0]\n",
    "            hist_g = np.histogram(g, bins=256, range=(0, 256))[0]\n",
    "            hist_b = np.histogram(b, bins=256, range=(0, 256))[0]\n",
    "\n",
    "            # Store the histograms in the array\n",
    "            histograms[i, 0] = hist_r\n",
    "            histograms[i, 1] = hist_g\n",
    "            histograms[i, 2] = hist_b\n",
    "            \n",
    "        except Exception as e:\n",
    "            print(\"An error occurred:\", e)\n",
    "            \n",
    "    return histograms"
   ]
  },
  {
   "cell_type": "code",
   "execution_count": 274,
   "metadata": {},
   "outputs": [
    {
     "name": "stderr",
     "output_type": "stream",
     "text": [
      "100%|███████████████████████████████████| 73257/73257 [00:08<00:00, 8397.58it/s]\n",
      "100%|███████████████████████████████████| 26032/26032 [00:03<00:00, 8389.75it/s]\n"
     ]
    }
   ],
   "source": [
    "rgb_train_images = rgb_histogram(train_images)\n",
    "rgb_test_images = rgb_histogram(test_images)"
   ]
  },
  {
   "cell_type": "code",
   "execution_count": 254,
   "metadata": {},
   "outputs": [
    {
     "data": {
      "text/plain": [
       "(73257, 3, 256)"
      ]
     },
     "execution_count": 254,
     "metadata": {},
     "output_type": "execute_result"
    }
   ],
   "source": [
    "rgb_train_images.shape"
   ]
  },
  {
   "cell_type": "code",
   "execution_count": 286,
   "metadata": {},
   "outputs": [],
   "source": [
    "rgb_train_features = create_vectors(rgb_train_images)\n",
    "rgb_test_features = create_vectors(rgb_test_images)"
   ]
  },
  {
   "cell_type": "code",
   "execution_count": 1043,
   "metadata": {},
   "outputs": [],
   "source": [
    "# standardize features\n",
    "scaler = Standardizer(library='numpy')\n",
    "rgb_train_features = scaler.fit_transform(rgb_train_features)\n",
    "rgb_test_features = scaler.transform(rgb_test_features)"
   ]
  },
  {
   "cell_type": "code",
   "execution_count": 1044,
   "metadata": {},
   "outputs": [
    {
     "data": {
      "text/plain": [
       "(73257, 768)"
      ]
     },
     "execution_count": 1044,
     "metadata": {},
     "output_type": "execute_result"
    }
   ],
   "source": [
    "rgb_train_features.shape"
   ]
  },
  {
   "cell_type": "markdown",
   "metadata": {},
   "source": [
    "### 2. grey scale images\n",
    "\n",
    "1. convert rgb images to grey scale images\n",
    "2. reduce dimensionality by using average pooling to reduce the 32x32 images to 16x16"
   ]
  },
  {
   "cell_type": "code",
   "execution_count": 288,
   "metadata": {
    "ExecuteTime": {
     "end_time": "2023-11-03T16:00:47.056052Z",
     "start_time": "2023-11-03T16:00:47.050475Z"
    }
   },
   "outputs": [],
   "source": [
    "# Display the original image and the transformed image\n",
    "def plot_images(images, feature_images, idx = 0):\n",
    "    plt.figure(figsize=(12, 4))\n",
    "    plt.subplot(121)\n",
    "    plt.imshow(images[idx])\n",
    "    plt.title(\"Original Image\")\n",
    "\n",
    "    plt.subplot(122)\n",
    "    plt.imshow(feature_images[idx], cmap='gray')\n",
    "    plt.title(\"Generated Image\")\n",
    "\n",
    "    plt.show()"
   ]
  },
  {
   "cell_type": "code",
   "execution_count": 290,
   "metadata": {
    "ExecuteTime": {
     "end_time": "2023-11-03T16:00:47.277826Z",
     "start_time": "2023-11-03T16:00:47.271023Z"
    }
   },
   "outputs": [],
   "source": [
    "# function to compute the gray scale images\n",
    "def gray_scale(images):\n",
    "    feature_images = np.empty((images.shape[0], images.shape[1], images.shape[2], 1), dtype=np.float32)\n",
    "\n",
    "    # create the lpb images\n",
    "    for i, image in enumerate(tqdm(images)):\n",
    "\n",
    "        # Convert the image to grayscale (Harris corner detection works on grayscale images)\n",
    "        gray_image = cv2.cvtColor(image, cv2.COLOR_RGB2GRAY)\n",
    "\n",
    "        feature_images[i, :, :, 0] = gray_image\n",
    "\n",
    "    return feature_images"
   ]
  },
  {
   "cell_type": "code",
   "execution_count": 297,
   "metadata": {},
   "outputs": [],
   "source": [
    "def pooling(images):\n",
    "    feature_images = np.empty((images.shape[0], 16, 16, 1), dtype=np.float32)\n",
    "\n",
    "    for i, image in enumerate(tqdm(images)): \n",
    "        feature_images[i] = skimage.measure.block_reduce(image, (2, 2, 1), np.mean)\n",
    "\n",
    "    return feature_images"
   ]
  },
  {
   "cell_type": "code",
   "execution_count": 313,
   "metadata": {
    "ExecuteTime": {
     "end_time": "2023-11-03T13:10:45.459261Z",
     "start_time": "2023-11-03T13:10:44.619872Z"
    }
   },
   "outputs": [
    {
     "name": "stderr",
     "output_type": "stream",
     "text": [
      "100%|█████████████████████████████████| 73257/73257 [00:00<00:00, 151678.73it/s]\n",
      "100%|█████████████████████████████████| 26032/26032 [00:00<00:00, 157696.13it/s]\n"
     ]
    }
   ],
   "source": [
    "gray_train_images = gray_scale(train_images)\n",
    "gray_test_images = gray_scale(test_images)"
   ]
  },
  {
   "cell_type": "code",
   "execution_count": 314,
   "metadata": {},
   "outputs": [
    {
     "name": "stderr",
     "output_type": "stream",
     "text": [
      "100%|██████████████████████████████████| 73257/73257 [00:02<00:00, 25899.47it/s]\n",
      "100%|██████████████████████████████████| 26032/26032 [00:00<00:00, 26760.56it/s]\n"
     ]
    }
   ],
   "source": [
    "gray_train_images = pooling(gray_train_images)\n",
    "gray_test_images = pooling(gray_test_images)"
   ]
  },
  {
   "cell_type": "code",
   "execution_count": 315,
   "metadata": {},
   "outputs": [
    {
     "data": {
      "image/png": "[encoded data removed]",
      "text/plain": [
       "<Figure size 1200x400 with 2 Axes>"
      ]
     },
     "metadata": {},
     "output_type": "display_data"
    }
   ],
   "source": [
    "plot_images(train_images, gray_images_train, idx = 99)"
   ]
  },
  {
   "cell_type": "code",
   "execution_count": 316,
   "metadata": {},
   "outputs": [],
   "source": [
    "# create feature vectors\n",
    "gray_train_features = create_vectors(gray_train_images)\n",
    "gray_test_features = create_vectors(gray_train_images)"
   ]
  },
  {
   "cell_type": "code",
   "execution_count": 1050,
   "metadata": {},
   "outputs": [],
   "source": [
    "# standardize features\n",
    "scaler = Standardizer(library='numpy')\n",
    "gray_train_features = scaler.fit_transform(gray_train_features)\n",
    "gray_test_features = scaler.transform(gray_test_features)"
   ]
  },
  {
   "cell_type": "code",
   "execution_count": 317,
   "metadata": {},
   "outputs": [
    {
     "data": {
      "text/plain": [
       "(73257, 256)"
      ]
     },
     "execution_count": 317,
     "metadata": {},
     "output_type": "execute_result"
    }
   ],
   "source": [
    "gray_train_features.shape"
   ]
  },
  {
   "cell_type": "markdown",
   "metadata": {
    "ExecuteTime": {
     "end_time": "2023-11-03T13:13:23.365026Z",
     "start_time": "2023-11-03T13:13:23.355420Z"
    }
   },
   "source": [
    "### 3. Local Binary Pattern"
   ]
  },
  {
   "cell_type": "code",
   "execution_count": 355,
   "metadata": {
    "ExecuteTime": {
     "end_time": "2023-11-03T16:00:49.098301Z",
     "start_time": "2023-11-03T16:00:49.093568Z"
    }
   },
   "outputs": [],
   "source": [
    "def lbp(images):\n",
    "\n",
    "    # Preallocate the lbp_images array\n",
    "    feature_images = np.empty((images.shape[0], images.shape[1], images.shape[2], 1), dtype=np.float32)\n",
    "\n",
    "    # create the lpb images\n",
    "    for i, image in enumerate(tqdm(images)):\n",
    "\n",
    "        # Convert the image to grayscale (Harris corner detection works on grayscale images)\n",
    "        gray_image = cv2.cvtColor(image, cv2.COLOR_RGB2GRAY)\n",
    "\n",
    "        # Compute LBP features\n",
    "        radius = 3\n",
    "        n_points = 8\n",
    "        feature_images[i, :, :, 0] = feature.local_binary_pattern(gray_image, n_points, radius, method='uniform')\n",
    "    \n",
    "    return feature_images"
   ]
  },
  {
   "cell_type": "code",
   "execution_count": 384,
   "metadata": {},
   "outputs": [],
   "source": [
    "def histogram_lbp(lbp,n_points = 3, eps=1e-7):\n",
    "    \n",
    "    lbp = lbp.reshape(lbp.shape[0], -1)\n",
    "    hist = [np.histogram(image, bins=np.arange(0, n_points + 3),range=(0, n_points + 2))[0] for image in lbp]\n",
    "    \n",
    "    \n",
    "    # normalize the histogram\n",
    "    hist = np.vstack(hist).astype(\"float\")\n",
    "\n",
    "    hist /= (hist.sum(axis=1)[:,np.newaxis] + eps)\n",
    "    \n",
    "    return hist"
   ]
  },
  {
   "cell_type": "code",
   "execution_count": 357,
   "metadata": {
    "ExecuteTime": {
     "end_time": "2023-11-03T12:50:35.453889Z",
     "start_time": "2023-11-03T12:50:29.119056Z"
    },
    "scrolled": true
   },
   "outputs": [
    {
     "name": "stderr",
     "output_type": "stream",
     "text": [
      "100%|██████████████████████████████████| 73257/73257 [00:05<00:00, 14121.98it/s]\n",
      "100%|██████████████████████████████████| 26032/26032 [00:01<00:00, 14357.55it/s]\n"
     ]
    }
   ],
   "source": [
    "lbp_train_images = lbp(train_images)\n",
    "lbp_test_images = lbp(test_images)"
   ]
  },
  {
   "cell_type": "code",
   "execution_count": 358,
   "metadata": {
    "ExecuteTime": {
     "end_time": "2023-11-03T12:58:19.474539Z",
     "start_time": "2023-11-03T12:58:19.466215Z"
    }
   },
   "outputs": [
    {
     "data": {
      "image/png": "[encoded data removed]",
      "text/plain": [
       "<Figure size 1200x400 with 2 Axes>"
      ]
     },
     "metadata": {},
     "output_type": "display_data"
    }
   ],
   "source": [
    "plot_images(train_images, lbp_train_images, idx = 6)"
   ]
  },
  {
   "cell_type": "code",
   "execution_count": 1055,
   "metadata": {},
   "outputs": [],
   "source": [
    "lbp_train_features = histogram_lbp(lbp_train_images)\n",
    "lbp_test_features = histogram_lbp(lbp_test_images)"
   ]
  },
  {
   "cell_type": "code",
   "execution_count": 1056,
   "metadata": {},
   "outputs": [],
   "source": [
    "# standardize features\n",
    "scaler = Standardizer(library='numpy')\n",
    "lbp_train_features = scaler.fit_transform(lbp_train_features)\n",
    "lbp_test_features = scaler.transform(lbp_test_features)"
   ]
  },
  {
   "cell_type": "code",
   "execution_count": 1057,
   "metadata": {},
   "outputs": [
    {
     "data": {
      "text/plain": [
       "(73257, 5)"
      ]
     },
     "execution_count": 1057,
     "metadata": {},
     "output_type": "execute_result"
    }
   ],
   "source": [
    "lbp_train_features.shape"
   ]
  },
  {
   "cell_type": "markdown",
   "metadata": {
    "ExecuteTime": {
     "end_time": "2023-11-03T12:37:02.821351Z",
     "start_time": "2023-11-03T12:36:58.539342Z"
    }
   },
   "source": [
    "Difficulties:\n",
    "what hyperparameters to choose?\n",
    "sometimes the number is bright and sometimes the number is dark"
   ]
  },
  {
   "cell_type": "markdown",
   "metadata": {
    "ExecuteTime": {
     "end_time": "2023-11-03T12:58:38.775671Z",
     "start_time": "2023-11-03T12:58:34.997939Z"
    }
   },
   "source": [
    "### 4. Harris Corner Detection"
   ]
  },
  {
   "cell_type": "code",
   "execution_count": 318,
   "metadata": {
    "ExecuteTime": {
     "end_time": "2023-11-03T16:00:50.842888Z",
     "start_time": "2023-11-03T16:00:50.834969Z"
    }
   },
   "outputs": [],
   "source": [
    "def hcd(images):\n",
    "\n",
    "    # Preallocate the feature_images array\n",
    "    feature_images = np.empty((images.shape[0], images.shape[1], images.shape[2], 1), dtype=np.float32)\n",
    "\n",
    "    # Perform Harris Corner Detection\n",
    "\n",
    "    for i, image in enumerate(tqdm(images)):\n",
    "\n",
    "        # Convert the image to grayscale (Harris corner detection works on grayscale images)\n",
    "        gray_image = cv2.cvtColor(image, cv2.COLOR_RGB2GRAY)\n",
    "\n",
    "        # Compute LBP features\n",
    "        feature_images[i, :, :, 0] = cv2.cornerHarris(gray_image, blockSize=1, ksize=3, k=0.04)\n",
    "\n",
    "    return feature_images\n",
    "\n",
    "    # Threshold for corner detection\n",
    "    #corner_threshold = 0.01 * corner_image.max()"
   ]
  },
  {
   "cell_type": "code",
   "execution_count": 319,
   "metadata": {
    "ExecuteTime": {
     "end_time": "2023-11-03T12:28:01.077663Z",
     "start_time": "2023-11-03T12:27:59.713458Z"
    }
   },
   "outputs": [
    {
     "name": "stderr",
     "output_type": "stream",
     "text": [
      "100%|██████████████████████████████████| 73257/73257 [00:01<00:00, 64554.46it/s]\n",
      "100%|██████████████████████████████████| 26032/26032 [00:00<00:00, 66391.01it/s]\n"
     ]
    }
   ],
   "source": [
    "hcd_train_images = hcd(train_images)\n",
    "hcd_test_images = hcd(test_images)"
   ]
  },
  {
   "cell_type": "code",
   "execution_count": 320,
   "metadata": {
    "ExecuteTime": {
     "end_time": "2023-10-19T06:20:33.559413Z",
     "start_time": "2023-10-19T06:20:33.395854Z"
    }
   },
   "outputs": [
    {
     "data": {
      "image/png": "[encoded data removed]",
      "text/plain": [
       "<Figure size 1200x400 with 2 Axes>"
      ]
     },
     "metadata": {},
     "output_type": "display_data"
    }
   ],
   "source": [
    "plot_images(train_images, hcd_train_images, idx = 1190)"
   ]
  },
  {
   "cell_type": "code",
   "execution_count": 321,
   "metadata": {},
   "outputs": [],
   "source": [
    "# generate features\n",
    "hcd_train_features = create_vectors(hcd_train_images)\n",
    "hcd_test_features = create_vectors(hcd_test_images)"
   ]
  },
  {
   "cell_type": "code",
   "execution_count": 1058,
   "metadata": {},
   "outputs": [],
   "source": [
    "# standardize features\n",
    "scaler = Standardizer(library='numpy')\n",
    "hcd_train_features = scaler.fit_transform(hcd_train_features)\n",
    "hcd_test_features = scaler.transform(hcd_test_features)"
   ]
  },
  {
   "cell_type": "code",
   "execution_count": 322,
   "metadata": {},
   "outputs": [
    {
     "data": {
      "text/plain": [
       "(73257, 1024)"
      ]
     },
     "execution_count": 322,
     "metadata": {},
     "output_type": "execute_result"
    }
   ],
   "source": [
    "hcd_train_features.shape"
   ]
  },
  {
   "cell_type": "markdown",
   "metadata": {},
   "source": [
    "problems: the filling is not white"
   ]
  },
  {
   "cell_type": "code",
   "execution_count": 537,
   "metadata": {
    "ExecuteTime": {
     "end_time": "2023-10-18T17:27:27.584021Z",
     "start_time": "2023-10-18T17:27:27.467594Z"
    }
   },
   "outputs": [
    {
     "data": {
      "text/plain": [
       "<matplotlib.image.AxesImage at 0x145054040>"
      ]
     },
     "execution_count": 537,
     "metadata": {},
     "output_type": "execute_result"
    },
    {
     "data": {
      "image/png": "[encoded data removed]",
      "text/plain": [
       "<Figure size 640x480 with 1 Axes>"
      ]
     },
     "metadata": {},
     "output_type": "display_data"
    }
   ],
   "source": [
    "corner_image = hcd_images_train[0,:,:,0]\n",
    "image = train_images[0,:,:,:]\n",
    "\n",
    "# Threshold for corner detection\n",
    "corner_threshold = 0.05 * corner_image.min()\n",
    "\n",
    "# Create a copy of the original image\n",
    "result_image = image.copy()\n",
    "\n",
    "# Draw the detected corners on the result image\n",
    "result_image[corner_image < corner_threshold] = [255, 0, 0]  # set corners to red\n",
    "\n",
    "# Display the result\n",
    "plt.imshow(result_image)"
   ]
  },
  {
   "cell_type": "markdown",
   "metadata": {},
   "source": [
    "- was ich brauche ist das cropping auf die relevante zahl. --> alles andere im Bild sollte hintergrund sein\n",
    "- combine local binary pattern matching and harris corner prediction"
   ]
  },
  {
   "cell_type": "markdown",
   "metadata": {},
   "source": [
    "### 5. ORB and then Visual Bag of Words"
   ]
  },
  {
   "cell_type": "code",
   "execution_count": 1189,
   "metadata": {},
   "outputs": [],
   "source": [
    "# Oriented FAST and Rotated BRIEF\n",
    "\n",
    "# function to receive keypoints and descriptors\n",
    "def orb_sift(images, method='orb'):\n",
    "    \n",
    "    # Create an ORB object\n",
    "    if method == 'orb':\n",
    "        obj = cv2.ORB_create(edgeThreshold=1)\n",
    "    \n",
    "    if method == 'sift':\n",
    "        obj = cv2.xfeatures2d.SIFT_create()\n",
    "\n",
    "\n",
    "    \n",
    "    # Initialize lists to store keypoints and descriptors for all images\n",
    "    all_keypoints = []\n",
    "    all_descriptors = []\n",
    "\n",
    "    for image in tqdm(images):\n",
    "        # Convert the image to grayscale\n",
    "        image_gray = cv2.cvtColor(image, cv2.COLOR_RGB2GRAY)\n",
    "        \n",
    "        if method == 'orb':\n",
    "            # Detect keypoints and compute descriptors\n",
    "            keypoints, descriptors = orb.detectAndCompute(image_gray, None)\n",
    "        if method == 'sift':\n",
    "            keypoints, descriptors = sift.detectAndCompute(image_gray, None)\n",
    "\n",
    "        # Append keypoints and descriptors to the lists\n",
    "        all_keypoints.append(keypoints)\n",
    "        all_descriptors.append(descriptors)\n",
    "\n",
    "    # Convert lists of keypoints and descriptors to NumPy arrays\n",
    "    all_keypoints_array = np.array(all_keypoints, dtype=object)\n",
    "    all_descriptors_array = np.array(all_descriptors, dtype=object)\n",
    "    \n",
    "    return all_descriptors_array\n",
    "\n",
    "\n",
    "# Quantization and histogram creation\n",
    "def histogram_visual_words(kmeans, descriptors, bins = 100):\n",
    "    visual_word_histograms = []\n",
    "    \n",
    "    for i, image_features in enumerate(tqdm(descriptors)):\n",
    "        \n",
    "        if image_features is None:\n",
    "            histogram, _ = np.histogram([-1], bins=range(bins+1))\n",
    "            \n",
    "        else:\n",
    "            visual_words = kmeans.predict(image_features)\n",
    "            histogram, _ = np.histogram(visual_words, bins=range(bins+1))\n",
    "        \n",
    "        visual_word_histograms.append(histogram)\n",
    "            \n",
    "    return np.stack(visual_word_histograms)"
   ]
  },
  {
   "cell_type": "code",
   "execution_count": 328,
   "metadata": {
    "scrolled": true
   },
   "outputs": [
    {
     "name": "stderr",
     "output_type": "stream",
     "text": [
      "100%|███████████████████████████████████| 73257/73257 [00:09<00:00, 7975.61it/s]\n",
      "100%|███████████████████████████████████| 26032/26032 [00:03<00:00, 8050.22it/s]\n"
     ]
    }
   ],
   "source": [
    "train_descriptors = orb_sift(train_images, method='orb')\n",
    "test_descriptors = orb_sift(test_images, method='orb')"
   ]
  },
  {
   "cell_type": "code",
   "execution_count": 329,
   "metadata": {},
   "outputs": [
    {
     "name": "stderr",
     "output_type": "stream",
     "text": [
      "/Users/louis.skowronek/miniforge3/envs/aiss_env/lib/python3.9/site-packages/sklearn/cluster/_kmeans.py:1412: FutureWarning: The default value of `n_init` will change from 10 to 'auto' in 1.4. Set the value of `n_init` explicitly to suppress the warning\n",
      "  super()._check_params_vs_input(X, default_n_init=10)\n"
     ]
    },
    {
     "data": {
      "text/html": [
       "<style>#sk-container-id-1 {color: black;}#sk-container-id-1 pre{padding: 0;}#sk-container-id-1 div.sk-toggleable {background-color: white;}#sk-container-id-1 label.sk-toggleable__label {cursor: pointer;display: block;width: 100%;margin-bottom: 0;padding: 0.3em;box-sizing: border-box;text-align: center;}#sk-container-id-1 label.sk-toggleable__label-arrow:before {content: \"▸\";float: left;margin-right: 0.25em;color: #696969;}#sk-container-id-1 label.sk-toggleable__label-arrow:hover:before {color: black;}#sk-container-id-1 div.sk-estimator:hover label.sk-toggleable__label-arrow:before {color: black;}#sk-container-id-1 div.sk-toggleable__content {max-height: 0;max-width: 0;overflow: hidden;text-align: left;background-color: #f0f8ff;}#sk-container-id-1 div.sk-toggleable__content pre {margin: 0.2em;color: black;border-radius: 0.25em;background-color: #f0f8ff;}#sk-container-id-1 input.sk-toggleable__control:checked~div.sk-toggleable__content {max-height: 200px;max-width: 100%;overflow: auto;}#sk-container-id-1 input.sk-toggleable__control:checked~label.sk-toggleable__label-arrow:before {content: \"▾\";}#sk-container-id-1 div.sk-estimator input.sk-toggleable__control:checked~label.sk-toggleable__label {background-color: #d4ebff;}#sk-container-id-1 div.sk-label input.sk-toggleable__control:checked~label.sk-toggleable__label {background-color: #d4ebff;}#sk-container-id-1 input.sk-hidden--visually {border: 0;clip: rect(1px 1px 1px 1px);clip: rect(1px, 1px, 1px, 1px);height: 1px;margin: -1px;overflow: hidden;padding: 0;position: absolute;width: 1px;}#sk-container-id-1 div.sk-estimator {font-family: monospace;background-color: #f0f8ff;border: 1px dotted black;border-radius: 0.25em;box-sizing: border-box;margin-bottom: 0.5em;}#sk-container-id-1 div.sk-estimator:hover {background-color: #d4ebff;}#sk-container-id-1 div.sk-parallel-item::after {content: \"\";width: 100%;border-bottom: 1px solid gray;flex-grow: 1;}#sk-container-id-1 div.sk-label:hover label.sk-toggleable__label {background-color: #d4ebff;}#sk-container-id-1 div.sk-serial::before {content: \"\";position: absolute;border-left: 1px solid gray;box-sizing: border-box;top: 0;bottom: 0;left: 50%;z-index: 0;}#sk-container-id-1 div.sk-serial {display: flex;flex-direction: column;align-items: center;background-color: white;padding-right: 0.2em;padding-left: 0.2em;position: relative;}#sk-container-id-1 div.sk-item {position: relative;z-index: 1;}#sk-container-id-1 div.sk-parallel {display: flex;align-items: stretch;justify-content: center;background-color: white;position: relative;}#sk-container-id-1 div.sk-item::before, #sk-container-id-1 div.sk-parallel-item::before {content: \"\";position: absolute;border-left: 1px solid gray;box-sizing: border-box;top: 0;bottom: 0;left: 50%;z-index: -1;}#sk-container-id-1 div.sk-parallel-item {display: flex;flex-direction: column;z-index: 1;position: relative;background-color: white;}#sk-container-id-1 div.sk-parallel-item:first-child::after {align-self: flex-end;width: 50%;}#sk-container-id-1 div.sk-parallel-item:last-child::after {align-self: flex-start;width: 50%;}#sk-container-id-1 div.sk-parallel-item:only-child::after {width: 0;}#sk-container-id-1 div.sk-dashed-wrapped {border: 1px dashed gray;margin: 0 0.4em 0.5em 0.4em;box-sizing: border-box;padding-bottom: 0.4em;background-color: white;}#sk-container-id-1 div.sk-label label {font-family: monospace;font-weight: bold;display: inline-block;line-height: 1.2em;}#sk-container-id-1 div.sk-label-container {text-align: center;}#sk-container-id-1 div.sk-container {/* jupyter's `normalize.less` sets `[hidden] { display: none; }` but bootstrap.min.css set `[hidden] { display: none !important; }` so we also need the `!important` here to be able to override the default hidden behavior on the sphinx rendered scikit-learn.org. See: https://github.com/scikit-learn/scikit-learn/issues/21755 */display: inline-block !important;position: relative;}#sk-container-id-1 div.sk-text-repr-fallback {display: none;}</style><div id=\"sk-container-id-1\" class=\"sk-top-container\"><div class=\"sk-text-repr-fallback\"><pre>KMeans(n_clusters=100)</pre><b>In a Jupyter environment, please rerun this cell to show the HTML representation or trust the notebook. <br />On GitHub, the HTML representation is unable to render, please try loading this page with nbviewer.org.</b></div><div class=\"sk-container\" hidden><div class=\"sk-item\"><div class=\"sk-estimator sk-toggleable\"><input class=\"sk-toggleable__control sk-hidden--visually\" id=\"sk-estimator-id-1\" type=\"checkbox\" checked><label for=\"sk-estimator-id-1\" class=\"sk-toggleable__label sk-toggleable__label-arrow\">KMeans</label><div class=\"sk-toggleable__content\"><pre>KMeans(n_clusters=100)</pre></div></div></div></div></div>"
      ],
      "text/plain": [
       "KMeans(n_clusters=100)"
      ]
     },
     "execution_count": 329,
     "metadata": {},
     "output_type": "execute_result"
    }
   ],
   "source": [
    "# do kmeans clustering for all descriptors\n",
    "features = np.concatenate([inner_array for inner_array in train_descriptors if inner_array is not None])\n",
    "\n",
    "n_clusters = 50\n",
    "kmeans = KMeans(n_clusters)  # Number of clusters (visual words)\n",
    "kmeans.fit(features)"
   ]
  },
  {
   "cell_type": "code",
   "execution_count": 336,
   "metadata": {},
   "outputs": [
    {
     "name": "stderr",
     "output_type": "stream",
     "text": [
      "100%|███████████████████████████████████| 73257/73257 [00:08<00:00, 8161.44it/s]\n",
      "100%|███████████████████████████████████| 26032/26032 [00:03<00:00, 8210.24it/s]\n"
     ]
    }
   ],
   "source": [
    "orb_train_features = histogram_visual_words(kmeans, train_descriptors, bins=n_clusters)\n",
    "orb_test_features = histogram_visual_words(kmeans, test_descriptors, bins=n_clusters)"
   ]
  },
  {
   "cell_type": "code",
   "execution_count": 1059,
   "metadata": {},
   "outputs": [],
   "source": [
    "# standardize features\n",
    "scaler = Standardizer(library='numpy')\n",
    "orb_train_features = scaler.fit_transform(orb_train_features)\n",
    "orb_test_features = scaler.transform(orb_test_features)"
   ]
  },
  {
   "cell_type": "code",
   "execution_count": 1060,
   "metadata": {},
   "outputs": [
    {
     "data": {
      "text/plain": [
       "(73257, 100)"
      ]
     },
     "execution_count": 1060,
     "metadata": {},
     "output_type": "execute_result"
    }
   ],
   "source": [
    "orb_train_features.shape"
   ]
  },
  {
   "cell_type": "markdown",
   "metadata": {},
   "source": [
    "## 2.2 Quantifying the distinctivness of the features \n",
    "\n",
    "I am using silhoutte coefficient to compare the distinctivness of the features. \n",
    "Silhouette coefficient is a measure of how similar an object is to its own cluster (cohesion) compared to other clusters (separation). It lays between [-1,1] while a high value is desirable\n"
   ]
  },
  {
   "cell_type": "code",
   "execution_count": 1061,
   "metadata": {
    "ExecuteTime": {
     "end_time": "2023-11-03T15:28:41.323568Z",
     "start_time": "2023-11-03T15:28:41.320288Z"
    }
   },
   "outputs": [],
   "source": [
    "def calculate_distances_in_batches(X, batch_size):\n",
    "    n = X.shape[0]\n",
    "    distance_matrix = np.zeros((n, n))  # Initialize the distance matrix\n",
    "\n",
    "    for i in tqdm(range(0, n, batch_size), 'calculating distance matrix'):\n",
    "        end = min(i + batch_size, n)\n",
    "        batch = X[i:end]  # Take a batch of data points\n",
    "        batch_distances = pairwise_distances(batch, X)  # Calculate distances for the batch\n",
    "        distance_matrix[i:end] = batch_distances  # Update the distance matrix with the batch\n",
    "\n",
    "    return distance_matrix"
   ]
  },
  {
   "cell_type": "code",
   "execution_count": 1062,
   "metadata": {
    "ExecuteTime": {
     "start_time": "2023-11-03T15:28:42.837995Z"
    },
    "is_executing": true
   },
   "outputs": [],
   "source": [
    "def silhouette_coefficient(images, labels, subsample=1000):\n",
    "    \n",
    "    # select only a subset of the data\n",
    "    X, _, y, _ = train_test_split(images, labels, stratify=labels, train_size=subsample, random_state=42)\n",
    "    \n",
    "    # Calculate pairwise distances between data points\n",
    "    batch_size = 1000  # Adjust this to your needs\n",
    "    distance_matrix = calculate_distances_in_batches(X, batch_size)\n",
    "\n",
    "    n = len(X)\n",
    "    silhouette_values = []\n",
    "\n",
    "    for i in tqdm(range(n), 'calculating silhouette coefficient'):\n",
    "        # average distance from the data point i to the other data points in the same cluster.\n",
    "        a = np.mean(distance_matrix[i][y == y[i]])\n",
    "        # minimum average distance from the data point i to the data points in a different cluster, minimizing over clusters.\n",
    "        b = min([np.mean(distance_matrix[i][y != label]) for label in set(y) if label != y[i]])\n",
    "        s = (b - a) / max(a, b)\n",
    "        silhouette_values.append(s)\n",
    "    \n",
    "    silhouette_values = np.array(silhouette_values)\n",
    "    \n",
    "    return silhouette_values, np.mean(silhouette_values)"
   ]
  },
  {
   "cell_type": "code",
   "execution_count": 1063,
   "metadata": {},
   "outputs": [
    {
     "name": "stderr",
     "output_type": "stream",
     "text": [
      "calculating distance matrix: 100%|██████████████| 20/20 [00:06<00:00,  3.12it/s]\n",
      "calculating silhouette coefficient: 100%|█| 20000/20000 [00:24<00:00, 821.31it/s\n",
      "calculating distance matrix: 100%|██████████████| 20/20 [00:04<00:00,  4.17it/s]\n",
      "calculating silhouette coefficient: 100%|█| 20000/20000 [00:27<00:00, 725.85it/s\n",
      "calculating distance matrix: 100%|██████████████| 20/20 [00:02<00:00,  9.27it/s]\n",
      "calculating silhouette coefficient: 100%|█| 20000/20000 [00:22<00:00, 883.69it/s\n",
      "calculating distance matrix: 100%|██████████████| 20/20 [00:10<00:00,  1.98it/s]\n",
      "calculating silhouette coefficient: 100%|█| 20000/20000 [00:34<00:00, 580.25it/s\n",
      "calculating distance matrix: 100%|██████████████| 20/20 [00:02<00:00,  7.92it/s]\n",
      "calculating silhouette coefficient: 100%|█| 20000/20000 [00:22<00:00, 889.21it/s\n"
     ]
    }
   ],
   "source": [
    "# create a dict containing the 5 different feature extraction techniques\n",
    "features = {'rgb': rgb_train_features, \n",
    "            'gray': gray_train_features,\n",
    "            'lbp': lbp_train_features,\n",
    "            'hcd': hcd_train_features,\n",
    "            'orb': orb_train_features}\n",
    "\n",
    "results = {}\n",
    "\n",
    "for key, feature in features.items(): \n",
    "    \n",
    "    silhouette_values, silhouette_mean = silhouette_coefficient(feature, train_labels, subsample=20000)\n",
    "    \n",
    "    results[key] = [silhouette_values, silhouette_mean]"
   ]
  },
  {
   "cell_type": "code",
   "execution_count": 1064,
   "metadata": {
    "scrolled": true
   },
   "outputs": [
    {
     "name": "stdout",
     "output_type": "stream",
     "text": [
      "Silhouette Coefficient for feature extraction technique rgb: -0.00556\n",
      "----------------------------------------------------------------------\n",
      "Silhouette Coefficient for feature extraction technique gray: 8e-05\n",
      "----------------------------------------------------------------------\n",
      "Silhouette Coefficient for feature extraction technique lbp: 0.00528\n",
      "----------------------------------------------------------------------\n",
      "Silhouette Coefficient for feature extraction technique hcd: -0.00362\n",
      "----------------------------------------------------------------------\n",
      "Silhouette Coefficient for feature extraction technique orb: 0.00173\n",
      "----------------------------------------------------------------------\n",
      "----------------------------------------------------------------------\n",
      "Best results obtained by feature extraction technique lbp: 0.00528\n"
     ]
    }
   ],
   "source": [
    "max_coef = -np.inf\n",
    "for key, result in results.items(): \n",
    "    \n",
    "    coef = np.round(result[1], 5)\n",
    "    \n",
    "    print(f'Silhouette Coefficient for feature extraction technique {key}: {coef}')\n",
    "    print(70 * '-')\n",
    "    if coef > max_coef:\n",
    "        max_coef = coef\n",
    "        best_result = key\n",
    "    \n",
    "print(70 * '-')\n",
    "print(f'Best results obtained by feature extraction technique {best_result}: {max_coef}')"
   ]
  },
  {
   "cell_type": "markdown",
   "metadata": {},
   "source": [
    "based on the chosen evaluation method, lbp gives the best results"
   ]
  },
  {
   "cell_type": "markdown",
   "metadata": {},
   "source": [
    "### 2.3 Investigate classes with low intra-class similarities and high inter-class similarities\n",
    "\n",
    "For lpb, the silhouette coefficient for individual classes is obtained. Low values point towards low intra-class similarity and high inter-class similarity"
   ]
  },
  {
   "cell_type": "code",
   "execution_count": null,
   "metadata": {},
   "outputs": [],
   "source": [
    "# reminder: silhouette coefficient is a measure of how similar an object is to its own cluster (cohesion) compared to other clusters (separation)\n",
    "# obtain the silhouette coefficient for individual classes. Low values point towards low intra-class similarity and high inter-class similarity"
   ]
  },
  {
   "cell_type": "code",
   "execution_count": 1065,
   "metadata": {},
   "outputs": [],
   "source": [
    "# Need to get the subsample of labels\n",
    "X, _, y, _ = train_test_split(lbp_train_features, train_labels, stratify=train_labels, train_size=20000, random_state=42)"
   ]
  },
  {
   "cell_type": "code",
   "execution_count": 1066,
   "metadata": {},
   "outputs": [],
   "source": [
    "# get the average silhouette values for each class\n",
    "silhouette_values = results['lbp'][0]\n",
    "\n",
    "classes = list(set(y))\n",
    "overview = pd.DataFrame(index = classes, columns = ['silhouette_coeff'])\n",
    "\n",
    "for c in classes:\n",
    "\n",
    "    overview.loc[c, 'silhouette_coeff'] = silhouette_values[y==c].mean()"
   ]
  },
  {
   "cell_type": "code",
   "execution_count": 1067,
   "metadata": {
    "scrolled": true
   },
   "outputs": [
    {
     "data": {
      "image/png": "[encoded data removed]",
      "text/plain": [
       "<Figure size 640x480 with 1 Axes>"
      ]
     },
     "metadata": {},
     "output_type": "display_data"
    }
   ],
   "source": [
    "# plot results\n",
    "# Set the ticks and labels\n",
    "x_values = overview.index\n",
    "silhouette_coeff_values = overview['silhouette_coeff']\n",
    "plt.bar(x=x_values, height=silhouette_coeff_values, edgecolor='black')\n",
    "\n",
    "\n",
    "x_labels = [str(i) for i in x_values]\n",
    "plt.xticks(x_values, x_labels)\n",
    "\n",
    "# add horizontal line\n",
    "plt.axhline(0, color='black', linestyle='-', linewidth=1)  # Customize color, linestyle, and linewidth as needed\n",
    "\n",
    "# Annotate the bars with their values\n",
    "for x, z in zip(x_values, silhouette_coeff_values):\n",
    "    if z > 0:\n",
    "        plt.text(x, z+0.0002, str(round(z, 4)), ha='center', va='bottom', fontsize=8)\n",
    "    else:\n",
    "        plt.text(x, z-0.0002, str(round(z, 4)), ha='center', va='top', fontsize=8)\n",
    "\n",
    "# Add labels and a title\n",
    "plt.xlabel('Class')\n",
    "plt.ylabel('Silhouette Coefficient')\n",
    "plt.title('Silhouette Coefficient for individual classes')\n",
    "\n",
    "plt.show()"
   ]
  },
  {
   "cell_type": "markdown",
   "metadata": {},
   "source": [
    "based on the chosen metric, the features for the classes 1 and 7 are the best (highest silhouette coefficient). The problematic classes might be class 0 and class 9 (lowest silhouette coefficient)"
   ]
  },
  {
   "cell_type": "markdown",
   "metadata": {},
   "source": [
    "# 3. Classification"
   ]
  },
  {
   "cell_type": "markdown",
   "metadata": {},
   "source": [
    "## 3.1 Use K-nearest Neighbor for classification\n",
    "\n",
    "Challenge: how to determine the best hyperparameter for k?\n",
    "Proposed solution: split the train data further into a train set and dev set. Perform a grid search: for multiple values of k train a k-NN on the train set and evaluate performance on the dev set. Choose the k with the best performance (accuracy as a evaluation metric). Based on this k train a k-NN an all training data and test generalization capabilities on the separate test set."
   ]
  },
  {
   "cell_type": "code",
   "execution_count": 437,
   "metadata": {
    "ExecuteTime": {
     "end_time": "2023-10-20T11:42:24.517949Z",
     "start_time": "2023-10-20T11:42:24.505833Z"
    }
   },
   "outputs": [],
   "source": [
    "X_train, X_test, y_train, y_test = train_test_split(lbp_train_features, train_labels, random_state=42, shuffle=True, stratify=train_labels, train_size=0.8)"
   ]
  },
  {
   "cell_type": "code",
   "execution_count": 263,
   "metadata": {
    "ExecuteTime": {
     "end_time": "2023-11-03T13:33:05.820209Z",
     "start_time": "2023-11-03T13:31:57.175701Z"
    },
    "collapsed": true
   },
   "outputs": [
    {
     "name": "stdout",
     "output_type": "stream",
     "text": [
      "k is 3\n",
      "Accuracy on train set: 0.7062707960071666\n",
      "Accuracy on valid set 0.48157248157248156\n",
      "--------------------------------------------------\n",
      "\n",
      "k is 5\n",
      "Accuracy on train set: 0.6813070557119699\n",
      "Accuracy on valid set 0.504026754026754\n",
      "--------------------------------------------------\n",
      "\n",
      "k is 10\n",
      "Accuracy on train set: 0.634792253220715\n",
      "Accuracy on valid set 0.5147420147420148\n",
      "--------------------------------------------------\n",
      "\n",
      "k is 20\n",
      "Accuracy on train set: 0.5995222250661206\n",
      "Accuracy on valid set 0.5183592683592684\n",
      "--------------------------------------------------\n",
      "\n",
      "k is 40\n",
      "Accuracy on train set: 0.5641327531780564\n",
      "Accuracy on valid set 0.5142642642642643\n",
      "--------------------------------------------------\n",
      "\n",
      "k is 60\n",
      "Accuracy on train set: 0.5431789096493473\n",
      "Accuracy on valid set 0.5004095004095004\n",
      "--------------------------------------------------\n",
      "\n",
      "k is 80\n",
      "Accuracy on train set: 0.527821858203225\n",
      "Accuracy on valid set 0.4961097461097461\n",
      "--------------------------------------------------\n",
      "\n",
      "k is 100\n",
      "Accuracy on train set: 0.516372323180616\n",
      "Accuracy on valid set 0.486008736008736\n",
      "--------------------------------------------------\n",
      "\n",
      "k is 150\n",
      "Accuracy on train set: 0.49023120894121663\n",
      "Accuracy on valid set 0.4666257166257166\n",
      "--------------------------------------------------\n",
      "\n",
      "k is 200\n",
      "Accuracy on train set: 0.472621789949663\n",
      "Accuracy on valid set 0.45236145236145237\n",
      "--------------------------------------------------\n",
      "\n",
      "k is 300\n",
      "Accuracy on train set: 0.44388704035491855\n",
      "Accuracy on valid set 0.43004368004368004\n",
      "--------------------------------------------------\n",
      "\n",
      "k is 400\n",
      "Accuracy on train set: 0.4200665472229332\n",
      "Accuracy on valid set 0.4093639093639094\n",
      "--------------------------------------------------\n",
      "\n",
      "k is 500\n",
      "Accuracy on train set: 0.4017916560020476\n",
      "Accuracy on valid set 0.39421239421239423\n",
      "--------------------------------------------------\n",
      "\n"
     ]
    }
   ],
   "source": [
    "# check performance over different k's\n",
    "# list_k = [3,5,8,10,12,15,20,30,40,50,60,80,100]\n",
    "\n",
    "list_k = [3,5,10,20,40,60,80,100,150,200,300,400,500]\n",
    "\n",
    "\n",
    "result_df = pd.DataFrame(columns=['acc_train', 'acc_valid'], index=list_k)\n",
    "\n",
    "for k in tqdm(list_k, 'fit k-NN with different values of k'):\n",
    "    # Create a k-NN classifier\n",
    "    knn = KNeighborsClassifier(n_neighbors=k, n_jobs=-1)\n",
    "\n",
    "    # Fit the classifier to the training data\n",
    "    knn.fit(X_train, y_train)\n",
    "\n",
    "    # Make predictions on the train data\n",
    "    y_pred_train = knn.predict(X_train)\n",
    "\n",
    "    # Make predictions on the validation data\n",
    "    y_pred_valid = knn.predict(X_valid)\n",
    "\n",
    "    acc_train = metrics.accuracy_score(y_train, y_pred_train)\n",
    "    acc_valid = metrics.accuracy_score(y_valid, y_pred_valid)\n",
    "\n",
    "    # Store results\n",
    "    result_df.loc[k,:] = [acc_train, acc_valid]\n",
    "\n",
    "    # print results\n",
    "    #print(f'k is {k}')\n",
    "    #print(f'Accuracy on train set: {acc_train}')\n",
    "    #print(f'Accuracy on valid set {acc_valid}')\n",
    "    #print('-'*50)\n",
    "    #print()"
   ]
  },
  {
   "cell_type": "code",
   "execution_count": 211,
   "metadata": {
    "ExecuteTime": {
     "end_time": "2023-11-03T13:34:40.729305Z",
     "start_time": "2023-11-03T13:34:40.708157Z"
    }
   },
   "outputs": [
    {
     "data": {
      "text/html": [
       "<div>\n",
       "<style scoped>\n",
       "    .dataframe tbody tr th:only-of-type {\n",
       "        vertical-align: middle;\n",
       "    }\n",
       "\n",
       "    .dataframe tbody tr th {\n",
       "        vertical-align: top;\n",
       "    }\n",
       "\n",
       "    .dataframe thead th {\n",
       "        text-align: right;\n",
       "    }\n",
       "</style>\n",
       "<table border=\"1\" class=\"dataframe\">\n",
       "  <thead>\n",
       "    <tr style=\"text-align: right;\">\n",
       "      <th></th>\n",
       "      <th>acc_train</th>\n",
       "      <th>acc_valid</th>\n",
       "    </tr>\n",
       "  </thead>\n",
       "  <tbody>\n",
       "    <tr>\n",
       "      <th>3</th>\n",
       "      <td>0.442306</td>\n",
       "      <td>0.162162</td>\n",
       "    </tr>\n",
       "    <tr>\n",
       "      <th>5</th>\n",
       "      <td>0.389069</td>\n",
       "      <td>0.16223</td>\n",
       "    </tr>\n",
       "    <tr>\n",
       "      <th>10</th>\n",
       "      <td>0.317881</td>\n",
       "      <td>0.170216</td>\n",
       "    </tr>\n",
       "    <tr>\n",
       "      <th>20</th>\n",
       "      <td>0.271824</td>\n",
       "      <td>0.178679</td>\n",
       "    </tr>\n",
       "    <tr>\n",
       "      <th>40</th>\n",
       "      <td>0.239172</td>\n",
       "      <td>0.184753</td>\n",
       "    </tr>\n",
       "    <tr>\n",
       "      <th>60</th>\n",
       "      <td>0.23049</td>\n",
       "      <td>0.1911</td>\n",
       "    </tr>\n",
       "    <tr>\n",
       "      <th>80</th>\n",
       "      <td>0.224538</td>\n",
       "      <td>0.196355</td>\n",
       "    </tr>\n",
       "    <tr>\n",
       "      <th>100</th>\n",
       "      <td>0.22032</td>\n",
       "      <td>0.198744</td>\n",
       "    </tr>\n",
       "    <tr>\n",
       "      <th>150</th>\n",
       "      <td>0.214983</td>\n",
       "      <td>0.19697</td>\n",
       "    </tr>\n",
       "    <tr>\n",
       "      <th>200</th>\n",
       "      <td>0.210983</td>\n",
       "      <td>0.198881</td>\n",
       "    </tr>\n",
       "    <tr>\n",
       "      <th>300</th>\n",
       "      <td>0.206997</td>\n",
       "      <td>0.199222</td>\n",
       "    </tr>\n",
       "    <tr>\n",
       "      <th>400</th>\n",
       "      <td>0.205086</td>\n",
       "      <td>0.198471</td>\n",
       "    </tr>\n",
       "    <tr>\n",
       "      <th>500</th>\n",
       "      <td>0.203353</td>\n",
       "      <td>0.197516</td>\n",
       "    </tr>\n",
       "  </tbody>\n",
       "</table>\n",
       "</div>"
      ],
      "text/plain": [
       "    acc_train acc_valid\n",
       "3    0.442306  0.162162\n",
       "5    0.389069   0.16223\n",
       "10   0.317881  0.170216\n",
       "20   0.271824  0.178679\n",
       "40   0.239172  0.184753\n",
       "60    0.23049    0.1911\n",
       "80   0.224538  0.196355\n",
       "100   0.22032  0.198744\n",
       "150  0.214983   0.19697\n",
       "200  0.210983  0.198881\n",
       "300  0.206997  0.199222\n",
       "400  0.205086  0.198471\n",
       "500  0.203353  0.197516"
      ]
     },
     "execution_count": 211,
     "metadata": {},
     "output_type": "execute_result"
    }
   ],
   "source": [
    "result_df"
   ]
  },
  {
   "cell_type": "code",
   "execution_count": 106,
   "metadata": {
    "ExecuteTime": {
     "end_time": "2023-11-03T13:14:21.252188Z",
     "start_time": "2023-11-03T13:14:21.072937Z"
    }
   },
   "outputs": [],
   "source": [
    "# calculate the error as 1-accuracy\n",
    "sorted_df = (1-result_df).astype(float).copy()\n",
    "\n",
    "# select the k which leads to the best values\n",
    "best_k = sorted_df['acc_valid'].idxmin()"
   ]
  },
  {
   "cell_type": "markdown",
   "metadata": {},
   "source": [
    "plot the error for different values of k and select the one with the lowest error"
   ]
  },
  {
   "cell_type": "code",
   "execution_count": 102,
   "metadata": {
    "ExecuteTime": {
     "end_time": "2023-10-20T15:05:19.618459Z",
     "start_time": "2023-10-20T15:05:19.466821Z"
    }
   },
   "outputs": [
    {
     "data": {
      "image/png": "[encoded data removed]",
      "text/plain": [
       "<Figure size 640x480 with 1 Axes>"
      ]
     },
     "metadata": {},
     "output_type": "display_data"
    }
   ],
   "source": [
    "fig, ax1 = plt.subplots(1, 1)\n",
    "\n",
    "# Plot 'acc_test' and 'acc_train' with labels\n",
    "ax1.plot(sorted_df.index, sorted_df['acc_valid'], marker=\"o\", label='Valid Error')\n",
    "ax1.plot(sorted_df.index, sorted_df['acc_train'], marker=\"o\", label='Train Error')\n",
    "\n",
    "# Invert the x-axis\n",
    "ax1.invert_xaxis()\n",
    "\n",
    "# Add a legend\n",
    "ax1.legend()\n",
    "\n",
    "# Add x-axis and y-axis labels\n",
    "ax1.set_xlabel('Complexity (n_neighbors)')\n",
    "ax1.set_ylabel('Error')\n",
    "\n",
    "# Set the y-axis to a log scale\n",
    "ax1.set_xscale('log')\n",
    "\n",
    "min_index = sorted_df['acc_valid'].idxmin()\n",
    "# Add a vertical red bar at the index of the smallest entry\n",
    "ax1.axvline(x=min_index, color='red', linestyle='--', label='Smallest Entry')\n",
    "\n",
    "# Show the plot\n",
    "plt.show()"
   ]
  },
  {
   "cell_type": "code",
   "execution_count": null,
   "metadata": {},
   "outputs": [],
   "source": [
    "X_train, X_test, y_train, y_test = lbp_train_features, lbp_test_features, train_labels, test_labels"
   ]
  },
  {
   "cell_type": "code",
   "execution_count": 41,
   "metadata": {
    "ExecuteTime": {
     "end_time": "2023-11-03T12:37:20.213746Z",
     "start_time": "2023-11-03T12:37:20.207879Z"
    }
   },
   "outputs": [],
   "source": [
    "# train k-NN with the best number for k\n",
    "\n",
    "# Create a k-NN classifier\n",
    "knn = KNeighborsClassifier(n_neighbors=best_k, n_jobs=-1)\n",
    "\n",
    "# Fit the classifier to the training data\n",
    "knn.fit(X_train, y_train)\n",
    "\n",
    "# Make predictions on the train data\n",
    "y_pred_train = knn.predict(X_train)\n",
    "\n",
    "# Make predictions on the test data\n",
    "y_pred_test = knn.predict(X_test)"
   ]
  },
  {
   "cell_type": "code",
   "execution_count": 90,
   "metadata": {
    "ExecuteTime": {
     "end_time": "2023-11-03T13:00:44.113404Z",
     "start_time": "2023-11-03T13:00:41.155744Z"
    }
   },
   "outputs": [],
   "source": [
    "acc_train = metrics.accuracy_score(y_train, y_pred_train)\n",
    "acc_test = metrics.accuracy_score(y_test, y_pred_test)\n",
    "\n",
    "print(f'Accuracy on train set: {acc_train}')\n",
    "print(f'Accuracy on test set {acc_test}')"
   ]
  },
  {
   "cell_type": "markdown",
   "metadata": {},
   "source": [
    "## 3.2 Use linear discriminant functions for classification"
   ]
  },
  {
   "cell_type": "markdown",
   "metadata": {
    "heading_collapsed": true
   },
   "source": [
    "## Functions"
   ]
  },
  {
   "cell_type": "code",
   "execution_count": 1448,
   "metadata": {
    "hidden": true
   },
   "outputs": [],
   "source": [
    "def train_tune_test(model, param_grid, X_train, y_train, X_test, y_test, cv=4):\n",
    "    \n",
    "    # Set up the grid search with 4-fold cross-validation\n",
    "    grid_search = GridSearchCV(model, param_grid, cv=cv, n_jobs=-1, verbose=1)\n",
    "\n",
    "    # Fit the grid search model\n",
    "    grid_search.fit(X_train, y_train)\n",
    "\n",
    "    # Output the best parameters and the corresponding score\n",
    "    best_params = grid_search.best_params_\n",
    "    model = grid_search.best_estimator_\n",
    "    valid_acc = grid_search.best_score_\n",
    "\n",
    "    # Check the accuracy on the train data\n",
    "    y_pred = model.predict(X_train)\n",
    "    train_acc = metrics.accuracy_score(y_train, y_pred)\n",
    "    \n",
    "    # Check the accuracy on the test data\n",
    "    y_pred = model.predict(X_test)\n",
    "    test_acc = metrics.accuracy_score(y_test, y_pred)\n",
    "    \n",
    "    print()\n",
    "    print()\n",
    "    print(f'accuracy on train set: {np.round(train_acc, 3)}')\n",
    "    print(f'accuracy on validation set: {np.round(valid_acc, 3)}')\n",
    "    print(f'accuracy on test set: {np.round(test_acc, 3)}')\n",
    "\n",
    "    return model "
   ]
  },
  {
   "cell_type": "markdown",
   "metadata": {},
   "source": [
    "## Relevant Section"
   ]
  },
  {
   "cell_type": "markdown",
   "metadata": {},
   "source": [
    "Chosen classifiers:\n",
    "I use Linear Discriminant Analysis, Logistic Regression and Support Vector Machines. \n",
    "I get non-linear transformation of the features by using SVC with a rbf-Kernel\n",
    "\n",
    "Hyperparameter selection: \n",
    "For each model I select the hyperparameter based on a grid search with k-fold cross validation. For that reason I don't observe any overfitting. I have reported, training, validation and test accuracy."
   ]
  },
  {
   "cell_type": "markdown",
   "metadata": {},
   "source": [
    "### 3.2.1 Linear Discriminant Analysis"
   ]
  },
  {
   "cell_type": "code",
   "execution_count": 1451,
   "metadata": {},
   "outputs": [
    {
     "name": "stdout",
     "output_type": "stream",
     "text": [
      "Fitting 4 folds for each of 13 candidates, totalling 52 fits\n",
      "\n",
      "\n",
      "accuracy on train set: 0.308\n",
      "accuracy on validation set: 0.306\n",
      "accuracy on test set: 0.328\n"
     ]
    }
   ],
   "source": [
    "# Define a grid of hyperparameters to search over, with separate entries for different solvers\n",
    "param_grid = [\n",
    "    {'solver': ['svd']},\n",
    "    {'solver': ['lsqr', 'eigen'], 'shrinkage': [None, 'auto', 0.1, 0.01, 0.001, 0.0001]}\n",
    "]\n",
    "\n",
    "model = train_tune_test(LinearDiscriminantAnalysis(), param_grid, X_train, y_train, X_test, y_test, cv=4)"
   ]
  },
  {
   "cell_type": "markdown",
   "metadata": {},
   "source": [
    "### 3.2.2 Logistic regression"
   ]
  },
  {
   "cell_type": "markdown",
   "metadata": {},
   "source": [
    "here I am using a Grid Search cross validation to find the optimal hyperparameter"
   ]
  },
  {
   "cell_type": "code",
   "execution_count": 1452,
   "metadata": {},
   "outputs": [
    {
     "name": "stdout",
     "output_type": "stream",
     "text": [
      "Fitting 4 folds for each of 24 candidates, totalling 96 fits\n",
      "\n",
      "\n",
      "accuracy on train set: 0.31\n",
      "accuracy on validation set: 0.309\n",
      "accuracy on test set: 0.329\n"
     ]
    }
   ],
   "source": [
    "param_grid = {\n",
    "    'C': [0.001, 0.01, 0.1, 1, 10, 100],  # Regularization strength\n",
    "    #'logistic_regression__penalty': ['l1', 'l2'],  # Type of regularization, commented this because not all the solvers are compatible with l1 and l2\n",
    "    'solver': ['newton-cg', 'lbfgs', 'sag', 'saga']  # Solver \n",
    "}\n",
    "\n",
    "model = train_tune_test(LogisticRegression(), param_grid, X_train, y_train, X_test, y_test, cv=4)"
   ]
  },
  {
   "cell_type": "markdown",
   "metadata": {},
   "source": [
    "### 3.2.3 Support vector machine"
   ]
  },
  {
   "cell_type": "code",
   "execution_count": 1453,
   "metadata": {},
   "outputs": [
    {
     "name": "stdout",
     "output_type": "stream",
     "text": [
      "Fitting 4 folds for each of 12 candidates, totalling 48 fits\n"
     ]
    },
    {
     "ename": "KeyboardInterrupt",
     "evalue": "",
     "output_type": "error",
     "traceback": [
      "\u001b[0;31m---------------------------------------------------------------------------\u001b[0m",
      "\u001b[0;31mKeyboardInterrupt\u001b[0m                         Traceback (most recent call last)",
      "Cell \u001b[0;32mIn[1453], line 7\u001b[0m\n\u001b[1;32m      1\u001b[0m param_grid \u001b[38;5;241m=\u001b[39m {\n\u001b[1;32m      2\u001b[0m     \u001b[38;5;124m'\u001b[39m\u001b[38;5;124mC\u001b[39m\u001b[38;5;124m'\u001b[39m: [\u001b[38;5;241m0.001\u001b[39m, \u001b[38;5;241m0.01\u001b[39m, \u001b[38;5;241m0.1\u001b[39m, \u001b[38;5;241m1\u001b[39m, \u001b[38;5;241m10\u001b[39m, \u001b[38;5;241m100\u001b[39m],  \u001b[38;5;66;03m# Regularization strength\u001b[39;00m\n\u001b[1;32m      3\u001b[0m     \u001b[38;5;124m'\u001b[39m\u001b[38;5;124mkernel\u001b[39m\u001b[38;5;124m'\u001b[39m: [\u001b[38;5;124m'\u001b[39m\u001b[38;5;124mlinear\u001b[39m\u001b[38;5;124m'\u001b[39m, \u001b[38;5;124m'\u001b[39m\u001b[38;5;124mrbf\u001b[39m\u001b[38;5;124m'\u001b[39m,],  \u001b[38;5;66;03m# Types of kernels\u001b[39;00m\n\u001b[1;32m      4\u001b[0m     \u001b[38;5;124m'\u001b[39m\u001b[38;5;124mgamma\u001b[39m\u001b[38;5;124m'\u001b[39m: [\u001b[38;5;124m'\u001b[39m\u001b[38;5;124mauto\u001b[39m\u001b[38;5;124m'\u001b[39m],  \u001b[38;5;66;03m# Kernel coefficient\u001b[39;00m\n\u001b[1;32m      5\u001b[0m }\n\u001b[0;32m----> 7\u001b[0m grid_search, best_params, best_score \u001b[38;5;241m=\u001b[39m \u001b[43mtrain_tune\u001b[49m\u001b[43m(\u001b[49m\u001b[43mSVC\u001b[49m\u001b[43m(\u001b[49m\u001b[43m)\u001b[49m\u001b[43m,\u001b[49m\u001b[43m \u001b[49m\u001b[43mparam_grid\u001b[49m\u001b[43m,\u001b[49m\u001b[43m \u001b[49m\u001b[43mX_train\u001b[49m\u001b[43m,\u001b[49m\u001b[43m \u001b[49m\u001b[43my_train\u001b[49m\u001b[43m,\u001b[49m\u001b[43m \u001b[49m\u001b[43mcv\u001b[49m\u001b[38;5;241;43m=\u001b[39;49m\u001b[38;5;241;43m4\u001b[39;49m\u001b[43m)\u001b[49m\n",
      "Cell \u001b[0;32mIn[1430], line 7\u001b[0m, in \u001b[0;36mtrain_tune\u001b[0;34m(model, param_grid, X_train, y_train, cv)\u001b[0m\n\u001b[1;32m      4\u001b[0m grid_search \u001b[38;5;241m=\u001b[39m GridSearchCV(model, param_grid, cv\u001b[38;5;241m=\u001b[39mcv, n_jobs\u001b[38;5;241m=\u001b[39m\u001b[38;5;241m-\u001b[39m\u001b[38;5;241m1\u001b[39m, verbose\u001b[38;5;241m=\u001b[39m\u001b[38;5;241m1\u001b[39m)\n\u001b[1;32m      6\u001b[0m \u001b[38;5;66;03m# Fit the grid search model\u001b[39;00m\n\u001b[0;32m----> 7\u001b[0m \u001b[43mgrid_search\u001b[49m\u001b[38;5;241;43m.\u001b[39;49m\u001b[43mfit\u001b[49m\u001b[43m(\u001b[49m\u001b[43mX_train\u001b[49m\u001b[43m,\u001b[49m\u001b[43m \u001b[49m\u001b[43my_train\u001b[49m\u001b[43m)\u001b[49m\n\u001b[1;32m      9\u001b[0m \u001b[38;5;66;03m# Output the best parameters and the corresponding score\u001b[39;00m\n\u001b[1;32m     10\u001b[0m best_params \u001b[38;5;241m=\u001b[39m grid_search\u001b[38;5;241m.\u001b[39mbest_params_\n",
      "File \u001b[0;32m~/miniforge3/envs/aiss_env/lib/python3.9/site-packages/sklearn/base.py:1151\u001b[0m, in \u001b[0;36m_fit_context.<locals>.decorator.<locals>.wrapper\u001b[0;34m(estimator, *args, **kwargs)\u001b[0m\n\u001b[1;32m   1144\u001b[0m     estimator\u001b[38;5;241m.\u001b[39m_validate_params()\n\u001b[1;32m   1146\u001b[0m \u001b[38;5;28;01mwith\u001b[39;00m config_context(\n\u001b[1;32m   1147\u001b[0m     skip_parameter_validation\u001b[38;5;241m=\u001b[39m(\n\u001b[1;32m   1148\u001b[0m         prefer_skip_nested_validation \u001b[38;5;129;01mor\u001b[39;00m global_skip_validation\n\u001b[1;32m   1149\u001b[0m     )\n\u001b[1;32m   1150\u001b[0m ):\n\u001b[0;32m-> 1151\u001b[0m     \u001b[38;5;28;01mreturn\u001b[39;00m \u001b[43mfit_method\u001b[49m\u001b[43m(\u001b[49m\u001b[43mestimator\u001b[49m\u001b[43m,\u001b[49m\u001b[43m \u001b[49m\u001b[38;5;241;43m*\u001b[39;49m\u001b[43margs\u001b[49m\u001b[43m,\u001b[49m\u001b[43m \u001b[49m\u001b[38;5;241;43m*\u001b[39;49m\u001b[38;5;241;43m*\u001b[39;49m\u001b[43mkwargs\u001b[49m\u001b[43m)\u001b[49m\n",
      "File \u001b[0;32m~/miniforge3/envs/aiss_env/lib/python3.9/site-packages/sklearn/model_selection/_search.py:898\u001b[0m, in \u001b[0;36mBaseSearchCV.fit\u001b[0;34m(self, X, y, groups, **fit_params)\u001b[0m\n\u001b[1;32m    892\u001b[0m     results \u001b[38;5;241m=\u001b[39m \u001b[38;5;28mself\u001b[39m\u001b[38;5;241m.\u001b[39m_format_results(\n\u001b[1;32m    893\u001b[0m         all_candidate_params, n_splits, all_out, all_more_results\n\u001b[1;32m    894\u001b[0m     )\n\u001b[1;32m    896\u001b[0m     \u001b[38;5;28;01mreturn\u001b[39;00m results\n\u001b[0;32m--> 898\u001b[0m \u001b[38;5;28;43mself\u001b[39;49m\u001b[38;5;241;43m.\u001b[39;49m\u001b[43m_run_search\u001b[49m\u001b[43m(\u001b[49m\u001b[43mevaluate_candidates\u001b[49m\u001b[43m)\u001b[49m\n\u001b[1;32m    900\u001b[0m \u001b[38;5;66;03m# multimetric is determined here because in the case of a callable\u001b[39;00m\n\u001b[1;32m    901\u001b[0m \u001b[38;5;66;03m# self.scoring the return type is only known after calling\u001b[39;00m\n\u001b[1;32m    902\u001b[0m first_test_score \u001b[38;5;241m=\u001b[39m all_out[\u001b[38;5;241m0\u001b[39m][\u001b[38;5;124m\"\u001b[39m\u001b[38;5;124mtest_scores\u001b[39m\u001b[38;5;124m\"\u001b[39m]\n",
      "File \u001b[0;32m~/miniforge3/envs/aiss_env/lib/python3.9/site-packages/sklearn/model_selection/_search.py:1419\u001b[0m, in \u001b[0;36mGridSearchCV._run_search\u001b[0;34m(self, evaluate_candidates)\u001b[0m\n\u001b[1;32m   1417\u001b[0m \u001b[38;5;28;01mdef\u001b[39;00m \u001b[38;5;21m_run_search\u001b[39m(\u001b[38;5;28mself\u001b[39m, evaluate_candidates):\n\u001b[1;32m   1418\u001b[0m \u001b[38;5;250m    \u001b[39m\u001b[38;5;124;03m\"\"\"Search all candidates in param_grid\"\"\"\u001b[39;00m\n\u001b[0;32m-> 1419\u001b[0m     \u001b[43mevaluate_candidates\u001b[49m\u001b[43m(\u001b[49m\u001b[43mParameterGrid\u001b[49m\u001b[43m(\u001b[49m\u001b[38;5;28;43mself\u001b[39;49m\u001b[38;5;241;43m.\u001b[39;49m\u001b[43mparam_grid\u001b[49m\u001b[43m)\u001b[49m\u001b[43m)\u001b[49m\n",
      "File \u001b[0;32m~/miniforge3/envs/aiss_env/lib/python3.9/site-packages/sklearn/model_selection/_search.py:845\u001b[0m, in \u001b[0;36mBaseSearchCV.fit.<locals>.evaluate_candidates\u001b[0;34m(candidate_params, cv, more_results)\u001b[0m\n\u001b[1;32m    837\u001b[0m \u001b[38;5;28;01mif\u001b[39;00m \u001b[38;5;28mself\u001b[39m\u001b[38;5;241m.\u001b[39mverbose \u001b[38;5;241m>\u001b[39m \u001b[38;5;241m0\u001b[39m:\n\u001b[1;32m    838\u001b[0m     \u001b[38;5;28mprint\u001b[39m(\n\u001b[1;32m    839\u001b[0m         \u001b[38;5;124m\"\u001b[39m\u001b[38;5;124mFitting \u001b[39m\u001b[38;5;132;01m{0}\u001b[39;00m\u001b[38;5;124m folds for each of \u001b[39m\u001b[38;5;132;01m{1}\u001b[39;00m\u001b[38;5;124m candidates,\u001b[39m\u001b[38;5;124m\"\u001b[39m\n\u001b[1;32m    840\u001b[0m         \u001b[38;5;124m\"\u001b[39m\u001b[38;5;124m totalling \u001b[39m\u001b[38;5;132;01m{2}\u001b[39;00m\u001b[38;5;124m fits\u001b[39m\u001b[38;5;124m\"\u001b[39m\u001b[38;5;241m.\u001b[39mformat(\n\u001b[1;32m    841\u001b[0m             n_splits, n_candidates, n_candidates \u001b[38;5;241m*\u001b[39m n_splits\n\u001b[1;32m    842\u001b[0m         )\n\u001b[1;32m    843\u001b[0m     )\n\u001b[0;32m--> 845\u001b[0m out \u001b[38;5;241m=\u001b[39m \u001b[43mparallel\u001b[49m\u001b[43m(\u001b[49m\n\u001b[1;32m    846\u001b[0m \u001b[43m    \u001b[49m\u001b[43mdelayed\u001b[49m\u001b[43m(\u001b[49m\u001b[43m_fit_and_score\u001b[49m\u001b[43m)\u001b[49m\u001b[43m(\u001b[49m\n\u001b[1;32m    847\u001b[0m \u001b[43m        \u001b[49m\u001b[43mclone\u001b[49m\u001b[43m(\u001b[49m\u001b[43mbase_estimator\u001b[49m\u001b[43m)\u001b[49m\u001b[43m,\u001b[49m\n\u001b[1;32m    848\u001b[0m \u001b[43m        \u001b[49m\u001b[43mX\u001b[49m\u001b[43m,\u001b[49m\n\u001b[1;32m    849\u001b[0m \u001b[43m        \u001b[49m\u001b[43my\u001b[49m\u001b[43m,\u001b[49m\n\u001b[1;32m    850\u001b[0m \u001b[43m        \u001b[49m\u001b[43mtrain\u001b[49m\u001b[38;5;241;43m=\u001b[39;49m\u001b[43mtrain\u001b[49m\u001b[43m,\u001b[49m\n\u001b[1;32m    851\u001b[0m \u001b[43m        \u001b[49m\u001b[43mtest\u001b[49m\u001b[38;5;241;43m=\u001b[39;49m\u001b[43mtest\u001b[49m\u001b[43m,\u001b[49m\n\u001b[1;32m    852\u001b[0m \u001b[43m        \u001b[49m\u001b[43mparameters\u001b[49m\u001b[38;5;241;43m=\u001b[39;49m\u001b[43mparameters\u001b[49m\u001b[43m,\u001b[49m\n\u001b[1;32m    853\u001b[0m \u001b[43m        \u001b[49m\u001b[43msplit_progress\u001b[49m\u001b[38;5;241;43m=\u001b[39;49m\u001b[43m(\u001b[49m\u001b[43msplit_idx\u001b[49m\u001b[43m,\u001b[49m\u001b[43m \u001b[49m\u001b[43mn_splits\u001b[49m\u001b[43m)\u001b[49m\u001b[43m,\u001b[49m\n\u001b[1;32m    854\u001b[0m \u001b[43m        \u001b[49m\u001b[43mcandidate_progress\u001b[49m\u001b[38;5;241;43m=\u001b[39;49m\u001b[43m(\u001b[49m\u001b[43mcand_idx\u001b[49m\u001b[43m,\u001b[49m\u001b[43m \u001b[49m\u001b[43mn_candidates\u001b[49m\u001b[43m)\u001b[49m\u001b[43m,\u001b[49m\n\u001b[1;32m    855\u001b[0m \u001b[43m        \u001b[49m\u001b[38;5;241;43m*\u001b[39;49m\u001b[38;5;241;43m*\u001b[39;49m\u001b[43mfit_and_score_kwargs\u001b[49m\u001b[43m,\u001b[49m\n\u001b[1;32m    856\u001b[0m \u001b[43m    \u001b[49m\u001b[43m)\u001b[49m\n\u001b[1;32m    857\u001b[0m \u001b[43m    \u001b[49m\u001b[38;5;28;43;01mfor\u001b[39;49;00m\u001b[43m \u001b[49m\u001b[43m(\u001b[49m\u001b[43mcand_idx\u001b[49m\u001b[43m,\u001b[49m\u001b[43m \u001b[49m\u001b[43mparameters\u001b[49m\u001b[43m)\u001b[49m\u001b[43m,\u001b[49m\u001b[43m \u001b[49m\u001b[43m(\u001b[49m\u001b[43msplit_idx\u001b[49m\u001b[43m,\u001b[49m\u001b[43m \u001b[49m\u001b[43m(\u001b[49m\u001b[43mtrain\u001b[49m\u001b[43m,\u001b[49m\u001b[43m \u001b[49m\u001b[43mtest\u001b[49m\u001b[43m)\u001b[49m\u001b[43m)\u001b[49m\u001b[43m \u001b[49m\u001b[38;5;129;43;01min\u001b[39;49;00m\u001b[43m \u001b[49m\u001b[43mproduct\u001b[49m\u001b[43m(\u001b[49m\n\u001b[1;32m    858\u001b[0m \u001b[43m        \u001b[49m\u001b[38;5;28;43menumerate\u001b[39;49m\u001b[43m(\u001b[49m\u001b[43mcandidate_params\u001b[49m\u001b[43m)\u001b[49m\u001b[43m,\u001b[49m\u001b[43m \u001b[49m\u001b[38;5;28;43menumerate\u001b[39;49m\u001b[43m(\u001b[49m\u001b[43mcv\u001b[49m\u001b[38;5;241;43m.\u001b[39;49m\u001b[43msplit\u001b[49m\u001b[43m(\u001b[49m\u001b[43mX\u001b[49m\u001b[43m,\u001b[49m\u001b[43m \u001b[49m\u001b[43my\u001b[49m\u001b[43m,\u001b[49m\u001b[43m \u001b[49m\u001b[43mgroups\u001b[49m\u001b[43m)\u001b[49m\u001b[43m)\u001b[49m\n\u001b[1;32m    859\u001b[0m \u001b[43m    \u001b[49m\u001b[43m)\u001b[49m\n\u001b[1;32m    860\u001b[0m \u001b[43m\u001b[49m\u001b[43m)\u001b[49m\n\u001b[1;32m    862\u001b[0m \u001b[38;5;28;01mif\u001b[39;00m \u001b[38;5;28mlen\u001b[39m(out) \u001b[38;5;241m<\u001b[39m \u001b[38;5;241m1\u001b[39m:\n\u001b[1;32m    863\u001b[0m     \u001b[38;5;28;01mraise\u001b[39;00m \u001b[38;5;167;01mValueError\u001b[39;00m(\n\u001b[1;32m    864\u001b[0m         \u001b[38;5;124m\"\u001b[39m\u001b[38;5;124mNo fits were performed. \u001b[39m\u001b[38;5;124m\"\u001b[39m\n\u001b[1;32m    865\u001b[0m         \u001b[38;5;124m\"\u001b[39m\u001b[38;5;124mWas the CV iterator empty? \u001b[39m\u001b[38;5;124m\"\u001b[39m\n\u001b[1;32m    866\u001b[0m         \u001b[38;5;124m\"\u001b[39m\u001b[38;5;124mWere there no candidates?\u001b[39m\u001b[38;5;124m\"\u001b[39m\n\u001b[1;32m    867\u001b[0m     )\n",
      "File \u001b[0;32m~/miniforge3/envs/aiss_env/lib/python3.9/site-packages/sklearn/utils/parallel.py:65\u001b[0m, in \u001b[0;36mParallel.__call__\u001b[0;34m(self, iterable)\u001b[0m\n\u001b[1;32m     60\u001b[0m config \u001b[38;5;241m=\u001b[39m get_config()\n\u001b[1;32m     61\u001b[0m iterable_with_config \u001b[38;5;241m=\u001b[39m (\n\u001b[1;32m     62\u001b[0m     (_with_config(delayed_func, config), args, kwargs)\n\u001b[1;32m     63\u001b[0m     \u001b[38;5;28;01mfor\u001b[39;00m delayed_func, args, kwargs \u001b[38;5;129;01min\u001b[39;00m iterable\n\u001b[1;32m     64\u001b[0m )\n\u001b[0;32m---> 65\u001b[0m \u001b[38;5;28;01mreturn\u001b[39;00m \u001b[38;5;28;43msuper\u001b[39;49m\u001b[43m(\u001b[49m\u001b[43m)\u001b[49m\u001b[38;5;241;43m.\u001b[39;49m\u001b[38;5;21;43m__call__\u001b[39;49m\u001b[43m(\u001b[49m\u001b[43miterable_with_config\u001b[49m\u001b[43m)\u001b[49m\n",
      "File \u001b[0;32m~/miniforge3/envs/aiss_env/lib/python3.9/site-packages/joblib/parallel.py:1944\u001b[0m, in \u001b[0;36mParallel.__call__\u001b[0;34m(self, iterable)\u001b[0m\n\u001b[1;32m   1938\u001b[0m \u001b[38;5;66;03m# The first item from the output is blank, but it makes the interpreter\u001b[39;00m\n\u001b[1;32m   1939\u001b[0m \u001b[38;5;66;03m# progress until it enters the Try/Except block of the generator and\u001b[39;00m\n\u001b[1;32m   1940\u001b[0m \u001b[38;5;66;03m# reach the first `yield` statement. This starts the aynchronous\u001b[39;00m\n\u001b[1;32m   1941\u001b[0m \u001b[38;5;66;03m# dispatch of the tasks to the workers.\u001b[39;00m\n\u001b[1;32m   1942\u001b[0m \u001b[38;5;28mnext\u001b[39m(output)\n\u001b[0;32m-> 1944\u001b[0m \u001b[38;5;28;01mreturn\u001b[39;00m output \u001b[38;5;28;01mif\u001b[39;00m \u001b[38;5;28mself\u001b[39m\u001b[38;5;241m.\u001b[39mreturn_generator \u001b[38;5;28;01melse\u001b[39;00m \u001b[38;5;28;43mlist\u001b[39;49m\u001b[43m(\u001b[49m\u001b[43moutput\u001b[49m\u001b[43m)\u001b[49m\n",
      "File \u001b[0;32m~/miniforge3/envs/aiss_env/lib/python3.9/site-packages/joblib/parallel.py:1587\u001b[0m, in \u001b[0;36mParallel._get_outputs\u001b[0;34m(self, iterator, pre_dispatch)\u001b[0m\n\u001b[1;32m   1584\u001b[0m     \u001b[38;5;28;01myield\u001b[39;00m\n\u001b[1;32m   1586\u001b[0m     \u001b[38;5;28;01mwith\u001b[39;00m \u001b[38;5;28mself\u001b[39m\u001b[38;5;241m.\u001b[39m_backend\u001b[38;5;241m.\u001b[39mretrieval_context():\n\u001b[0;32m-> 1587\u001b[0m         \u001b[38;5;28;01myield from\u001b[39;00m \u001b[38;5;28mself\u001b[39m\u001b[38;5;241m.\u001b[39m_retrieve()\n\u001b[1;32m   1589\u001b[0m \u001b[38;5;28;01mexcept\u001b[39;00m \u001b[38;5;167;01mGeneratorExit\u001b[39;00m:\n\u001b[1;32m   1590\u001b[0m     \u001b[38;5;66;03m# The generator has been garbage collected before being fully\u001b[39;00m\n\u001b[1;32m   1591\u001b[0m     \u001b[38;5;66;03m# consumed. This aborts the remaining tasks if possible and warn\u001b[39;00m\n\u001b[1;32m   1592\u001b[0m     \u001b[38;5;66;03m# the user if necessary.\u001b[39;00m\n\u001b[1;32m   1593\u001b[0m     \u001b[38;5;28mself\u001b[39m\u001b[38;5;241m.\u001b[39m_exception \u001b[38;5;241m=\u001b[39m \u001b[38;5;28;01mTrue\u001b[39;00m\n",
      "File \u001b[0;32m~/miniforge3/envs/aiss_env/lib/python3.9/site-packages/joblib/parallel.py:1699\u001b[0m, in \u001b[0;36mParallel._retrieve\u001b[0;34m(self)\u001b[0m\n\u001b[1;32m   1694\u001b[0m \u001b[38;5;66;03m# If the next job is not ready for retrieval yet, we just wait for\u001b[39;00m\n\u001b[1;32m   1695\u001b[0m \u001b[38;5;66;03m# async callbacks to progress.\u001b[39;00m\n\u001b[1;32m   1696\u001b[0m \u001b[38;5;28;01mif\u001b[39;00m ((\u001b[38;5;28mlen\u001b[39m(\u001b[38;5;28mself\u001b[39m\u001b[38;5;241m.\u001b[39m_jobs) \u001b[38;5;241m==\u001b[39m \u001b[38;5;241m0\u001b[39m) \u001b[38;5;129;01mor\u001b[39;00m\n\u001b[1;32m   1697\u001b[0m     (\u001b[38;5;28mself\u001b[39m\u001b[38;5;241m.\u001b[39m_jobs[\u001b[38;5;241m0\u001b[39m]\u001b[38;5;241m.\u001b[39mget_status(\n\u001b[1;32m   1698\u001b[0m         timeout\u001b[38;5;241m=\u001b[39m\u001b[38;5;28mself\u001b[39m\u001b[38;5;241m.\u001b[39mtimeout) \u001b[38;5;241m==\u001b[39m TASK_PENDING)):\n\u001b[0;32m-> 1699\u001b[0m     \u001b[43mtime\u001b[49m\u001b[38;5;241;43m.\u001b[39;49m\u001b[43msleep\u001b[49m\u001b[43m(\u001b[49m\u001b[38;5;241;43m0.01\u001b[39;49m\u001b[43m)\u001b[49m\n\u001b[1;32m   1700\u001b[0m     \u001b[38;5;28;01mcontinue\u001b[39;00m\n\u001b[1;32m   1702\u001b[0m \u001b[38;5;66;03m# We need to be careful: the job list can be filling up as\u001b[39;00m\n\u001b[1;32m   1703\u001b[0m \u001b[38;5;66;03m# we empty it and Python list are not thread-safe by\u001b[39;00m\n\u001b[1;32m   1704\u001b[0m \u001b[38;5;66;03m# default hence the use of the lock\u001b[39;00m\n",
      "\u001b[0;31mKeyboardInterrupt\u001b[0m: "
     ]
    }
   ],
   "source": [
    "param_grid = {\n",
    "    'C': [0.001, 0.01, 0.1, 1, 10, 100],  # Regularization strength\n",
    "    'kernel': ['linear', 'rbf',],  # Types of kernels\n",
    "    'gamma': ['auto'],  # Kernel coefficient\n",
    "}\n",
    "\n",
    "grid_search, best_params, best_score = train_tune(SVC(), param_grid, X_train, y_train, cv=4)"
   ]
  },
  {
   "cell_type": "markdown",
   "metadata": {},
   "source": [
    "## 3.3 Do you observe any overfitting/underfitting?"
   ]
  },
  {
   "cell_type": "markdown",
   "metadata": {},
   "source": [
    "I did not oberserve underfitting/overfitting because I used k-fold cross validation to select the best hyperparameter from the beginning. In the HP I applied regularization."
   ]
  },
  {
   "cell_type": "code",
   "execution_count": null,
   "metadata": {},
   "outputs": [],
   "source": [
    "# however, to not keep this section empty I visualized for k-NN the influence of k-NN for different values of k"
   ]
  },
  {
   "cell_type": "code",
   "execution_count": null,
   "metadata": {},
   "outputs": [],
   "source": []
  },
  {
   "cell_type": "code",
   "execution_count": null,
   "metadata": {},
   "outputs": [],
   "source": []
  },
  {
   "cell_type": "code",
   "execution_count": null,
   "metadata": {},
   "outputs": [],
   "source": []
  },
  {
   "cell_type": "markdown",
   "metadata": {},
   "source": [
    "# 4. Metric Learning"
   ]
  },
  {
   "cell_type": "markdown",
   "metadata": {},
   "source": [
    "## Functions"
   ]
  },
  {
   "cell_type": "code",
   "execution_count": 1413,
   "metadata": {},
   "outputs": [],
   "source": [
    "def initialize_values(size):\n",
    "    # define weight matrix and bias\n",
    "    #L = torch.randn(size, size, requires_grad=True)\n",
    "    \n",
    "    L = torch.ones(size, size, requires_grad=True)\n",
    "    \n",
    "    b = torch.randn(1, requires_grad=True)\n",
    "    \n",
    "    return L, b"
   ]
  },
  {
   "cell_type": "code",
   "execution_count": 1414,
   "metadata": {},
   "outputs": [],
   "source": [
    "def forward(X, L, b):\n",
    "    \n",
    "    # Ensure L is lower triangular\n",
    "    L_lower_triangular = torch.tril(L)\n",
    "\n",
    "    # Compute W as L * L^T to ensure W is PSD\n",
    "    W = torch.mm(L_lower_triangular, L_lower_triangular.t())\n",
    "\n",
    "    X_trans = torch.matmul(X, W) + b\n",
    "    \n",
    "    return X_trans"
   ]
  },
  {
   "cell_type": "code",
   "execution_count": 1415,
   "metadata": {},
   "outputs": [],
   "source": [
    "def loss_function(distances, label_matrix, margin = 10):\n",
    "    \n",
    "    # if two samples from different classes are closer together than the margin -> penalize it\n",
    "    \n",
    "    # Calculate the loss for different classes, where only positive parts contribute to the loss. \n",
    "    similar_class_loss = (label_matrix * distances).sum() \n",
    "\n",
    "    # The margin is defined for penalizing instances if samples of two different classes are closer together than the margin\n",
    "    different_class_loss = ((1 - label_matrix)*torch.clamp(margin - distances, min=0)).sum()\n",
    "\n",
    "    # Total loss is the sum of the two parts\n",
    "    loss = similar_class_loss + different_class_loss\n",
    "    \n",
    "    # For comparability scale the loss\n",
    "    loss = loss / label_matrix.numel()\n",
    "    \n",
    "    return loss"
   ]
  },
  {
   "cell_type": "code",
   "execution_count": 1416,
   "metadata": {},
   "outputs": [],
   "source": [
    "# update w and b. Use a simple gradient descent\n",
    "def update(L, b, lr):\n",
    "    \n",
    "    with torch.no_grad():\n",
    "        L -= lr * L.grad\n",
    "        b -= lr * b.grad\n",
    "    \n",
    "        L.grad.zero_()\n",
    "        b.grad.zero_()\n",
    "    \n",
    "    return L, b"
   ]
  },
  {
   "cell_type": "code",
   "execution_count": 1419,
   "metadata": {},
   "outputs": [],
   "source": [
    "def learn_metric(L, b, dl_train, dl_valid, lr, num_epochs, margin, early_stopping):\n",
    "\n",
    "    i = 0\n",
    "    train_loss_list = []\n",
    "    val_loss_list = []\n",
    "    best_val_loss = np.inf\n",
    "\n",
    "    for epoch in tqdm(range(num_epochs)):\n",
    "\n",
    "        train_loss_batch = []\n",
    "\n",
    "        for X_batch, y_batch in dl_train: \n",
    "\n",
    "            X_trans = forward(X_batch, L, b)\n",
    "\n",
    "            # calculate the pairwise euclidean distances\n",
    "            distances = torch.cdist(X_trans, X_trans, p=2)\n",
    "\n",
    "            # calculate a matrix where there is a 1 if the label is the same and a 0 if the label is not the same\n",
    "            label_matrix = (y_batch.unsqueeze(0) == y_batch.unsqueeze(1)).int()\n",
    "\n",
    "            # Calculate Loss\n",
    "            train_loss = loss_function(distances, label_matrix, margin)\n",
    "            train_loss_batch.append(train_loss.detach().numpy())\n",
    "\n",
    "            # Backward pass to compute gradients\n",
    "            train_loss.backward()\n",
    "\n",
    "            # perform update step\n",
    "            L, b = update(L, b, lr)\n",
    "\n",
    "        # Validate performance on valid set\n",
    "        val_loss = validate(dl_valid, L, b)\n",
    "\n",
    "        train_loss_list.append(np.mean(train_loss_batch))\n",
    "        val_loss_list.append(val_loss)\n",
    "\n",
    "        # Add early stopping\n",
    "        if val_loss < best_val_loss:\n",
    "            best_val_loss = val_loss\n",
    "            i = 0\n",
    "        else:\n",
    "            i += 1\n",
    "\n",
    "        if i >= early_stopping:\n",
    "            print(f'Loss has not improved for {early_stopping} Epochs. End training')\n",
    "            break\n",
    "            \n",
    "    return L, b, train_loss_list, val_loss_list"
   ]
  },
  {
   "cell_type": "code",
   "execution_count": 1418,
   "metadata": {},
   "outputs": [],
   "source": [
    "def validate(dl, L, b):\n",
    "    \n",
    "    loss_list = []\n",
    "\n",
    "    for X_batch, y_batch in dl: \n",
    "        \n",
    "        X_trans = forward(X_batch, L, b)\n",
    "\n",
    "         # calculate the pairwise euclidean distances\n",
    "        distances = torch.cdist(X_trans, X_trans, p=2)\n",
    "\n",
    "        # calculate a matrix where there is a 1 if the label is the same and a 0 if the label is not the same\n",
    "        label_matrix = (y_batch.unsqueeze(0) == y_batch.unsqueeze(1)).int()\n",
    "\n",
    "        # Calculate Loss\n",
    "        loss = loss_function(distances, label_matrix, margin)\n",
    "        loss_list.append(loss.detach().numpy())\n",
    "        \n",
    "    return np.mean(loss_list)"
   ]
  },
  {
   "cell_type": "markdown",
   "metadata": {},
   "source": [
    "## Relevant Section"
   ]
  },
  {
   "cell_type": "markdown",
   "metadata": {},
   "source": [
    "create SIFT Features using the defined function from aboved"
   ]
  },
  {
   "cell_type": "code",
   "execution_count": 1412,
   "metadata": {},
   "outputs": [
    {
     "name": "stderr",
     "output_type": "stream",
     "text": [
      "100%|███████████████████████████████████| 73257/73257 [00:24<00:00, 2938.45it/s]\n",
      "100%|███████████████████████████████████| 26032/26032 [00:08<00:00, 3091.85it/s]\n",
      "100%|███████████████████████████████████| 73257/73257 [00:07<00:00, 9952.92it/s]\n",
      "100%|██████████████████████████████████| 26032/26032 [00:02<00:00, 10004.39it/s]\n"
     ]
    }
   ],
   "source": [
    "train_descriptors = orb_sift(train_images, method='sift')\n",
    "test_descriptors = orb_sift(test_images, method='sift')\n",
    "\n",
    "# do kmeans clustering for all descriptors\n",
    "features = np.concatenate([inner_array for inner_array in train_descriptors if inner_array is not None])\n",
    "\n",
    "n_clusters = 32\n",
    "kmeans = KMeans(n_clusters, n_init=10)  # Number of clusters (visual words)\n",
    "kmeans.fit(features)\n",
    "\n",
    "sift_train_features = histogram_visual_words(kmeans, train_descriptors, bins=n_clusters)\n",
    "sift_test_features = histogram_visual_words(kmeans, test_descriptors, bins=n_clusters)"
   ]
  },
  {
   "cell_type": "markdown",
   "metadata": {},
   "source": [
    "Define dataset and dataloader. Get a separate validation dataset for avoiding overfitting"
   ]
  },
  {
   "cell_type": "code",
   "execution_count": 1423,
   "metadata": {},
   "outputs": [],
   "source": [
    "x_train, x_valid, y_train, y_valid = train_test_split(torch.tensor(sift_train_features).float(), torch.tensor(train_labels), train_size=0.8, stratify=train_labels)\n",
    "\n",
    "x_test = torch.tensor(sift_test_features).float()\n",
    "y_test = torch.tensor(test_labels)\n",
    "\n",
    "ds_train = TensorDataset(x_train, y_train)\n",
    "dl_train = DataLoader(ds_train, batch_size=2048, shuffle=True)\n",
    "\n",
    "ds_valid = TensorDataset(x_valid, y_valid)\n",
    "dl_valid = DataLoader(ds_valid, batch_size=2048, shuffle=False)\n",
    "\n",
    "ds_test = TensorDataset(x_test, y_test)\n",
    "dl_test = DataLoader(ds_test, batch_size=2048, shuffle=False)"
   ]
  },
  {
   "cell_type": "markdown",
   "metadata": {},
   "source": [
    "How to ensure that W is a valid distance matrics:\n",
    "W needs to be Positive Semi definite (PSD). This is achieved by the Cholesky decomposition. Where $ W=LL^T $ and where $ L $ is a lower triangular matrix. Therefore, we change the matrix L during training."
   ]
  },
  {
   "cell_type": "code",
   "execution_count": 1424,
   "metadata": {},
   "outputs": [
    {
     "name": "stderr",
     "output_type": "stream",
     "text": [
      "100%|███████████████████████████████████████████| 10/10 [00:14<00:00,  1.50s/it]\n"
     ]
    }
   ],
   "source": [
    "# define HP\n",
    "lr = 0.01\n",
    "margin = 5 \n",
    "early_stopping = 5\n",
    "num_epochs = 10\n",
    "\n",
    "# initialize weight matrix and bias with random numbers\n",
    "dim = x_train.size(1)\n",
    "L, b = initialize_values(dim)\n",
    "\n",
    "# adapt L and b using mini batch stochastic gradient descent\n",
    "L, b, train_loss_list, val_loss_list = learn_metric(L, b, dl_train, dl_valid, lr, num_epochs, margin, early_stopping)"
   ]
  },
  {
   "cell_type": "code",
   "execution_count": 1429,
   "metadata": {},
   "outputs": [
    {
     "data": {
      "image/png": "[encoded data removed]",
      "text/plain": [
       "<Figure size 640x480 with 1 Axes>"
      ]
     },
     "metadata": {},
     "output_type": "display_data"
    }
   ],
   "source": [
    "# Plot the training and validation loss\n",
    "plt.plot(train_loss_list, label='Training Loss')\n",
    "plt.plot(val_loss_list, label='Validation Loss')\n",
    "\n",
    "# Add labels and a legend\n",
    "plt.xlabel('Epoch')\n",
    "plt.ylabel('Loss')\n",
    "plt.title('Training and Validation Loss Over Epochs')\n",
    "plt.legend()\n",
    "\n",
    "# Show the plot\n",
    "plt.show()"
   ]
  },
  {
   "cell_type": "markdown",
   "metadata": {},
   "source": [
    "### Performance comparison"
   ]
  },
  {
   "cell_type": "code",
   "execution_count": null,
   "metadata": {},
   "outputs": [],
   "source": [
    "# Use a logistic regression to compare the results\n",
    "param_grid = {\n",
    "    'C': [0.001, 0.01, 0.1, 1, 10, 100],  # Regularization strength\n",
    "    #'logistic_regression__penalty': ['l1', 'l2'],  # Type of regularization, commented this because not all the solvers are compatible with l1 and l2\n",
    "    'solver': ['newton-cg', 'lbfgs', 'sag', 'saga']  # Solver that supports L1 penalty\n",
    "}"
   ]
  },
  {
   "cell_type": "markdown",
   "metadata": {},
   "source": [
    "Performance with the original SIFT features"
   ]
  },
  {
   "cell_type": "code",
   "execution_count": 1432,
   "metadata": {},
   "outputs": [
    {
     "name": "stdout",
     "output_type": "stream",
     "text": [
      "Fitting 4 folds for each of 24 candidates, totalling 96 fits\n"
     ]
    }
   ],
   "source": [
    "X_train, X_test, y_train, y_test = sift_train_features, sift_test_features, train_labels, test_labels\n",
    "\n",
    "scaler = Standardizer(library='numpy')\n",
    "X_train = scaler.fit_transform(X_train)\n",
    "X_test = scaler.transform(X_test)\n",
    "\n",
    "model, best_params, best_score = train_tune_test(LogisticRegression(), param_grid, X_train, y_train, X_test, y_test, cv=4)"
   ]
  },
  {
   "cell_type": "markdown",
   "metadata": {},
   "source": [
    "Performance with transformed SIFT Features using the learned projection"
   ]
  },
  {
   "cell_type": "code",
   "execution_count": 1426,
   "metadata": {},
   "outputs": [],
   "source": [
    "# transform features using the learned metric\n",
    "sift_train_features_trans = forward(torch.tensor(sift_train_features).float(), L, b).detach().numpy()\n",
    "sift_test_features_trans = forward(torch.tensor(sift_test_features).float(), L, b).detach().numpy()"
   ]
  },
  {
   "cell_type": "code",
   "execution_count": 1427,
   "metadata": {
    "scrolled": true
   },
   "outputs": [
    {
     "name": "stdout",
     "output_type": "stream",
     "text": [
      "Fitting 4 folds for each of 24 candidates, totalling 96 fits\n"
     ]
    },
    {
     "name": "stderr",
     "output_type": "stream",
     "text": [
      "/Users/louis.skowronek/miniforge3/envs/aiss_env/lib/python3.9/site-packages/scipy/optimize/_linesearch.py:306: LineSearchWarning: The line search algorithm did not converge\n",
      "  warn('The line search algorithm did not converge', LineSearchWarning)\n",
      "/Users/louis.skowronek/miniforge3/envs/aiss_env/lib/python3.9/site-packages/sklearn/utils/optimize.py:204: UserWarning: Line Search failed\n",
      "  warnings.warn(\"Line Search failed\")\n",
      "/Users/louis.skowronek/miniforge3/envs/aiss_env/lib/python3.9/site-packages/scipy/optimize/_linesearch.py:306: LineSearchWarning: The line search algorithm did not converge\n",
      "  warn('The line search algorithm did not converge', LineSearchWarning)\n",
      "/Users/louis.skowronek/miniforge3/envs/aiss_env/lib/python3.9/site-packages/sklearn/utils/optimize.py:204: UserWarning: Line Search failed\n",
      "  warnings.warn(\"Line Search failed\")\n",
      "/Users/louis.skowronek/miniforge3/envs/aiss_env/lib/python3.9/site-packages/scipy/optimize/_linesearch.py:306: LineSearchWarning: The line search algorithm did not converge\n",
      "  warn('The line search algorithm did not converge', LineSearchWarning)\n",
      "/Users/louis.skowronek/miniforge3/envs/aiss_env/lib/python3.9/site-packages/sklearn/utils/optimize.py:204: UserWarning: Line Search failed\n",
      "  warnings.warn(\"Line Search failed\")\n",
      "/Users/louis.skowronek/miniforge3/envs/aiss_env/lib/python3.9/site-packages/scipy/optimize/_linesearch.py:306: LineSearchWarning: The line search algorithm did not converge\n",
      "  warn('The line search algorithm did not converge', LineSearchWarning)\n",
      "/Users/louis.skowronek/miniforge3/envs/aiss_env/lib/python3.9/site-packages/sklearn/utils/optimize.py:204: UserWarning: Line Search failed\n",
      "  warnings.warn(\"Line Search failed\")\n",
      "/Users/louis.skowronek/miniforge3/envs/aiss_env/lib/python3.9/site-packages/scipy/optimize/_linesearch.py:306: LineSearchWarning: The line search algorithm did not converge\n",
      "  warn('The line search algorithm did not converge', LineSearchWarning)\n",
      "/Users/louis.skowronek/miniforge3/envs/aiss_env/lib/python3.9/site-packages/sklearn/utils/optimize.py:204: UserWarning: Line Search failed\n",
      "  warnings.warn(\"Line Search failed\")\n",
      "/Users/louis.skowronek/miniforge3/envs/aiss_env/lib/python3.9/site-packages/scipy/optimize/_linesearch.py:306: LineSearchWarning: The line search algorithm did not converge\n",
      "  warn('The line search algorithm did not converge', LineSearchWarning)\n",
      "/Users/louis.skowronek/miniforge3/envs/aiss_env/lib/python3.9/site-packages/sklearn/utils/optimize.py:204: UserWarning: Line Search failed\n",
      "  warnings.warn(\"Line Search failed\")\n",
      "/Users/louis.skowronek/miniforge3/envs/aiss_env/lib/python3.9/site-packages/scipy/optimize/_linesearch.py:306: LineSearchWarning: The line search algorithm did not converge\n",
      "  warn('The line search algorithm did not converge', LineSearchWarning)\n",
      "/Users/louis.skowronek/miniforge3/envs/aiss_env/lib/python3.9/site-packages/sklearn/utils/optimize.py:204: UserWarning: Line Search failed\n",
      "  warnings.warn(\"Line Search failed\")\n",
      "/Users/louis.skowronek/miniforge3/envs/aiss_env/lib/python3.9/site-packages/scipy/optimize/_linesearch.py:306: LineSearchWarning: The line search algorithm did not converge\n",
      "  warn('The line search algorithm did not converge', LineSearchWarning)\n",
      "/Users/louis.skowronek/miniforge3/envs/aiss_env/lib/python3.9/site-packages/sklearn/utils/optimize.py:204: UserWarning: Line Search failed\n",
      "  warnings.warn(\"Line Search failed\")\n",
      "/Users/louis.skowronek/miniforge3/envs/aiss_env/lib/python3.9/site-packages/sklearn/linear_model/_logistic.py:460: ConvergenceWarning: lbfgs failed to converge (status=1):\n",
      "STOP: TOTAL NO. of ITERATIONS REACHED LIMIT.\n",
      "\n",
      "Increase the number of iterations (max_iter) or scale the data as shown in:\n",
      "    https://scikit-learn.org/stable/modules/preprocessing.html\n",
      "Please also refer to the documentation for alternative solver options:\n",
      "    https://scikit-learn.org/stable/modules/linear_model.html#logistic-regression\n",
      "  n_iter_i = _check_optimize_result(\n",
      "/Users/louis.skowronek/miniforge3/envs/aiss_env/lib/python3.9/site-packages/sklearn/linear_model/_logistic.py:460: ConvergenceWarning: lbfgs failed to converge (status=1):\n",
      "STOP: TOTAL NO. of ITERATIONS REACHED LIMIT.\n",
      "\n",
      "Increase the number of iterations (max_iter) or scale the data as shown in:\n",
      "    https://scikit-learn.org/stable/modules/preprocessing.html\n",
      "Please also refer to the documentation for alternative solver options:\n",
      "    https://scikit-learn.org/stable/modules/linear_model.html#logistic-regression\n",
      "  n_iter_i = _check_optimize_result(\n",
      "/Users/louis.skowronek/miniforge3/envs/aiss_env/lib/python3.9/site-packages/sklearn/linear_model/_logistic.py:460: ConvergenceWarning: lbfgs failed to converge (status=1):\n",
      "STOP: TOTAL NO. of ITERATIONS REACHED LIMIT.\n",
      "\n",
      "Increase the number of iterations (max_iter) or scale the data as shown in:\n",
      "    https://scikit-learn.org/stable/modules/preprocessing.html\n",
      "Please also refer to the documentation for alternative solver options:\n",
      "    https://scikit-learn.org/stable/modules/linear_model.html#logistic-regression\n",
      "  n_iter_i = _check_optimize_result(\n",
      "/Users/louis.skowronek/miniforge3/envs/aiss_env/lib/python3.9/site-packages/scipy/optimize/_linesearch.py:306: LineSearchWarning: The line search algorithm did not converge\n",
      "  warn('The line search algorithm did not converge', LineSearchWarning)\n",
      "/Users/louis.skowronek/miniforge3/envs/aiss_env/lib/python3.9/site-packages/sklearn/utils/optimize.py:204: UserWarning: Line Search failed\n",
      "  warnings.warn(\"Line Search failed\")\n",
      "/Users/louis.skowronek/miniforge3/envs/aiss_env/lib/python3.9/site-packages/sklearn/linear_model/_logistic.py:460: ConvergenceWarning: lbfgs failed to converge (status=1):\n",
      "STOP: TOTAL NO. of ITERATIONS REACHED LIMIT.\n",
      "\n",
      "Increase the number of iterations (max_iter) or scale the data as shown in:\n",
      "    https://scikit-learn.org/stable/modules/preprocessing.html\n",
      "Please also refer to the documentation for alternative solver options:\n",
      "    https://scikit-learn.org/stable/modules/linear_model.html#logistic-regression\n",
      "  n_iter_i = _check_optimize_result(\n",
      "/Users/louis.skowronek/miniforge3/envs/aiss_env/lib/python3.9/site-packages/scipy/optimize/_linesearch.py:306: LineSearchWarning: The line search algorithm did not converge\n",
      "  warn('The line search algorithm did not converge', LineSearchWarning)\n",
      "/Users/louis.skowronek/miniforge3/envs/aiss_env/lib/python3.9/site-packages/sklearn/utils/optimize.py:204: UserWarning: Line Search failed\n",
      "  warnings.warn(\"Line Search failed\")\n",
      "/Users/louis.skowronek/miniforge3/envs/aiss_env/lib/python3.9/site-packages/scipy/optimize/_linesearch.py:306: LineSearchWarning: The line search algorithm did not converge\n",
      "  warn('The line search algorithm did not converge', LineSearchWarning)\n",
      "/Users/louis.skowronek/miniforge3/envs/aiss_env/lib/python3.9/site-packages/sklearn/utils/optimize.py:204: UserWarning: Line Search failed\n",
      "  warnings.warn(\"Line Search failed\")\n",
      "/Users/louis.skowronek/miniforge3/envs/aiss_env/lib/python3.9/site-packages/scipy/optimize/_linesearch.py:306: LineSearchWarning: The line search algorithm did not converge\n",
      "  warn('The line search algorithm did not converge', LineSearchWarning)\n",
      "/Users/louis.skowronek/miniforge3/envs/aiss_env/lib/python3.9/site-packages/sklearn/utils/optimize.py:204: UserWarning: Line Search failed\n",
      "  warnings.warn(\"Line Search failed\")\n",
      "/Users/louis.skowronek/miniforge3/envs/aiss_env/lib/python3.9/site-packages/sklearn/linear_model/_sag.py:350: ConvergenceWarning: The max_iter was reached which means the coef_ did not converge\n",
      "  warnings.warn(\n",
      "/Users/louis.skowronek/miniforge3/envs/aiss_env/lib/python3.9/site-packages/sklearn/linear_model/_sag.py:350: ConvergenceWarning: The max_iter was reached which means the coef_ did not converge\n",
      "  warnings.warn(\n",
      "/Users/louis.skowronek/miniforge3/envs/aiss_env/lib/python3.9/site-packages/sklearn/linear_model/_sag.py:350: ConvergenceWarning: The max_iter was reached which means the coef_ did not converge\n",
      "  warnings.warn(\n",
      "/Users/louis.skowronek/miniforge3/envs/aiss_env/lib/python3.9/site-packages/sklearn/linear_model/_sag.py:350: ConvergenceWarning: The max_iter was reached which means the coef_ did not converge\n",
      "  warnings.warn(\n",
      "/Users/louis.skowronek/miniforge3/envs/aiss_env/lib/python3.9/site-packages/sklearn/linear_model/_sag.py:350: ConvergenceWarning: The max_iter was reached which means the coef_ did not converge\n",
      "  warnings.warn(\n"
     ]
    },
    {
     "name": "stderr",
     "output_type": "stream",
     "text": [
      "/Users/louis.skowronek/miniforge3/envs/aiss_env/lib/python3.9/site-packages/sklearn/linear_model/_sag.py:350: ConvergenceWarning: The max_iter was reached which means the coef_ did not converge\n",
      "  warnings.warn(\n",
      "/Users/louis.skowronek/miniforge3/envs/aiss_env/lib/python3.9/site-packages/sklearn/linear_model/_sag.py:350: ConvergenceWarning: The max_iter was reached which means the coef_ did not converge\n",
      "  warnings.warn(\n",
      "/Users/louis.skowronek/miniforge3/envs/aiss_env/lib/python3.9/site-packages/sklearn/linear_model/_sag.py:350: ConvergenceWarning: The max_iter was reached which means the coef_ did not converge\n",
      "  warnings.warn(\n",
      "/Users/louis.skowronek/miniforge3/envs/aiss_env/lib/python3.9/site-packages/sklearn/linear_model/_logistic.py:460: ConvergenceWarning: lbfgs failed to converge (status=1):\n",
      "STOP: TOTAL NO. of ITERATIONS REACHED LIMIT.\n",
      "\n",
      "Increase the number of iterations (max_iter) or scale the data as shown in:\n",
      "    https://scikit-learn.org/stable/modules/preprocessing.html\n",
      "Please also refer to the documentation for alternative solver options:\n",
      "    https://scikit-learn.org/stable/modules/linear_model.html#logistic-regression\n",
      "  n_iter_i = _check_optimize_result(\n",
      "/Users/louis.skowronek/miniforge3/envs/aiss_env/lib/python3.9/site-packages/sklearn/linear_model/_logistic.py:460: ConvergenceWarning: lbfgs failed to converge (status=1):\n",
      "STOP: TOTAL NO. of ITERATIONS REACHED LIMIT.\n",
      "\n",
      "Increase the number of iterations (max_iter) or scale the data as shown in:\n",
      "    https://scikit-learn.org/stable/modules/preprocessing.html\n",
      "Please also refer to the documentation for alternative solver options:\n",
      "    https://scikit-learn.org/stable/modules/linear_model.html#logistic-regression\n",
      "  n_iter_i = _check_optimize_result(\n",
      "/Users/louis.skowronek/miniforge3/envs/aiss_env/lib/python3.9/site-packages/sklearn/linear_model/_logistic.py:460: ConvergenceWarning: lbfgs failed to converge (status=1):\n",
      "STOP: TOTAL NO. of ITERATIONS REACHED LIMIT.\n",
      "\n",
      "Increase the number of iterations (max_iter) or scale the data as shown in:\n",
      "    https://scikit-learn.org/stable/modules/preprocessing.html\n",
      "Please also refer to the documentation for alternative solver options:\n",
      "    https://scikit-learn.org/stable/modules/linear_model.html#logistic-regression\n",
      "  n_iter_i = _check_optimize_result(\n",
      "/Users/louis.skowronek/miniforge3/envs/aiss_env/lib/python3.9/site-packages/sklearn/linear_model/_logistic.py:460: ConvergenceWarning: lbfgs failed to converge (status=1):\n",
      "STOP: TOTAL NO. of ITERATIONS REACHED LIMIT.\n",
      "\n",
      "Increase the number of iterations (max_iter) or scale the data as shown in:\n",
      "    https://scikit-learn.org/stable/modules/preprocessing.html\n",
      "Please also refer to the documentation for alternative solver options:\n",
      "    https://scikit-learn.org/stable/modules/linear_model.html#logistic-regression\n",
      "  n_iter_i = _check_optimize_result(\n",
      "/Users/louis.skowronek/miniforge3/envs/aiss_env/lib/python3.9/site-packages/scipy/optimize/_linesearch.py:306: LineSearchWarning: The line search algorithm did not converge\n",
      "  warn('The line search algorithm did not converge', LineSearchWarning)\n",
      "/Users/louis.skowronek/miniforge3/envs/aiss_env/lib/python3.9/site-packages/sklearn/utils/optimize.py:204: UserWarning: Line Search failed\n",
      "  warnings.warn(\"Line Search failed\")\n",
      "/Users/louis.skowronek/miniforge3/envs/aiss_env/lib/python3.9/site-packages/scipy/optimize/_linesearch.py:306: LineSearchWarning: The line search algorithm did not converge\n",
      "  warn('The line search algorithm did not converge', LineSearchWarning)\n",
      "/Users/louis.skowronek/miniforge3/envs/aiss_env/lib/python3.9/site-packages/sklearn/utils/optimize.py:204: UserWarning: Line Search failed\n",
      "  warnings.warn(\"Line Search failed\")\n",
      "/Users/louis.skowronek/miniforge3/envs/aiss_env/lib/python3.9/site-packages/scipy/optimize/_linesearch.py:306: LineSearchWarning: The line search algorithm did not converge\n",
      "  warn('The line search algorithm did not converge', LineSearchWarning)\n",
      "/Users/louis.skowronek/miniforge3/envs/aiss_env/lib/python3.9/site-packages/sklearn/utils/optimize.py:204: UserWarning: Line Search failed\n",
      "  warnings.warn(\"Line Search failed\")\n",
      "/Users/louis.skowronek/miniforge3/envs/aiss_env/lib/python3.9/site-packages/scipy/optimize/_linesearch.py:306: LineSearchWarning: The line search algorithm did not converge\n",
      "  warn('The line search algorithm did not converge', LineSearchWarning)\n",
      "/Users/louis.skowronek/miniforge3/envs/aiss_env/lib/python3.9/site-packages/sklearn/utils/optimize.py:204: UserWarning: Line Search failed\n",
      "  warnings.warn(\"Line Search failed\")\n",
      "/Users/louis.skowronek/miniforge3/envs/aiss_env/lib/python3.9/site-packages/sklearn/linear_model/_sag.py:350: ConvergenceWarning: The max_iter was reached which means the coef_ did not converge\n",
      "  warnings.warn(\n",
      "/Users/louis.skowronek/miniforge3/envs/aiss_env/lib/python3.9/site-packages/sklearn/linear_model/_sag.py:350: ConvergenceWarning: The max_iter was reached which means the coef_ did not converge\n",
      "  warnings.warn(\n",
      "/Users/louis.skowronek/miniforge3/envs/aiss_env/lib/python3.9/site-packages/sklearn/linear_model/_sag.py:350: ConvergenceWarning: The max_iter was reached which means the coef_ did not converge\n",
      "  warnings.warn(\n",
      "/Users/louis.skowronek/miniforge3/envs/aiss_env/lib/python3.9/site-packages/sklearn/linear_model/_sag.py:350: ConvergenceWarning: The max_iter was reached which means the coef_ did not converge\n",
      "  warnings.warn(\n",
      "/Users/louis.skowronek/miniforge3/envs/aiss_env/lib/python3.9/site-packages/sklearn/linear_model/_sag.py:350: ConvergenceWarning: The max_iter was reached which means the coef_ did not converge\n",
      "  warnings.warn(\n",
      "/Users/louis.skowronek/miniforge3/envs/aiss_env/lib/python3.9/site-packages/sklearn/linear_model/_sag.py:350: ConvergenceWarning: The max_iter was reached which means the coef_ did not converge\n",
      "  warnings.warn(\n",
      "/Users/louis.skowronek/miniforge3/envs/aiss_env/lib/python3.9/site-packages/sklearn/linear_model/_sag.py:350: ConvergenceWarning: The max_iter was reached which means the coef_ did not converge\n",
      "  warnings.warn(\n",
      "/Users/louis.skowronek/miniforge3/envs/aiss_env/lib/python3.9/site-packages/sklearn/linear_model/_sag.py:350: ConvergenceWarning: The max_iter was reached which means the coef_ did not converge\n",
      "  warnings.warn(\n",
      "/Users/louis.skowronek/miniforge3/envs/aiss_env/lib/python3.9/site-packages/sklearn/linear_model/_logistic.py:460: ConvergenceWarning: lbfgs failed to converge (status=1):\n",
      "STOP: TOTAL NO. of ITERATIONS REACHED LIMIT.\n",
      "\n",
      "Increase the number of iterations (max_iter) or scale the data as shown in:\n",
      "    https://scikit-learn.org/stable/modules/preprocessing.html\n",
      "Please also refer to the documentation for alternative solver options:\n",
      "    https://scikit-learn.org/stable/modules/linear_model.html#logistic-regression\n",
      "  n_iter_i = _check_optimize_result(\n",
      "/Users/louis.skowronek/miniforge3/envs/aiss_env/lib/python3.9/site-packages/sklearn/linear_model/_logistic.py:460: ConvergenceWarning: lbfgs failed to converge (status=1):\n",
      "STOP: TOTAL NO. of ITERATIONS REACHED LIMIT.\n",
      "\n",
      "Increase the number of iterations (max_iter) or scale the data as shown in:\n",
      "    https://scikit-learn.org/stable/modules/preprocessing.html\n",
      "Please also refer to the documentation for alternative solver options:\n",
      "    https://scikit-learn.org/stable/modules/linear_model.html#logistic-regression\n",
      "  n_iter_i = _check_optimize_result(\n",
      "/Users/louis.skowronek/miniforge3/envs/aiss_env/lib/python3.9/site-packages/sklearn/linear_model/_logistic.py:460: ConvergenceWarning: lbfgs failed to converge (status=1):\n",
      "STOP: TOTAL NO. of ITERATIONS REACHED LIMIT.\n",
      "\n",
      "Increase the number of iterations (max_iter) or scale the data as shown in:\n",
      "    https://scikit-learn.org/stable/modules/preprocessing.html\n",
      "Please also refer to the documentation for alternative solver options:\n",
      "    https://scikit-learn.org/stable/modules/linear_model.html#logistic-regression\n",
      "  n_iter_i = _check_optimize_result(\n",
      "/Users/louis.skowronek/miniforge3/envs/aiss_env/lib/python3.9/site-packages/sklearn/linear_model/_logistic.py:460: ConvergenceWarning: lbfgs failed to converge (status=1):\n",
      "STOP: TOTAL NO. of ITERATIONS REACHED LIMIT.\n",
      "\n",
      "Increase the number of iterations (max_iter) or scale the data as shown in:\n",
      "    https://scikit-learn.org/stable/modules/preprocessing.html\n",
      "Please also refer to the documentation for alternative solver options:\n",
      "    https://scikit-learn.org/stable/modules/linear_model.html#logistic-regression\n",
      "  n_iter_i = _check_optimize_result(\n"
     ]
    },
    {
     "name": "stderr",
     "output_type": "stream",
     "text": [
      "/Users/louis.skowronek/miniforge3/envs/aiss_env/lib/python3.9/site-packages/sklearn/linear_model/_sag.py:350: ConvergenceWarning: The max_iter was reached which means the coef_ did not converge\n",
      "  warnings.warn(\n",
      "/Users/louis.skowronek/miniforge3/envs/aiss_env/lib/python3.9/site-packages/sklearn/linear_model/_sag.py:350: ConvergenceWarning: The max_iter was reached which means the coef_ did not converge\n",
      "  warnings.warn(\n",
      "/Users/louis.skowronek/miniforge3/envs/aiss_env/lib/python3.9/site-packages/sklearn/linear_model/_sag.py:350: ConvergenceWarning: The max_iter was reached which means the coef_ did not converge\n",
      "  warnings.warn(\n",
      "/Users/louis.skowronek/miniforge3/envs/aiss_env/lib/python3.9/site-packages/sklearn/linear_model/_sag.py:350: ConvergenceWarning: The max_iter was reached which means the coef_ did not converge\n",
      "  warnings.warn(\n",
      "/Users/louis.skowronek/miniforge3/envs/aiss_env/lib/python3.9/site-packages/scipy/optimize/_linesearch.py:306: LineSearchWarning: The line search algorithm did not converge\n",
      "  warn('The line search algorithm did not converge', LineSearchWarning)\n",
      "/Users/louis.skowronek/miniforge3/envs/aiss_env/lib/python3.9/site-packages/sklearn/utils/optimize.py:204: UserWarning: Line Search failed\n",
      "  warnings.warn(\"Line Search failed\")\n",
      "/Users/louis.skowronek/miniforge3/envs/aiss_env/lib/python3.9/site-packages/scipy/optimize/_linesearch.py:306: LineSearchWarning: The line search algorithm did not converge\n",
      "  warn('The line search algorithm did not converge', LineSearchWarning)\n",
      "/Users/louis.skowronek/miniforge3/envs/aiss_env/lib/python3.9/site-packages/sklearn/utils/optimize.py:204: UserWarning: Line Search failed\n",
      "  warnings.warn(\"Line Search failed\")\n",
      "/Users/louis.skowronek/miniforge3/envs/aiss_env/lib/python3.9/site-packages/scipy/optimize/_linesearch.py:306: LineSearchWarning: The line search algorithm did not converge\n",
      "  warn('The line search algorithm did not converge', LineSearchWarning)\n",
      "/Users/louis.skowronek/miniforge3/envs/aiss_env/lib/python3.9/site-packages/sklearn/utils/optimize.py:204: UserWarning: Line Search failed\n",
      "  warnings.warn(\"Line Search failed\")\n",
      "/Users/louis.skowronek/miniforge3/envs/aiss_env/lib/python3.9/site-packages/scipy/optimize/_linesearch.py:306: LineSearchWarning: The line search algorithm did not converge\n",
      "  warn('The line search algorithm did not converge', LineSearchWarning)\n",
      "/Users/louis.skowronek/miniforge3/envs/aiss_env/lib/python3.9/site-packages/sklearn/utils/optimize.py:204: UserWarning: Line Search failed\n",
      "  warnings.warn(\"Line Search failed\")\n",
      "/Users/louis.skowronek/miniforge3/envs/aiss_env/lib/python3.9/site-packages/sklearn/linear_model/_sag.py:350: ConvergenceWarning: The max_iter was reached which means the coef_ did not converge\n",
      "  warnings.warn(\n",
      "/Users/louis.skowronek/miniforge3/envs/aiss_env/lib/python3.9/site-packages/sklearn/linear_model/_sag.py:350: ConvergenceWarning: The max_iter was reached which means the coef_ did not converge\n",
      "  warnings.warn(\n",
      "/Users/louis.skowronek/miniforge3/envs/aiss_env/lib/python3.9/site-packages/sklearn/linear_model/_sag.py:350: ConvergenceWarning: The max_iter was reached which means the coef_ did not converge\n",
      "  warnings.warn(\n",
      "/Users/louis.skowronek/miniforge3/envs/aiss_env/lib/python3.9/site-packages/sklearn/linear_model/_sag.py:350: ConvergenceWarning: The max_iter was reached which means the coef_ did not converge\n",
      "  warnings.warn(\n",
      "/Users/louis.skowronek/miniforge3/envs/aiss_env/lib/python3.9/site-packages/sklearn/linear_model/_logistic.py:460: ConvergenceWarning: lbfgs failed to converge (status=1):\n",
      "STOP: TOTAL NO. of ITERATIONS REACHED LIMIT.\n",
      "\n",
      "Increase the number of iterations (max_iter) or scale the data as shown in:\n",
      "    https://scikit-learn.org/stable/modules/preprocessing.html\n",
      "Please also refer to the documentation for alternative solver options:\n",
      "    https://scikit-learn.org/stable/modules/linear_model.html#logistic-regression\n",
      "  n_iter_i = _check_optimize_result(\n",
      "/Users/louis.skowronek/miniforge3/envs/aiss_env/lib/python3.9/site-packages/sklearn/linear_model/_logistic.py:460: ConvergenceWarning: lbfgs failed to converge (status=1):\n",
      "STOP: TOTAL NO. of ITERATIONS REACHED LIMIT.\n",
      "\n",
      "Increase the number of iterations (max_iter) or scale the data as shown in:\n",
      "    https://scikit-learn.org/stable/modules/preprocessing.html\n",
      "Please also refer to the documentation for alternative solver options:\n",
      "    https://scikit-learn.org/stable/modules/linear_model.html#logistic-regression\n",
      "  n_iter_i = _check_optimize_result(\n",
      "/Users/louis.skowronek/miniforge3/envs/aiss_env/lib/python3.9/site-packages/sklearn/linear_model/_logistic.py:460: ConvergenceWarning: lbfgs failed to converge (status=1):\n",
      "STOP: TOTAL NO. of ITERATIONS REACHED LIMIT.\n",
      "\n",
      "Increase the number of iterations (max_iter) or scale the data as shown in:\n",
      "    https://scikit-learn.org/stable/modules/preprocessing.html\n",
      "Please also refer to the documentation for alternative solver options:\n",
      "    https://scikit-learn.org/stable/modules/linear_model.html#logistic-regression\n",
      "  n_iter_i = _check_optimize_result(\n",
      "/Users/louis.skowronek/miniforge3/envs/aiss_env/lib/python3.9/site-packages/sklearn/linear_model/_logistic.py:460: ConvergenceWarning: lbfgs failed to converge (status=1):\n",
      "STOP: TOTAL NO. of ITERATIONS REACHED LIMIT.\n",
      "\n",
      "Increase the number of iterations (max_iter) or scale the data as shown in:\n",
      "    https://scikit-learn.org/stable/modules/preprocessing.html\n",
      "Please also refer to the documentation for alternative solver options:\n",
      "    https://scikit-learn.org/stable/modules/linear_model.html#logistic-regression\n",
      "  n_iter_i = _check_optimize_result(\n",
      "/Users/louis.skowronek/miniforge3/envs/aiss_env/lib/python3.9/site-packages/sklearn/linear_model/_sag.py:350: ConvergenceWarning: The max_iter was reached which means the coef_ did not converge\n",
      "  warnings.warn(\n",
      "/Users/louis.skowronek/miniforge3/envs/aiss_env/lib/python3.9/site-packages/sklearn/linear_model/_sag.py:350: ConvergenceWarning: The max_iter was reached which means the coef_ did not converge\n",
      "  warnings.warn(\n",
      "/Users/louis.skowronek/miniforge3/envs/aiss_env/lib/python3.9/site-packages/sklearn/linear_model/_sag.py:350: ConvergenceWarning: The max_iter was reached which means the coef_ did not converge\n",
      "  warnings.warn(\n",
      "/Users/louis.skowronek/miniforge3/envs/aiss_env/lib/python3.9/site-packages/sklearn/linear_model/_sag.py:350: ConvergenceWarning: The max_iter was reached which means the coef_ did not converge\n",
      "  warnings.warn(\n",
      "/Users/louis.skowronek/miniforge3/envs/aiss_env/lib/python3.9/site-packages/sklearn/linear_model/_sag.py:350: ConvergenceWarning: The max_iter was reached which means the coef_ did not converge\n",
      "  warnings.warn(\n",
      "/Users/louis.skowronek/miniforge3/envs/aiss_env/lib/python3.9/site-packages/sklearn/linear_model/_sag.py:350: ConvergenceWarning: The max_iter was reached which means the coef_ did not converge\n",
      "  warnings.warn(\n",
      "/Users/louis.skowronek/miniforge3/envs/aiss_env/lib/python3.9/site-packages/sklearn/linear_model/_sag.py:350: ConvergenceWarning: The max_iter was reached which means the coef_ did not converge\n",
      "  warnings.warn(\n",
      "/Users/louis.skowronek/miniforge3/envs/aiss_env/lib/python3.9/site-packages/sklearn/linear_model/_sag.py:350: ConvergenceWarning: The max_iter was reached which means the coef_ did not converge\n",
      "  warnings.warn(\n",
      "/Users/louis.skowronek/miniforge3/envs/aiss_env/lib/python3.9/site-packages/scipy/optimize/_linesearch.py:306: LineSearchWarning: The line search algorithm did not converge\n",
      "  warn('The line search algorithm did not converge', LineSearchWarning)\n",
      "/Users/louis.skowronek/miniforge3/envs/aiss_env/lib/python3.9/site-packages/sklearn/utils/optimize.py:204: UserWarning: Line Search failed\n",
      "  warnings.warn(\"Line Search failed\")\n",
      "/Users/louis.skowronek/miniforge3/envs/aiss_env/lib/python3.9/site-packages/scipy/optimize/_linesearch.py:306: LineSearchWarning: The line search algorithm did not converge\n",
      "  warn('The line search algorithm did not converge', LineSearchWarning)\n",
      "/Users/louis.skowronek/miniforge3/envs/aiss_env/lib/python3.9/site-packages/sklearn/utils/optimize.py:204: UserWarning: Line Search failed\n",
      "  warnings.warn(\"Line Search failed\")\n",
      "/Users/louis.skowronek/miniforge3/envs/aiss_env/lib/python3.9/site-packages/scipy/optimize/_linesearch.py:306: LineSearchWarning: The line search algorithm did not converge\n",
      "  warn('The line search algorithm did not converge', LineSearchWarning)\n",
      "/Users/louis.skowronek/miniforge3/envs/aiss_env/lib/python3.9/site-packages/sklearn/utils/optimize.py:204: UserWarning: Line Search failed\n",
      "  warnings.warn(\"Line Search failed\")\n",
      "/Users/louis.skowronek/miniforge3/envs/aiss_env/lib/python3.9/site-packages/scipy/optimize/_linesearch.py:306: LineSearchWarning: The line search algorithm did not converge\n",
      "  warn('The line search algorithm did not converge', LineSearchWarning)\n",
      "/Users/louis.skowronek/miniforge3/envs/aiss_env/lib/python3.9/site-packages/sklearn/utils/optimize.py:204: UserWarning: Line Search failed\n",
      "  warnings.warn(\"Line Search failed\")\n"
     ]
    },
    {
     "name": "stderr",
     "output_type": "stream",
     "text": [
      "/Users/louis.skowronek/miniforge3/envs/aiss_env/lib/python3.9/site-packages/scipy/optimize/_linesearch.py:306: LineSearchWarning: The line search algorithm did not converge\n",
      "  warn('The line search algorithm did not converge', LineSearchWarning)\n",
      "/Users/louis.skowronek/miniforge3/envs/aiss_env/lib/python3.9/site-packages/sklearn/utils/optimize.py:204: UserWarning: Line Search failed\n",
      "  warnings.warn(\"Line Search failed\")\n"
     ]
    }
   ],
   "source": [
    "X_train, X_test, y_train, y_test = sift_train_features_transformed, sift_test_features_transformed, train_labels, test_labels\n",
    "\n",
    "scaler = Standardizer(library='numpy')\n",
    "X_train = scaler.fit_transform(X_train)\n",
    "X_test = scaler.transform(X_test)\n",
    "\n",
    "grid_search, best_params, best_score = train_tune_test(LogisticRegression(), param_grid, X_train, y_train, X_test, y_test, cv=4)"
   ]
  },
  {
   "cell_type": "markdown",
   "metadata": {},
   "source": [
    "# archive"
   ]
  },
  {
   "cell_type": "code",
   "execution_count": 134,
   "metadata": {
    "ExecuteTime": {
     "end_time": "2023-11-03T13:30:56.318368Z",
     "start_time": "2023-11-03T13:30:56.312221Z"
    }
   },
   "outputs": [],
   "source": [
    "# compare based on cosine similarity -> how similar are the feature vectors?\n",
    "\n",
    "# for each class calculate the average cosine similarity score. the lower the better"
   ]
  },
  {
   "cell_type": "code",
   "execution_count": 135,
   "metadata": {
    "ExecuteTime": {
     "end_time": "2023-11-03T13:31:09.390764Z",
     "start_time": "2023-11-03T13:30:56.581791Z"
    }
   },
   "outputs": [
    {
     "name": "stderr",
     "output_type": "stream",
     "text": [
      "100%|██████████| 73257/73257 [00:09<00:00, 7918.91it/s]\n",
      "100%|██████████| 26032/26032 [00:03<00:00, 7337.60it/s]\n"
     ]
    }
   ],
   "source": [
    "# process it in batches\n",
    "def cosine_sim(data1, data2):\n",
    "\n",
    "    # Calculate the L2 norm (Euclidean norm) for each vector\n",
    "    l2_norms1 = np.sqrt(np.sum(data1**2, axis=1))\n",
    "    l2_norms2 = np.sqrt(np.sum(data2**2, axis=1))\n",
    "\n",
    "    # Normalize the data to have unit-length vectors (L2 norm = 1)\n",
    "    normalized_data1 = data1 / l2_norms1[:, np.newaxis]\n",
    "    normalized_data2 = data2 / l2_norms2[:, np.newaxis]\n",
    "\n",
    "    # Calculate the cosine similarity matrix\n",
    "    cosine_sim = np.dot(normalized_data1, normalized_data2.T)\n",
    "\n",
    "    return cosine_sim"
   ]
  },
  {
   "cell_type": "code",
   "execution_count": 136,
   "metadata": {
    "ExecuteTime": {
     "end_time": "2023-11-03T13:31:09.897235Z",
     "start_time": "2023-11-03T13:31:09.876487Z"
    },
    "scrolled": true
   },
   "outputs": [
    {
     "data": {
      "text/plain": [
       "array([[0., 0., 0., ..., 0., 0., 0.],\n",
       "       [0., 0., 0., ..., 0., 0., 0.],\n",
       "       [0., 0., 0., ..., 3., 0., 0.],\n",
       "       ...,\n",
       "       [0., 0., 0., ..., 0., 0., 0.],\n",
       "       [0., 0., 0., ..., 0., 0., 0.],\n",
       "       [0., 0., 0., ..., 0., 0., 0.]])"
      ]
     },
     "execution_count": 136,
     "metadata": {},
     "output_type": "execute_result"
    }
   ],
   "source": [
    "data1 = X_train[y_train==1]\n",
    "data2 = X_train[y_train==1]"
   ]
  },
  {
   "cell_type": "code",
   "execution_count": 274,
   "metadata": {
    "ExecuteTime": {
     "end_time": "2023-11-03T15:27:43.751096Z",
     "start_time": "2023-11-03T15:27:33.689171Z"
    }
   },
   "outputs": [],
   "source": [
    "c = cosine_sim(data1, data2)"
   ]
  },
  {
   "cell_type": "code",
   "execution_count": 276,
   "metadata": {
    "ExecuteTime": {
     "end_time": "2023-11-03T15:27:58.814984Z",
     "start_time": "2023-11-03T15:27:56.630309Z"
    }
   },
   "outputs": [],
   "source": [
    "c.mean()"
   ]
  },
  {
   "cell_type": "code",
   "execution_count": 14,
   "metadata": {
    "is_executing": true
   },
   "outputs": [],
   "source": [
    "def silhouette_coefficient(X, labels):\n",
    "\n",
    "    tqdm.pandas()\n",
    "\n",
    "    distance_matrix = pairwise_distances(X)\n",
    "    n = len(X)\n",
    "\n",
    "    # Define a lambda function to calculate the silhouette value for a single data point\n",
    "    calculate_silhouette = lambda i: (lambda a, b: (b - a) / max(a, b))(\n",
    "        np.mean(distance_matrix[i][labels == labels[i]]),\n",
    "        min([np.mean(distance_matrix[i][labels != label]) for label in set(labels) if label != labels[i]])\n",
    "    )\n",
    "\n",
    "    silhouette_values = pd.Series(range(n)).progress_apply(calculate_silhouette)\n",
    "\n",
    "    return silhouette_values, silhouette_values.mean()"
   ]
  },
  {
   "cell_type": "code",
   "execution_count": null,
   "metadata": {},
   "outputs": [],
   "source": [
    "for i in range(0, x.size(0), batch_size):\n",
    "\n",
    "    X_batch = x[i : i+batch_size]\n",
    "    y_batch = labels[i : i+batch_size]"
   ]
  }
 ],
 "metadata": {
  "kernelspec": {
   "display_name": "Python 3 (ipykernel)",
   "language": "python",
   "name": "python3"
  },
  "language_info": {
   "codemirror_mode": {
    "name": "ipython",
    "version": 3
   },
   "file_extension": ".py",
   "mimetype": "text/x-python",
   "name": "python",
   "nbconvert_exporter": "python",
   "pygments_lexer": "ipython3",
   "version": "3.9.16"
  }
 },
 "nbformat": 4,
 "nbformat_minor": 1
}
