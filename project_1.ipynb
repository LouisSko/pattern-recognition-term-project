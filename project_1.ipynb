{
 "cells": [
  {
   "cell_type": "code",
   "execution_count": 1,
   "outputs": [],
   "source": [
    "import scipy.io\n",
    "import matplotlib.pyplot as plt\n",
    "from skimage import feature, io, color\n",
    "import numpy as np\n",
    "import pandas as pd\n",
    "import cv2\n",
    "from tqdm import tqdm\n",
    "from sklearn.metrics import pairwise_distances"
   ],
   "metadata": {
    "collapsed": false,
    "ExecuteTime": {
     "end_time": "2023-10-19T09:14:09.222231Z",
     "start_time": "2023-10-19T09:14:07.781434Z"
    }
   }
  },
  {
   "cell_type": "markdown",
   "source": [
    "# 1 Dataset"
   ],
   "metadata": {
    "collapsed": false
   }
  },
  {
   "cell_type": "code",
   "execution_count": 2,
   "outputs": [],
   "source": [
    "def load_svhn_dataset(train_path, test_path):\n",
    "    train_data = scipy.io.loadmat(train_path)\n",
    "    test_data = scipy.io.loadmat(test_path)\n",
    "\n",
    "    train_images = train_data['X']\n",
    "    train_labels = train_data['y']\n",
    "    test_images = test_data['X']\n",
    "    test_labels = test_data['y']\n",
    "\n",
    "    train_images = np.transpose(train_images, (3, 0, 1, 2))\n",
    "    test_images = np.transpose(test_images, (3, 0, 1, 2))\n",
    "\n",
    "    return train_images, train_labels, test_images, test_labels"
   ],
   "metadata": {
    "collapsed": false,
    "ExecuteTime": {
     "end_time": "2023-10-19T09:14:09.225757Z",
     "start_time": "2023-10-19T09:14:09.223213Z"
    }
   }
  },
  {
   "cell_type": "code",
   "execution_count": 3,
   "metadata": {
    "collapsed": true,
    "ExecuteTime": {
     "end_time": "2023-10-19T09:14:10.950574Z",
     "start_time": "2023-10-19T09:14:09.226137Z"
    }
   },
   "outputs": [],
   "source": [
    "# Provide the paths to SVHN train and test datasets\n",
    "train_path = '/Users/louis.skowronek/PycharmProjects/pattern_recognition/term-project/train_32x32.mat'\n",
    "test_path = '/Users/louis.skowronek/PycharmProjects/pattern_recognition/term-project/test_32x32.mat'\n",
    "\n",
    "train_images, train_labels, test_images, test_labels = load_svhn_dataset(train_path, test_path)"
   ]
  },
  {
   "cell_type": "code",
   "execution_count": 4,
   "outputs": [
    {
     "name": "stdout",
     "output_type": "stream",
     "text": [
      "Train images shape: (73257, 32, 32, 3)\n",
      "Train labels shape: (73257, 1)\n",
      "Test images shape: (26032, 32, 32, 3)\n",
      "Test labels shape: (26032, 1)\n"
     ]
    }
   ],
   "source": [
    "# print shapes\n",
    "print(\"Train images shape:\", train_images.shape)\n",
    "print(\"Train labels shape:\", train_labels.shape)\n",
    "print(\"Test images shape:\", test_images.shape)\n",
    "print(\"Test labels shape:\", test_labels.shape)"
   ],
   "metadata": {
    "collapsed": false,
    "ExecuteTime": {
     "end_time": "2023-10-19T09:14:10.953665Z",
     "start_time": "2023-10-19T09:14:10.951225Z"
    }
   }
  },
  {
   "cell_type": "code",
   "execution_count": 5,
   "outputs": [
    {
     "data": {
      "text/plain": "<Figure size 640x480 with 1 Axes>",
      "image/png": "[encoded data removed]"
     },
     "metadata": {},
     "output_type": "display_data"
    }
   ],
   "source": [
    "# show the first image\n",
    "plt.imshow(train_images[0,:,:,:])\n",
    "plt.show()"
   ],
   "metadata": {
    "collapsed": false,
    "ExecuteTime": {
     "end_time": "2023-10-19T08:37:40.668134Z",
     "start_time": "2023-10-19T08:37:40.589841Z"
    }
   }
  },
  {
   "cell_type": "markdown",
   "source": [
    "# 2 Feature Extraction"
   ],
   "metadata": {
    "collapsed": false
   }
  },
  {
   "cell_type": "markdown",
   "source": [
    "## 2.1 make a randomized search for the HP"
   ],
   "metadata": {
    "collapsed": false
   }
  },
  {
   "cell_type": "markdown",
   "source": [
    "### raw feature vectors"
   ],
   "metadata": {
    "collapsed": false
   }
  },
  {
   "cell_type": "code",
   "execution_count": 36,
   "outputs": [],
   "source": [
    "# 1. raw vectors. Concat pixels to one big vector. Very trivial\n",
    "features1 = train_images.reshape(train_images.shape[0], -1)"
   ],
   "metadata": {
    "collapsed": false,
    "ExecuteTime": {
     "end_time": "2023-10-19T06:16:53.266753Z",
     "start_time": "2023-10-19T06:16:52.719934Z"
    }
   }
  },
  {
   "cell_type": "code",
   "execution_count": 37,
   "outputs": [
    {
     "data": {
      "text/plain": "(73257, 3072)"
     },
     "execution_count": 37,
     "metadata": {},
     "output_type": "execute_result"
    }
   ],
   "source": [
    "features1.shape"
   ],
   "metadata": {
    "collapsed": false,
    "ExecuteTime": {
     "end_time": "2023-10-19T06:17:00.427097Z",
     "start_time": "2023-10-19T06:17:00.419590Z"
    }
   }
  },
  {
   "cell_type": "markdown",
   "source": [
    "### grey scale images"
   ],
   "metadata": {
    "collapsed": false
   }
  },
  {
   "cell_type": "code",
   "execution_count": 5,
   "outputs": [],
   "source": [
    "# Display the original image and LBP image\n",
    "def plot_images(images, feature_images, idx = 0):\n",
    "    plt.figure(figsize=(12, 4))\n",
    "    plt.subplot(121)\n",
    "    plt.imshow(images[idx])\n",
    "    plt.title(\"Original Image\")\n",
    "\n",
    "    plt.subplot(122)\n",
    "    plt.imshow(feature_images[idx], cmap='gray')\n",
    "    plt.title(\"Generated Image\")\n",
    "\n",
    "    plt.show()"
   ],
   "metadata": {
    "collapsed": false,
    "ExecuteTime": {
     "end_time": "2023-10-19T09:14:10.960545Z",
     "start_time": "2023-10-19T09:14:10.958667Z"
    }
   }
  },
  {
   "cell_type": "code",
   "execution_count": 6,
   "outputs": [],
   "source": [
    "# Preallocate the lbp_images array\n",
    "def gray_scale(images):\n",
    "    feature_images = np.empty((images.shape[0], images.shape[1], images.shape[2], 1), dtype=np.float32)\n",
    "\n",
    "    # create the lpb images\n",
    "    for i, image in enumerate(tqdm(images)):\n",
    "\n",
    "        # Convert the image to grayscale (Harris corner detection works on grayscale images)\n",
    "        gray_image = cv2.cvtColor(image, cv2.COLOR_RGB2GRAY)\n",
    "\n",
    "        feature_images[i, :, :, 0] = gray_image\n",
    "\n",
    "    return feature_images\n"
   ],
   "metadata": {
    "collapsed": false,
    "ExecuteTime": {
     "end_time": "2023-10-19T09:14:10.972726Z",
     "start_time": "2023-10-19T09:14:10.967689Z"
    }
   }
  },
  {
   "cell_type": "code",
   "execution_count": 7,
   "outputs": [
    {
     "name": "stderr",
     "output_type": "stream",
     "text": [
      "100%|██████████| 73257/73257 [00:00<00:00, 127754.04it/s]\n",
      "100%|██████████| 26032/26032 [00:00<00:00, 116044.47it/s]\n"
     ]
    }
   ],
   "source": [
    "gray_images_train = gray_scale(train_images)\n",
    "gray_images_test = gray_scale(test_images)"
   ],
   "metadata": {
    "collapsed": false,
    "ExecuteTime": {
     "end_time": "2023-10-19T09:14:11.792238Z",
     "start_time": "2023-10-19T09:14:10.973947Z"
    }
   }
  },
  {
   "cell_type": "code",
   "execution_count": 9,
   "outputs": [
    {
     "data": {
      "text/plain": "<Figure size 1200x400 with 2 Axes>",
      "image/png": "[encoded data removed]"
     },
     "metadata": {},
     "output_type": "display_data"
    }
   ],
   "source": [
    "plot_images(train_images, gray_images_train, idx = 39)"
   ],
   "metadata": {
    "collapsed": false,
    "ExecuteTime": {
     "end_time": "2023-10-19T08:37:43.219192Z",
     "start_time": "2023-10-19T08:37:43.087587Z"
    }
   }
  },
  {
   "cell_type": "markdown",
   "source": [
    "### Local Binary Pattern"
   ],
   "metadata": {
    "collapsed": false
   }
  },
  {
   "cell_type": "code",
   "execution_count": 587,
   "outputs": [],
   "source": [
    "def lbp(images):\n",
    "\n",
    "    # Preallocate the lbp_images array\n",
    "    feature_images = np.empty((images.shape[0], images.shape[1], images.shape[2], 1), dtype=np.float32)\n",
    "\n",
    "    # create the lpb images\n",
    "    for i, image in enumerate(tqdm(images)):\n",
    "\n",
    "        # Convert the image to grayscale (Harris corner detection works on grayscale images)\n",
    "        gray_image = cv2.cvtColor(image, cv2.COLOR_RGB2GRAY)\n",
    "\n",
    "        # Compute LBP features\n",
    "        radius = 3\n",
    "        n_points = 8 * radius\n",
    "        feature_images[i, :, :, 0] = feature.local_binary_pattern(gray_image, n_points, radius, method='uniform')\n",
    "\n",
    "    return feature_images"
   ],
   "metadata": {
    "collapsed": false,
    "ExecuteTime": {
     "end_time": "2023-10-18T17:52:33.599145Z",
     "start_time": "2023-10-18T17:52:33.596368Z"
    }
   }
  },
  {
   "cell_type": "code",
   "execution_count": 585,
   "outputs": [
    {
     "name": "stderr",
     "output_type": "stream",
     "text": [
      "100%|██████████| 73257/73257 [00:08<00:00, 8399.90it/s]\n",
      "100%|██████████| 26032/26032 [00:03<00:00, 8553.58it/s]\n"
     ]
    }
   ],
   "source": [
    "lbp_images_train = lbp(train_images)\n",
    "lbp_images_test = lbp(test_images)"
   ],
   "metadata": {
    "collapsed": false,
    "ExecuteTime": {
     "end_time": "2023-10-18T17:52:19.661238Z",
     "start_time": "2023-10-18T17:52:07.852873Z"
    }
   }
  },
  {
   "cell_type": "code",
   "execution_count": 586,
   "outputs": [
    {
     "data": {
      "text/plain": "<Figure size 1200x400 with 2 Axes>",
      "image/png": "[encoded data removed]"
     },
     "metadata": {},
     "output_type": "display_data"
    }
   ],
   "source": [
    "plot_images(train_images, lbp_images_train, idx = 6)"
   ],
   "metadata": {
    "collapsed": false,
    "ExecuteTime": {
     "end_time": "2023-10-18T17:52:19.777027Z",
     "start_time": "2023-10-18T17:52:19.661855Z"
    }
   }
  },
  {
   "cell_type": "markdown",
   "source": [
    "Difficulties:\n",
    "what hyperparameters to choose?\n",
    "sometimes the number is bright and sometimes the number is dark"
   ],
   "metadata": {
    "collapsed": false
   }
  },
  {
   "cell_type": "markdown",
   "source": [
    "### Harris Corner Detection"
   ],
   "metadata": {
    "collapsed": false
   }
  },
  {
   "cell_type": "code",
   "execution_count": 42,
   "outputs": [],
   "source": [
    "def hcd(images):\n",
    "\n",
    "    # Preallocate the feature_images array\n",
    "    feature_images = np.empty((images.shape[0], images.shape[1], images.shape[2], 1), dtype=np.float32)\n",
    "\n",
    "    # Perform Harris Corner Detection\n",
    "\n",
    "    for i, image in enumerate(tqdm(images)):\n",
    "\n",
    "        # Convert the image to grayscale (Harris corner detection works on grayscale images)\n",
    "        gray_image = cv2.cvtColor(image, cv2.COLOR_RGB2GRAY)\n",
    "\n",
    "        # Compute LBP features\n",
    "        feature_images[i, :, :, 0] = cv2.cornerHarris(gray_image, blockSize=1, ksize=3, k=0.04)\n",
    "\n",
    "    return feature_images\n",
    "\n",
    "    # Threshold for corner detection\n",
    "    #corner_threshold = 0.01 * corner_image.max()"
   ],
   "metadata": {
    "collapsed": false,
    "ExecuteTime": {
     "end_time": "2023-10-19T06:20:29.633294Z",
     "start_time": "2023-10-19T06:20:29.626532Z"
    }
   }
  },
  {
   "cell_type": "code",
   "execution_count": 43,
   "outputs": [
    {
     "name": "stderr",
     "output_type": "stream",
     "text": [
      "100%|██████████| 73257/73257 [00:01<00:00, 53625.66it/s]\n",
      "100%|██████████| 26032/26032 [00:00<00:00, 38115.59it/s]\n"
     ]
    }
   ],
   "source": [
    "hcd_images_train = hcd(train_images)\n",
    "hcd_images_test = hcd(test_images)"
   ],
   "metadata": {
    "collapsed": false,
    "ExecuteTime": {
     "end_time": "2023-10-19T06:20:32.873261Z",
     "start_time": "2023-10-19T06:20:30.815408Z"
    }
   }
  },
  {
   "cell_type": "code",
   "execution_count": 44,
   "outputs": [
    {
     "data": {
      "text/plain": "<Figure size 1200x400 with 2 Axes>",
      "image/png": "[encoded data removed]"
     },
     "metadata": {},
     "output_type": "display_data"
    }
   ],
   "source": [
    "plot_images(train_images, hcd_images_train, idx = 1190)"
   ],
   "metadata": {
    "collapsed": false,
    "ExecuteTime": {
     "end_time": "2023-10-19T06:20:33.559413Z",
     "start_time": "2023-10-19T06:20:33.395854Z"
    }
   }
  },
  {
   "cell_type": "markdown",
   "source": [
    "problems: the filling is not white"
   ],
   "metadata": {
    "collapsed": false
   }
  },
  {
   "cell_type": "code",
   "execution_count": 537,
   "outputs": [
    {
     "data": {
      "text/plain": "<matplotlib.image.AxesImage at 0x145054040>"
     },
     "execution_count": 537,
     "metadata": {},
     "output_type": "execute_result"
    },
    {
     "data": {
      "text/plain": "<Figure size 640x480 with 1 Axes>",
      "image/png": "[encoded data removed]"
     },
     "metadata": {},
     "output_type": "display_data"
    }
   ],
   "source": [
    "corner_image = hcd_images_train[0,:,:,0]\n",
    "image = train_images[0,:,:,:]\n",
    "\n",
    "# Threshold for corner detection\n",
    "corner_threshold = 0.05 * corner_image.min()\n",
    "\n",
    "# Create a copy of the original image\n",
    "result_image = image.copy()\n",
    "\n",
    "# Draw the detected corners on the result image\n",
    "result_image[corner_image < corner_threshold] = [255, 0, 0]  # Set corners to red (BGR color format)\n",
    "\n",
    "# Display the result\n",
    "plt.imshow(result_image)"
   ],
   "metadata": {
    "collapsed": false,
    "ExecuteTime": {
     "end_time": "2023-10-18T17:27:27.584021Z",
     "start_time": "2023-10-18T17:27:27.467594Z"
    }
   }
  },
  {
   "cell_type": "markdown",
   "source": [
    "morgen: 2 weitere feature extraction methods\n",
    "grid search implementieren für die hyperparameter\n",
    "comparison based on cosine similarity"
   ],
   "metadata": {
    "collapsed": false
   }
  },
  {
   "cell_type": "markdown",
   "source": [
    "- was ich brauche ist das cropping auf die relevante zahl. --> alles andere im Bild sollte hintergrund sein\n",
    "- combine local binary pattern matching and harris corner prediction"
   ],
   "metadata": {
    "collapsed": false
   }
  },
  {
   "cell_type": "markdown",
   "source": [
    "## 2.2 Quantifying the distinctivness of the features using silhoutte coefficient"
   ],
   "metadata": {
    "collapsed": false
   }
  },
  {
   "cell_type": "code",
   "execution_count": 8,
   "outputs": [],
   "source": [
    "X_train = gray_images_train.reshape(gray_images_train.shape[0], -1)\n",
    "y_train = train_labels.ravel()\n",
    "X_test = gray_images_test.reshape(gray_images_test.shape[0], -1)\n",
    "y_test = test_labels.ravel()"
   ],
   "metadata": {
    "collapsed": false,
    "ExecuteTime": {
     "end_time": "2023-10-19T09:14:19.136517Z",
     "start_time": "2023-10-19T09:14:19.132858Z"
    }
   }
  },
  {
   "cell_type": "code",
   "execution_count": 465,
   "outputs": [
    {
     "data": {
      "text/plain": "array([1], dtype=uint8)"
     },
     "execution_count": 465,
     "metadata": {},
     "output_type": "execute_result"
    }
   ],
   "source": [
    "# compare based on cosine similarity -> how similar are the feature vectors?\n",
    "\n",
    "# for each class calculate the average cosine similarity score. the lower the better"
   ],
   "metadata": {
    "collapsed": false,
    "ExecuteTime": {
     "end_time": "2023-10-18T15:12:45.754324Z",
     "start_time": "2023-10-18T15:12:45.743494Z"
    }
   }
  },
  {
   "cell_type": "code",
   "execution_count": 29,
   "outputs": [],
   "source": [
    "# process it in batches\n",
    "def cosine_sim(data1, data2):\n",
    "\n",
    "    # Calculate the L2 norm (Euclidean norm) for each vector\n",
    "    l2_norms1 = np.sqrt(np.sum(data1**2, axis=1))\n",
    "    l2_norms2 = np.sqrt(np.sum(data2**2, axis=1))\n",
    "\n",
    "    # Normalize the data to have unit-length vectors (L2 norm = 1)\n",
    "    normalized_data1 = data1 / l2_norms1[:, np.newaxis]\n",
    "    normalized_data2 = data2 / l2_norms2[:, np.newaxis]\n",
    "\n",
    "    # Calculate the cosine similarity matrix\n",
    "    cosine_sim = np.dot(normalized_data1, normalized_data2.T)\n",
    "\n",
    "    return cosine_sim"
   ],
   "metadata": {
    "collapsed": false,
    "ExecuteTime": {
     "end_time": "2023-10-19T08:49:09.967551Z",
     "start_time": "2023-10-19T08:49:09.278172Z"
    }
   }
  },
  {
   "cell_type": "code",
   "execution_count": 44,
   "outputs": [],
   "source": [
    "data1 = X_train[y_train==1]\n",
    "data2 = X_train[y_train==1]"
   ],
   "metadata": {
    "collapsed": false,
    "ExecuteTime": {
     "end_time": "2023-10-19T08:52:29.719994Z",
     "start_time": "2023-10-19T08:52:29.624021Z"
    }
   }
  },
  {
   "cell_type": "code",
   "execution_count": 45,
   "outputs": [],
   "source": [
    "c = cosine_sim(data1, data2)"
   ],
   "metadata": {
    "collapsed": false,
    "ExecuteTime": {
     "end_time": "2023-10-19T08:52:31.936282Z",
     "start_time": "2023-10-19T08:52:29.810268Z"
    }
   }
  },
  {
   "cell_type": "code",
   "execution_count": 46,
   "outputs": [
    {
     "data": {
      "text/plain": "0.9121856"
     },
     "execution_count": 46,
     "metadata": {},
     "output_type": "execute_result"
    }
   ],
   "source": [
    "c.mean()"
   ],
   "metadata": {
    "collapsed": false,
    "ExecuteTime": {
     "end_time": "2023-10-19T08:52:31.972612Z",
     "start_time": "2023-10-19T08:52:31.934878Z"
    }
   }
  },
  {
   "cell_type": "code",
   "execution_count": 49,
   "outputs": [],
   "source": [
    "# silhouette coefficient is a measure of how similar an object is to its own cluster (cohesion) compared to other clusters (separation)\n",
    "def silhouette_coefficient(X, labels):\n",
    "    # Calculate pairwise distances between data points\n",
    "    distance_matrix = pairwise_distances(X)\n",
    "\n",
    "    n = len(X)\n",
    "    silhouette_values = []\n",
    "\n",
    "    for i in tqdm(range(n)):\n",
    "        # average distance from the data point i to the other data points in the same cluster.\n",
    "        a = np.mean(distance_matrix[i][labels == labels[i]])\n",
    "        # minimum average distance from the data point i to the data points in a different cluster, minimizing over clusters.\n",
    "        b = min([np.mean(distance_matrix[i][labels != label]) for label in set(labels) if label != labels[i]])\n",
    "        s = (b - a) / max(a, b)\n",
    "        silhouette_values.append(s)\n",
    "\n",
    "    return np.mean(silhouette_values)"
   ],
   "metadata": {
    "collapsed": false,
    "ExecuteTime": {
     "end_time": "2023-10-19T09:01:46.935164Z",
     "start_time": "2023-10-19T09:01:46.931852Z"
    }
   }
  },
  {
   "cell_type": "code",
   "execution_count": 12,
   "outputs": [],
   "source": [
    "def silhouette_coefficient(X, labels):\n",
    "\n",
    "    tqdm.pandas()\n",
    "\n",
    "    distance_matrix = pairwise_distances(X)\n",
    "    n = len(X)\n",
    "\n",
    "    # Define a lambda function to calculate the silhouette value for a single data point\n",
    "    calculate_silhouette = lambda i: (lambda a, b: (b - a) / max(a, b))(\n",
    "        np.mean(distance_matrix[i][labels == labels[i]]),\n",
    "        min([np.mean(distance_matrix[i][labels != label]) for label in set(labels) if label != labels[i]])\n",
    "    )\n",
    "\n",
    "    silhouette_values = pd.Series(range(n)).progress_apply(calculate_silhouette)\n",
    "\n",
    "    return silhouette_values.mean()"
   ],
   "metadata": {
    "collapsed": false,
    "ExecuteTime": {
     "end_time": "2023-10-19T09:18:41.566313Z",
     "start_time": "2023-10-19T09:18:41.561179Z"
    }
   }
  },
  {
   "cell_type": "code",
   "execution_count": null,
   "outputs": [],
   "source": [
    "# Compute the silhouette coefficient for your data and labels\n",
    "silhouette = silhouette_coefficient(X_train, y_train)\n",
    "print(\"Silhouette Coefficient:\", silhouette)"
   ],
   "metadata": {
    "collapsed": false,
    "is_executing": true,
    "ExecuteTime": {
     "start_time": "2023-10-19T09:23:55.577880Z"
    }
   }
  },
  {
   "cell_type": "code",
   "execution_count": null,
   "outputs": [],
   "source": [],
   "metadata": {
    "collapsed": false
   }
  },
  {
   "cell_type": "code",
   "execution_count": null,
   "outputs": [],
   "source": [],
   "metadata": {
    "collapsed": false
   }
  },
  {
   "cell_type": "code",
   "execution_count": null,
   "outputs": [],
   "source": [],
   "metadata": {
    "collapsed": false
   }
  },
  {
   "cell_type": "markdown",
   "source": [
    "i want the average intra class similarity and the average inter class similarity. silhouette coefficient??"
   ],
   "metadata": {
    "collapsed": false
   }
  },
  {
   "cell_type": "code",
   "execution_count": null,
   "outputs": [],
   "source": [],
   "metadata": {
    "collapsed": false
   }
  },
  {
   "cell_type": "markdown",
   "source": [
    "### 2.3"
   ],
   "metadata": {
    "collapsed": false
   }
  },
  {
   "cell_type": "code",
   "execution_count": null,
   "outputs": [],
   "source": [],
   "metadata": {
    "collapsed": false
   }
  },
  {
   "cell_type": "code",
   "execution_count": null,
   "outputs": [],
   "source": [],
   "metadata": {
    "collapsed": false
   }
  },
  {
   "cell_type": "code",
   "execution_count": null,
   "outputs": [],
   "source": [],
   "metadata": {
    "collapsed": false
   }
  },
  {
   "cell_type": "markdown",
   "source": [
    "# 3. Classification"
   ],
   "metadata": {
    "collapsed": false
   }
  },
  {
   "cell_type": "markdown",
   "source": [
    "## 3.1"
   ],
   "metadata": {
    "collapsed": false
   }
  },
  {
   "cell_type": "code",
   "execution_count": 21,
   "outputs": [],
   "source": [
    "from sklearn.neighbors import KNeighborsClassifier\n",
    "from sklearn import metrics"
   ],
   "metadata": {
    "collapsed": false,
    "ExecuteTime": {
     "end_time": "2023-10-19T06:11:24.089055Z",
     "start_time": "2023-10-19T06:11:23.742606Z"
    }
   }
  },
  {
   "cell_type": "code",
   "execution_count": 22,
   "outputs": [
    {
     "data": {
      "text/plain": "(73257, 32, 32, 1)"
     },
     "execution_count": 22,
     "metadata": {},
     "output_type": "execute_result"
    }
   ],
   "source": [
    "gray_images_train.shape"
   ],
   "metadata": {
    "collapsed": false,
    "ExecuteTime": {
     "end_time": "2023-10-19T06:11:32.982742Z",
     "start_time": "2023-10-19T06:11:32.975610Z"
    }
   }
  },
  {
   "cell_type": "code",
   "execution_count": 45,
   "outputs": [],
   "source": [
    "X_train = hcd_images_train.reshape(hcd_images_train.shape[0], -1)\n",
    "y_train = train_labels.ravel()\n",
    "X_test = hcd_images_test.reshape(hcd_images_test.shape[0], -1)\n",
    "y_test = test_labels.ravel()"
   ],
   "metadata": {
    "collapsed": false,
    "ExecuteTime": {
     "end_time": "2023-10-19T06:20:50.990555Z",
     "start_time": "2023-10-19T06:20:50.986623Z"
    }
   }
  },
  {
   "cell_type": "code",
   "execution_count": 46,
   "outputs": [
    {
     "data": {
      "text/plain": "(26032, 1024)"
     },
     "execution_count": 46,
     "metadata": {},
     "output_type": "execute_result"
    }
   ],
   "source": [
    "X_test.shape"
   ],
   "metadata": {
    "collapsed": false,
    "ExecuteTime": {
     "end_time": "2023-10-19T06:20:51.764809Z",
     "start_time": "2023-10-19T06:20:51.754686Z"
    }
   }
  },
  {
   "cell_type": "code",
   "execution_count": 51,
   "outputs": [],
   "source": [
    "# Create a k-NN classifier\n",
    "knn = KNeighborsClassifier(n_neighbors=20)\n",
    "\n",
    "# Fit the classifier to the training data\n",
    "knn.fit(X_train, y_train)\n",
    "\n",
    "# Make predictions on the test data\n",
    "y_pred = knn.predict(X_test)"
   ],
   "metadata": {
    "collapsed": false,
    "ExecuteTime": {
     "end_time": "2023-10-19T06:22:25.388374Z",
     "start_time": "2023-10-19T06:21:57.584599Z"
    }
   }
  },
  {
   "cell_type": "code",
   "execution_count": 52,
   "outputs": [
    {
     "data": {
      "text/plain": "0.39993085433312847"
     },
     "execution_count": 52,
     "metadata": {},
     "output_type": "execute_result"
    }
   ],
   "source": [
    "metrics.accuracy_score(y_test, y_pred)"
   ],
   "metadata": {
    "collapsed": false,
    "ExecuteTime": {
     "end_time": "2023-10-19T06:22:26.819787Z",
     "start_time": "2023-10-19T06:22:26.812662Z"
    }
   }
  },
  {
   "cell_type": "markdown",
   "source": [
    "## 3.2"
   ],
   "metadata": {
    "collapsed": false
   }
  },
  {
   "cell_type": "code",
   "execution_count": null,
   "outputs": [],
   "source": [],
   "metadata": {
    "collapsed": false
   }
  }
 ],
 "metadata": {
  "kernelspec": {
   "display_name": "Python 3",
   "language": "python",
   "name": "python3"
  },
  "language_info": {
   "codemirror_mode": {
    "name": "ipython",
    "version": 2
   },
   "file_extension": ".py",
   "mimetype": "text/x-python",
   "name": "python",
   "nbconvert_exporter": "python",
   "pygments_lexer": "ipython2",
   "version": "2.7.6"
  }
 },
 "nbformat": 4,
 "nbformat_minor": 0
}
