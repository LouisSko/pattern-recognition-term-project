{
 "cells": [
  {
   "cell_type": "code",
   "execution_count": 275,
   "outputs": [],
   "source": [
    "import scipy.io\n",
    "import matplotlib.pyplot as plt\n",
    "from skimage import feature, io, color\n",
    "import numpy as np\n",
    "from tqdm import tqdm"
   ],
   "metadata": {
    "collapsed": false,
    "ExecuteTime": {
     "end_time": "2023-10-18T14:17:24.078375Z",
     "start_time": "2023-10-18T14:17:24.076244Z"
    }
   }
  },
  {
   "cell_type": "markdown",
   "source": [
    "# 1 Dataset"
   ],
   "metadata": {
    "collapsed": false
   }
  },
  {
   "cell_type": "code",
   "execution_count": 276,
   "outputs": [],
   "source": [
    "def load_svhn_dataset(train_path, test_path):\n",
    "    train_data = scipy.io.loadmat(train_path)\n",
    "    test_data = scipy.io.loadmat(test_path)\n",
    "\n",
    "    train_images = train_data['X']\n",
    "    train_labels = train_data['y']\n",
    "    test_images = test_data['X']\n",
    "    test_labels = test_data['y']\n",
    "\n",
    "    train_images = np.transpose(train_images, (3, 0, 1, 2))\n",
    "    test_images = np.transpose(test_images, (3, 0, 1, 2))\n",
    "\n",
    "    return train_images, train_labels, test_images, test_labels"
   ],
   "metadata": {
    "collapsed": false,
    "ExecuteTime": {
     "end_time": "2023-10-18T14:17:25.166460Z",
     "start_time": "2023-10-18T14:17:25.159914Z"
    }
   }
  },
  {
   "cell_type": "code",
   "execution_count": 279,
   "metadata": {
    "collapsed": true,
    "ExecuteTime": {
     "end_time": "2023-10-18T14:17:51.184049Z",
     "start_time": "2023-10-18T14:17:49.541309Z"
    }
   },
   "outputs": [],
   "source": [
    "# Provide the paths to SVHN train and test datasets\n",
    "train_path = '/Users/louis.skowronek/PycharmProjects/pattern_recognition/term-project/train_32x32.mat'\n",
    "test_path = '/Users/louis.skowronek/PycharmProjects/pattern_recognition/term-project/test_32x32.mat'\n",
    "\n",
    "train_images, train_labels, test_images, test_labels = load_svhn_dataset(train_path, test_path)"
   ]
  },
  {
   "cell_type": "code",
   "execution_count": 280,
   "outputs": [
    {
     "name": "stdout",
     "output_type": "stream",
     "text": [
      "Train images shape: (73257, 32, 32, 3)\n",
      "Train labels shape: (73257, 1)\n",
      "Test images shape: (26032, 32, 32, 3)\n",
      "Test labels shape: (26032, 1)\n"
     ]
    }
   ],
   "source": [
    "# print shapes\n",
    "print(\"Train images shape:\", train_images.shape)\n",
    "print(\"Train labels shape:\", train_labels.shape)\n",
    "print(\"Test images shape:\", test_images.shape)\n",
    "print(\"Test labels shape:\", test_labels.shape)"
   ],
   "metadata": {
    "collapsed": false,
    "ExecuteTime": {
     "end_time": "2023-10-18T14:17:51.344006Z",
     "start_time": "2023-10-18T14:17:51.339939Z"
    }
   }
  },
  {
   "cell_type": "code",
   "execution_count": 281,
   "outputs": [
    {
     "data": {
      "text/plain": "<Figure size 640x480 with 1 Axes>",
      "image/png": "[encoded data removed]"
     },
     "metadata": {},
     "output_type": "display_data"
    }
   ],
   "source": [
    "# show the first image\n",
    "plt.imshow(train_images[0,:,:,:])\n",
    "plt.show()"
   ],
   "metadata": {
    "collapsed": false,
    "ExecuteTime": {
     "end_time": "2023-10-18T14:17:52.864364Z",
     "start_time": "2023-10-18T14:17:52.762843Z"
    }
   }
  },
  {
   "cell_type": "markdown",
   "source": [
    "# 2 Feature Extraction"
   ],
   "metadata": {
    "collapsed": false
   }
  },
  {
   "cell_type": "markdown",
   "source": [
    "## 2.1"
   ],
   "metadata": {
    "collapsed": false
   }
  },
  {
   "cell_type": "markdown",
   "source": [
    "### raw feature vectors"
   ],
   "metadata": {
    "collapsed": false
   }
  },
  {
   "cell_type": "code",
   "execution_count": 282,
   "outputs": [],
   "source": [
    "# 1. raw vectors. Concat pixels to one big vector. Very trivial\n",
    "features1 = train_images.reshape(train_images.shape[0], -1)"
   ],
   "metadata": {
    "collapsed": false,
    "ExecuteTime": {
     "end_time": "2023-10-18T14:17:54.583496Z",
     "start_time": "2023-10-18T14:17:54.167019Z"
    }
   }
  },
  {
   "cell_type": "code",
   "execution_count": 283,
   "outputs": [
    {
     "data": {
      "text/plain": "array([ 30,  76,  54, ...,  78, 188, 217], dtype=uint8)"
     },
     "execution_count": 283,
     "metadata": {},
     "output_type": "execute_result"
    }
   ],
   "source": [
    "features1[:,1]"
   ],
   "metadata": {
    "collapsed": false,
    "ExecuteTime": {
     "end_time": "2023-10-18T14:17:54.588818Z",
     "start_time": "2023-10-18T14:17:54.586312Z"
    }
   }
  },
  {
   "cell_type": "markdown",
   "source": [
    "### Local Binary Pattern"
   ],
   "metadata": {
    "collapsed": false
   }
  },
  {
   "cell_type": "code",
   "execution_count": 446,
   "outputs": [],
   "source": [
    "def lbp(images):\n",
    "\n",
    "    # Preallocate the lbp_images array\n",
    "    feature_images = np.empty((images.shape[0], images.shape[1], images.shape[2], 1), dtype=np.float32)\n",
    "\n",
    "    # create the lpb images\n",
    "    for i, image in enumerate(tqdm(images)):\n",
    "\n",
    "        # Convert the image to grayscale (Harris corner detection works on grayscale images)\n",
    "        gray_image = cv2.cvtColor(image, cv2.COLOR_RGB2GRAY)\n",
    "\n",
    "        # Compute LBP features\n",
    "        radius = 3\n",
    "        n_points = 8 * radius\n",
    "        feature_images[i, :, :, 0] = feature.local_binary_pattern(gray_image, n_points, radius, method='uniform')\n",
    "\n",
    "    return feature_images"
   ],
   "metadata": {
    "collapsed": false,
    "ExecuteTime": {
     "end_time": "2023-10-18T15:09:40.888734Z",
     "start_time": "2023-10-18T15:09:40.884037Z"
    }
   }
  },
  {
   "cell_type": "code",
   "execution_count": 456,
   "outputs": [],
   "source": [
    "# Display the original image and LBP image\n",
    "def plot_images(images, feature_images, idx = 0):\n",
    "    plt.figure(figsize=(12, 4))\n",
    "    plt.subplot(121)\n",
    "    plt.imshow(images[idx])\n",
    "    plt.title(\"Original Image\")\n",
    "\n",
    "    plt.subplot(122)\n",
    "    plt.imshow(feature_images[idx], cmap='gray')\n",
    "    plt.title(\"LBP Image\")\n",
    "\n",
    "    plt.show()"
   ],
   "metadata": {
    "collapsed": false,
    "ExecuteTime": {
     "end_time": "2023-10-18T15:11:47.581189Z",
     "start_time": "2023-10-18T15:11:47.576940Z"
    }
   }
  },
  {
   "cell_type": "code",
   "execution_count": 448,
   "outputs": [
    {
     "name": "stderr",
     "output_type": "stream",
     "text": [
      "100%|██████████| 73257/73257 [00:09<00:00, 8068.30it/s]\n",
      "100%|██████████| 26032/26032 [00:03<00:00, 7155.01it/s]\n"
     ]
    }
   ],
   "source": [
    "lbp_images_train = lbp(train_images)\n",
    "lbp_images_test = lbp(test_images)"
   ],
   "metadata": {
    "collapsed": false,
    "ExecuteTime": {
     "end_time": "2023-10-18T15:09:55.134027Z",
     "start_time": "2023-10-18T15:09:42.407998Z"
    }
   }
  },
  {
   "cell_type": "code",
   "execution_count": 457,
   "outputs": [
    {
     "data": {
      "text/plain": "<Figure size 1200x400 with 2 Axes>",
      "image/png": "[encoded data removed]"
     },
     "metadata": {},
     "output_type": "display_data"
    }
   ],
   "source": [
    "plot_images(train_images, lbp_images_train, idx = 290)"
   ],
   "metadata": {
    "collapsed": false,
    "ExecuteTime": {
     "end_time": "2023-10-18T15:11:51.466235Z",
     "start_time": "2023-10-18T15:11:51.361016Z"
    }
   }
  },
  {
   "cell_type": "markdown",
   "source": [
    "Difficulties:\n",
    "what hyperparameters to choose?"
   ],
   "metadata": {
    "collapsed": false
   }
  },
  {
   "cell_type": "markdown",
   "source": [
    "### Harris Corner Detection"
   ],
   "metadata": {
    "collapsed": false
   }
  },
  {
   "cell_type": "code",
   "execution_count": 346,
   "outputs": [],
   "source": [
    "import cv2\n",
    "import numpy as np"
   ],
   "metadata": {
    "collapsed": false,
    "ExecuteTime": {
     "end_time": "2023-10-18T14:46:40.512171Z",
     "start_time": "2023-10-18T14:46:37.601204Z"
    }
   }
  },
  {
   "cell_type": "code",
   "execution_count": 469,
   "outputs": [],
   "source": [
    "def hcd(images):\n",
    "\n",
    "    # Preallocate the feature_images array\n",
    "    feature_images = np.empty((images.shape[0], images.shape[1], images.shape[2], 1), dtype=np.float32)\n",
    "\n",
    "    # Perform Harris Corner Detection\n",
    "\n",
    "    for i, image in enumerate(tqdm(images)):\n",
    "\n",
    "        # Convert the image to grayscale (Harris corner detection works on grayscale images)\n",
    "        gray_image = cv2.cvtColor(image, cv2.COLOR_RGB2GRAY)\n",
    "\n",
    "        # Compute LBP features\n",
    "        feature_images[i, :, :, 0] = cv2.cornerHarris(gray_image, blockSize=1, ksize=3, k=0.04)\n",
    "\n",
    "    return feature_images\n",
    "\n",
    "    # Threshold for corner detection\n",
    "    #corner_threshold = 0.01 * corner_image.max()"
   ],
   "metadata": {
    "collapsed": false,
    "ExecuteTime": {
     "end_time": "2023-10-18T15:26:23.365871Z",
     "start_time": "2023-10-18T15:26:23.360120Z"
    }
   }
  },
  {
   "cell_type": "code",
   "execution_count": 470,
   "outputs": [
    {
     "name": "stderr",
     "output_type": "stream",
     "text": [
      "100%|██████████| 73257/73257 [00:01<00:00, 50303.52it/s]\n",
      "100%|██████████| 26032/26032 [00:00<00:00, 56376.82it/s]\n"
     ]
    }
   ],
   "source": [
    "hcd_images_train = hcd(train_images)\n",
    "hcd_images_test = hcd(test_images)"
   ],
   "metadata": {
    "collapsed": false,
    "ExecuteTime": {
     "end_time": "2023-10-18T15:26:26.185580Z",
     "start_time": "2023-10-18T15:26:24.260354Z"
    }
   }
  },
  {
   "cell_type": "code",
   "execution_count": 478,
   "outputs": [
    {
     "data": {
      "text/plain": "<Figure size 1200x400 with 2 Axes>",
      "image/png": "[encoded data removed]"
     },
     "metadata": {},
     "output_type": "display_data"
    }
   ],
   "source": [
    "plot_images(train_images, hcd_images_train, idx = 90)"
   ],
   "metadata": {
    "collapsed": false,
    "ExecuteTime": {
     "end_time": "2023-10-18T15:27:19.890521Z",
     "start_time": "2023-10-18T15:27:19.746442Z"
    }
   }
  },
  {
   "cell_type": "markdown",
   "source": [
    "## 2.2"
   ],
   "metadata": {
    "collapsed": false
   }
  },
  {
   "cell_type": "code",
   "execution_count": 465,
   "outputs": [
    {
     "data": {
      "text/plain": "array([1], dtype=uint8)"
     },
     "execution_count": 465,
     "metadata": {},
     "output_type": "execute_result"
    }
   ],
   "source": [
    "compare based on distance metric"
   ],
   "metadata": {
    "collapsed": false,
    "ExecuteTime": {
     "end_time": "2023-10-18T15:12:45.754324Z",
     "start_time": "2023-10-18T15:12:45.743494Z"
    }
   }
  },
  {
   "cell_type": "code",
   "execution_count": null,
   "outputs": [],
   "source": [],
   "metadata": {
    "collapsed": false
   }
  },
  {
   "cell_type": "markdown",
   "source": [
    "# 3. Classification"
   ],
   "metadata": {
    "collapsed": false
   }
  },
  {
   "cell_type": "markdown",
   "source": [
    "## 3.1"
   ],
   "metadata": {
    "collapsed": false
   }
  },
  {
   "cell_type": "code",
   "execution_count": 472,
   "outputs": [],
   "source": [
    "from sklearn.neighbors import KNeighborsClassifier\n",
    "from sklearn import metrics"
   ],
   "metadata": {
    "collapsed": false,
    "ExecuteTime": {
     "end_time": "2023-10-18T15:26:32.522343Z",
     "start_time": "2023-10-18T15:26:32.516977Z"
    }
   }
  },
  {
   "cell_type": "code",
   "execution_count": 479,
   "outputs": [
    {
     "data": {
      "text/plain": "(73257, 32, 32, 1)"
     },
     "execution_count": 479,
     "metadata": {},
     "output_type": "execute_result"
    }
   ],
   "source": [
    "hcd_images_train"
   ],
   "metadata": {
    "collapsed": false,
    "ExecuteTime": {
     "end_time": "2023-10-18T15:27:58.403332Z",
     "start_time": "2023-10-18T15:27:58.393651Z"
    }
   }
  },
  {
   "cell_type": "code",
   "execution_count": 492,
   "outputs": [],
   "source": [
    "X_train = hcd_images_train.reshape(hcd_images_train.shape[0], -1).mean(axis=1)\n",
    "y_train = train_labels.ravel()\n",
    "X_test = hcd_images_test.reshape(hcd_images_test.shape[0], -1).mean(axis=1)\n",
    "y_test = test_labels.ravel()"
   ],
   "metadata": {
    "collapsed": false,
    "ExecuteTime": {
     "end_time": "2023-10-18T15:29:17.515131Z",
     "start_time": "2023-10-18T15:29:17.376373Z"
    }
   }
  },
  {
   "cell_type": "code",
   "execution_count": 494,
   "outputs": [],
   "source": [
    "# Create a k-NN classifier with k=3\n",
    "knn = KNeighborsClassifier(n_neighbors=3)\n",
    "\n",
    "# Fit the classifier to the training data\n",
    "knn.fit(X_train.reshape(-1, 1), y_train)\n",
    "\n",
    "# Make predictions on the test data\n",
    "y_pred = knn.predict(X_test.reshape(-1, 1))"
   ],
   "metadata": {
    "collapsed": false,
    "ExecuteTime": {
     "end_time": "2023-10-18T15:29:55.038843Z",
     "start_time": "2023-10-18T15:29:54.813753Z"
    }
   }
  },
  {
   "cell_type": "code",
   "execution_count": 495,
   "outputs": [
    {
     "data": {
      "text/plain": "0.14916256914566686"
     },
     "execution_count": 495,
     "metadata": {},
     "output_type": "execute_result"
    }
   ],
   "source": [
    "metrics.accuracy_score(y_test, y_pred)"
   ],
   "metadata": {
    "collapsed": false,
    "ExecuteTime": {
     "end_time": "2023-10-18T15:29:56.178035Z",
     "start_time": "2023-10-18T15:29:56.153980Z"
    }
   }
  },
  {
   "cell_type": "markdown",
   "source": [
    "## 3.2"
   ],
   "metadata": {
    "collapsed": false
   }
  },
  {
   "cell_type": "code",
   "execution_count": null,
   "outputs": [],
   "source": [],
   "metadata": {
    "collapsed": false
   }
  }
 ],
 "metadata": {
  "kernelspec": {
   "display_name": "Python 3",
   "language": "python",
   "name": "python3"
  },
  "language_info": {
   "codemirror_mode": {
    "name": "ipython",
    "version": 2
   },
   "file_extension": ".py",
   "mimetype": "text/x-python",
   "name": "python",
   "nbconvert_exporter": "python",
   "pygments_lexer": "ipython2",
   "version": "2.7.6"
  }
 },
 "nbformat": 4,
 "nbformat_minor": 0
}
