{
 "cells": [
  {
   "cell_type": "code",
   "execution_count": 131,
   "outputs": [],
   "source": [
    "import scipy.io\n",
    "import matplotlib.pyplot as plt\n",
    "from skimage import feature, io, color\n",
    "import numpy as np\n",
    "from tqdm import tqdm"
   ],
   "metadata": {
    "collapsed": false,
    "ExecuteTime": {
     "end_time": "2023-10-16T13:52:25.502303Z",
     "start_time": "2023-10-16T13:52:25.487275Z"
    }
   }
  },
  {
   "cell_type": "markdown",
   "source": [
    "# 1 Dataset"
   ],
   "metadata": {
    "collapsed": false
   }
  },
  {
   "cell_type": "code",
   "execution_count": 107,
   "outputs": [],
   "source": [
    "def load_svhn_dataset(train_path, test_path):\n",
    "    train_data = scipy.io.loadmat(train_path)\n",
    "    test_data = scipy.io.loadmat(test_path)\n",
    "\n",
    "    train_images = train_data['X']\n",
    "    train_labels = train_data['y']\n",
    "    test_images = test_data['X']\n",
    "    test_labels = test_data['y']\n",
    "\n",
    "    train_images = np.transpose(train_images, (3, 0, 1, 2))\n",
    "    test_images = np.transpose(test_images, (3, 0, 1, 2))\n",
    "\n",
    "    return train_images, train_labels, test_images, test_labels"
   ],
   "metadata": {
    "collapsed": false,
    "ExecuteTime": {
     "end_time": "2023-10-16T13:47:07.490092Z",
     "start_time": "2023-10-16T13:47:07.488307Z"
    }
   }
  },
  {
   "cell_type": "code",
   "execution_count": 108,
   "metadata": {
    "collapsed": true,
    "ExecuteTime": {
     "end_time": "2023-10-16T13:47:09.832525Z",
     "start_time": "2023-10-16T13:47:08.019728Z"
    }
   },
   "outputs": [],
   "source": [
    "# Provide the paths to SVHN train and test datasets\n",
    "train_path = '/Users/louis.skowronek/PycharmProjects/pattern_recognition/train_32x32.mat'\n",
    "test_path = '/Users/louis.skowronek/PycharmProjects/pattern_recognition/test_32x32.mat'\n",
    "\n",
    "train_images, train_labels, test_images, test_labels = load_svhn_dataset(train_path, test_path)"
   ]
  },
  {
   "cell_type": "code",
   "execution_count": 109,
   "outputs": [
    {
     "name": "stdout",
     "output_type": "stream",
     "text": [
      "Train images shape: (73257, 32, 32, 3)\n",
      "Train labels shape: (73257, 1)\n",
      "Test images shape: (26032, 32, 32, 3)\n",
      "Test labels shape: (26032, 1)\n"
     ]
    }
   ],
   "source": [
    "# print shapes\n",
    "print(\"Train images shape:\", train_images.shape)\n",
    "print(\"Train labels shape:\", train_labels.shape)\n",
    "print(\"Test images shape:\", test_images.shape)\n",
    "print(\"Test labels shape:\", test_labels.shape)"
   ],
   "metadata": {
    "collapsed": false,
    "ExecuteTime": {
     "end_time": "2023-10-16T13:47:09.835859Z",
     "start_time": "2023-10-16T13:47:09.833654Z"
    }
   }
  },
  {
   "cell_type": "code",
   "execution_count": 110,
   "outputs": [
    {
     "data": {
      "text/plain": "<Figure size 640x480 with 1 Axes>",
      "image/png": "[encoded data removed]"
     },
     "metadata": {},
     "output_type": "display_data"
    }
   ],
   "source": [
    "# show the first image\n",
    "plt.imshow(train_images[0,:,:,:])\n",
    "plt.show()"
   ],
   "metadata": {
    "collapsed": false,
    "ExecuteTime": {
     "end_time": "2023-10-16T13:47:09.912397Z",
     "start_time": "2023-10-16T13:47:09.841769Z"
    }
   }
  },
  {
   "cell_type": "markdown",
   "source": [
    "# 2 Feature Extraction"
   ],
   "metadata": {
    "collapsed": false
   }
  },
  {
   "cell_type": "code",
   "execution_count": 113,
   "outputs": [],
   "source": [
    "# 1. raw vectors. Concat pixels to one big vector. Very trivial\n",
    "features1 = train_images.reshape(train_images.shape[0], -1)"
   ],
   "metadata": {
    "collapsed": false,
    "ExecuteTime": {
     "end_time": "2023-10-16T13:47:50.035136Z",
     "start_time": "2023-10-16T13:47:49.486578Z"
    }
   }
  },
  {
   "cell_type": "code",
   "execution_count": 116,
   "outputs": [
    {
     "data": {
      "text/plain": "array([ 30,  76,  54, ...,  78, 188, 217], dtype=uint8)"
     },
     "execution_count": 116,
     "metadata": {},
     "output_type": "execute_result"
    }
   ],
   "source": [
    "features1[:,1]"
   ],
   "metadata": {
    "collapsed": false,
    "ExecuteTime": {
     "end_time": "2023-10-16T13:47:55.560567Z",
     "start_time": "2023-10-16T13:47:55.552724Z"
    }
   }
  },
  {
   "cell_type": "code",
   "execution_count": 117,
   "outputs": [],
   "source": [
    "# 2. Local Binary Pattern"
   ],
   "metadata": {
    "collapsed": false,
    "ExecuteTime": {
     "end_time": "2023-10-16T13:48:01.273253Z",
     "start_time": "2023-10-16T13:48:01.268508Z"
    }
   }
  },
  {
   "cell_type": "code",
   "execution_count": 120,
   "outputs": [],
   "source": [
    "# Convert the image to grayscale\n",
    "gray_images = np.mean(train_images, axis=3, keepdims=True)"
   ],
   "metadata": {
    "collapsed": false,
    "ExecuteTime": {
     "end_time": "2023-10-16T13:48:16.018036Z",
     "start_time": "2023-10-16T13:48:15.283026Z"
    }
   }
  },
  {
   "cell_type": "code",
   "execution_count": 122,
   "outputs": [],
   "source": [
    "#plt.imshow(gray_images[1,:,:,:], cmap='gray')\n",
    "#plt.show()"
   ],
   "metadata": {
    "collapsed": false,
    "ExecuteTime": {
     "end_time": "2023-10-16T13:48:29.913612Z",
     "start_time": "2023-10-16T13:48:29.910868Z"
    }
   }
  },
  {
   "cell_type": "code",
   "execution_count": 269,
   "outputs": [
    {
     "name": "stderr",
     "output_type": "stream",
     "text": [
      "100%|██████████| 73257/73257 [00:06<00:00, 11132.28it/s]\n"
     ]
    }
   ],
   "source": [
    "# Preallocate the lbp_images array\n",
    "lbp_images = np.empty((gray_images.shape[0], gray_images.shape[1], gray_images.shape[2], 1), dtype=np.uint8)\n",
    "\n",
    "# create the lpb images\n",
    "for i, gray_image in enumerate(tqdm(gray_images)):\n",
    "    # Compute LBP features\n",
    "    radius = 2\n",
    "    n_points = 8 * radius\n",
    "    lbp_images[i, :, :, 0] = feature.local_binary_pattern(gray_image[:, :, 0], n_points, radius, method='uniform')"
   ],
   "metadata": {
    "collapsed": false,
    "ExecuteTime": {
     "end_time": "2023-10-16T14:27:45.776943Z",
     "start_time": "2023-10-16T14:27:39.193955Z"
    }
   }
  },
  {
   "cell_type": "code",
   "execution_count": 273,
   "outputs": [
    {
     "data": {
      "text/plain": "<Figure size 1200x400 with 2 Axes>",
      "image/png": "[encoded data removed]"
     },
     "metadata": {},
     "output_type": "display_data"
    }
   ],
   "source": [
    "# Display the original image and LBP image\n",
    "plt.figure(figsize=(12, 4))\n",
    "plt.subplot(121)\n",
    "plt.imshow(gray_images[13], cmap='gray')\n",
    "plt.title(\"Original Image\")\n",
    "\n",
    "plt.subplot(122)\n",
    "plt.imshow(lbp_images[13], cmap='gray')\n",
    "plt.title(\"LBP Image\")\n",
    "\n",
    "plt.show()"
   ],
   "metadata": {
    "collapsed": false,
    "ExecuteTime": {
     "end_time": "2023-10-16T14:28:39.720362Z",
     "start_time": "2023-10-16T14:28:39.577990Z"
    }
   }
  },
  {
   "cell_type": "markdown",
   "source": [
    "Difficulties:\n",
    "what hyperparameters to choose?"
   ],
   "metadata": {
    "collapsed": false
   }
  },
  {
   "cell_type": "code",
   "execution_count": null,
   "outputs": [],
   "source": [
    "3."
   ],
   "metadata": {
    "collapsed": false
   }
  }
 ],
 "metadata": {
  "kernelspec": {
   "display_name": "Python 3",
   "language": "python",
   "name": "python3"
  },
  "language_info": {
   "codemirror_mode": {
    "name": "ipython",
    "version": 2
   },
   "file_extension": ".py",
   "mimetype": "text/x-python",
   "name": "python",
   "nbconvert_exporter": "python",
   "pygments_lexer": "ipython2",
   "version": "2.7.6"
  }
 },
 "nbformat": 4,
 "nbformat_minor": 0
}
