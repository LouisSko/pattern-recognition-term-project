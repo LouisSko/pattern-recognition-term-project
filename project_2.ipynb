{
 "cells": [
  {
   "cell_type": "code",
   "execution_count": 30,
   "id": "5b103fa4-27c6-4208-8de2-48e5495701dd",
   "metadata": {
    "executionInfo": {
     "elapsed": 4,
     "status": "ok",
     "timestamp": 1702132161964,
     "user": {
      "displayName": "Louis Skowronek1",
      "userId": "14613357057446961286"
     },
     "user_tz": -180
    },
    "id": "5b103fa4-27c6-4208-8de2-48e5495701dd"
   },
   "outputs": [
    {
     "name": "stdout",
     "output_type": "stream",
     "text": [
      "The autoreload extension is already loaded. To reload it, use:\n",
      "  %reload_ext autoreload\n"
     ]
    }
   ],
   "source": [
    "%load_ext autoreload\n",
    "%autoreload 2\n",
    "%reload_ext autoreload"
   ]
  },
  {
   "cell_type": "code",
   "execution_count": 2,
   "id": "vSILJo4JajTd",
   "metadata": {
    "colab": {
     "base_uri": "https://localhost:8080/"
    },
    "executionInfo": {
     "elapsed": 19914,
     "status": "ok",
     "timestamp": 1702132181875,
     "user": {
      "displayName": "Louis Skowronek1",
      "userId": "14613357057446961286"
     },
     "user_tz": -180
    },
    "id": "vSILJo4JajTd",
    "outputId": "faeccf80-dade-478a-c21b-8f01dfa93bb8"
   },
   "outputs": [
    {
     "name": "stdout",
     "output_type": "stream",
     "text": [
      "Mounted at /content/drive\n"
     ]
    }
   ],
   "source": [
    "import pandas as pd\n",
    "import pickle\n",
    "import numpy as np\n",
    "from google.colab import drive\n",
    "drive.mount('/content/drive')\n",
    "import sys\n",
    "sys.path.append('/content/drive/MyDrive/pattern_recognition_project')"
   ]
  },
  {
   "cell_type": "code",
   "execution_count": 32,
   "id": "RbEVeFz3MDx5",
   "metadata": {
    "id": "RbEVeFz3MDx5"
   },
   "outputs": [],
   "source": [
    "from random_forest import train_tune_model, solver, add_ensemble, compute_metrics\n",
    "from feature_extraction import create_all_features\n",
    "from utils import load_svhn_dataset"
   ]
  },
  {
   "cell_type": "markdown",
   "id": "bd4d2939-c2db-41a0-84ea-7db390123c1e",
   "metadata": {},
   "source": [
    "# Tree based Methods"
   ]
  },
  {
   "cell_type": "markdown",
   "id": "89f345c8-77e2-4af6-bc8f-114c8a52372e",
   "metadata": {
    "id": "89f345c8-77e2-4af6-bc8f-114c8a52372e"
   },
   "source": [
    "## Load the data and create Features"
   ]
  },
  {
   "cell_type": "code",
   "execution_count": 33,
   "id": "n6E_r6ApKt0n",
   "metadata": {
    "executionInfo": {
     "elapsed": 3342,
     "status": "ok",
     "timestamp": 1702125593318,
     "user": {
      "displayName": "Louis Skowronek1",
      "userId": "14613357057446961286"
     },
     "user_tz": -180
    },
    "id": "n6E_r6ApKt0n"
   },
   "outputs": [],
   "source": [
    "# Provide the paths to SVHN train and test datasets\n",
    "#train_path = '/content/drive/MyDrive/pattern_recognition_project/train_32x32.mat'\n",
    "#test_path = '/content/drive/MyDrive/pattern_recognition_project/test_32x32.mat'\n",
    "\n",
    "train_path = 'train_32x32.mat'\n",
    "test_path = 'test_32x32.mat'\n",
    "\n",
    "train_images, train_labels, test_images, test_labels = load_svhn_dataset(train_path, test_path)"
   ]
  },
  {
   "cell_type": "markdown",
   "id": "ee4b533d-aa1e-4114-876e-a1973e159d51",
   "metadata": {
    "id": "ee4b533d-aa1e-4114-876e-a1973e159d51"
   },
   "source": [
    "First the features are created. I calculate all the features from project 1. There we used 5 different feature extraction methods to create different features. For each of the five different techniques a separate random forest is going to be trained."
   ]
  },
  {
   "cell_type": "code",
   "execution_count": 34,
   "id": "1bf071ad-06a9-4fcf-9e7a-20627b7c2d43",
   "metadata": {
    "id": "1bf071ad-06a9-4fcf-9e7a-20627b7c2d43",
    "outputId": "e170d262-9156-405e-a483-5ef3190a8fa9"
   },
   "outputs": [
    {
     "name": "stdout",
     "output_type": "stream",
     "text": [
      "feature for raw pixels created\n"
     ]
    },
    {
     "name": "stderr",
     "output_type": "stream",
     "text": [
      "100%|███████████████████████████████████| 73257/73257 [00:08<00:00, 8336.22it/s]\n",
      "100%|███████████████████████████████████| 26032/26032 [00:03<00:00, 8373.24it/s]\n"
     ]
    },
    {
     "name": "stdout",
     "output_type": "stream",
     "text": [
      "feature 1 created\n"
     ]
    },
    {
     "name": "stderr",
     "output_type": "stream",
     "text": [
      "100%|██████████████████████████████████| 73257/73257 [00:03<00:00, 23440.76it/s]\n",
      "100%|██████████████████████████████████| 26032/26032 [00:01<00:00, 23422.33it/s]\n"
     ]
    },
    {
     "name": "stdout",
     "output_type": "stream",
     "text": [
      "feature 2 created\n"
     ]
    },
    {
     "name": "stderr",
     "output_type": "stream",
     "text": [
      "100%|██████████████████████████████████| 73257/73257 [00:06<00:00, 11170.73it/s]\n",
      "100%|██████████████████████████████████| 26032/26032 [00:02<00:00, 11251.88it/s]\n"
     ]
    },
    {
     "name": "stdout",
     "output_type": "stream",
     "text": [
      "feature 3 created\n"
     ]
    },
    {
     "name": "stderr",
     "output_type": "stream",
     "text": [
      "100%|██████████████████████████████████| 73257/73257 [00:01<00:00, 54125.93it/s]\n",
      "100%|██████████████████████████████████| 26032/26032 [00:00<00:00, 54038.79it/s]\n"
     ]
    },
    {
     "name": "stdout",
     "output_type": "stream",
     "text": [
      "feature 4 created\n"
     ]
    },
    {
     "name": "stderr",
     "output_type": "stream",
     "text": [
      "100%|███████████████████████████████████| 73257/73257 [00:09<00:00, 7671.65it/s]\n",
      "100%|███████████████████████████████████| 26032/26032 [00:03<00:00, 8130.55it/s]\n",
      "100%|███████████████████████████████████| 73257/73257 [00:09<00:00, 7405.45it/s]\n",
      "100%|███████████████████████████████████| 26032/26032 [00:03<00:00, 7267.26it/s]"
     ]
    },
    {
     "name": "stdout",
     "output_type": "stream",
     "text": [
      "feature 5 created\n"
     ]
    },
    {
     "name": "stderr",
     "output_type": "stream",
     "text": [
      "\n"
     ]
    }
   ],
   "source": [
    "# the features from the different techniques are stored in a dictionary\n",
    "features =  create_all_features(train_images, test_images)"
   ]
  },
  {
   "cell_type": "markdown",
   "id": "5ad8545f-af0a-40e0-976e-a8d864aca095",
   "metadata": {},
   "source": [
    "Print the structure of the dictionary"
   ]
  },
  {
   "cell_type": "code",
   "execution_count": 29,
   "id": "a59c795a-dce2-4327-89eb-fac5512e87cd",
   "metadata": {},
   "outputs": [
    {
     "name": "stdout",
     "output_type": "stream",
     "text": [
      "Keys: raw_pixels --> contains ['train', 'test']. Dimensions: (73257, 3072)\n",
      "Keys: rgb_histogram --> contains ['train', 'test']. Dimensions: (73257, 768)\n",
      "Keys: gray_scaled --> contains ['train', 'test']. Dimensions: (73257, 256)\n",
      "Keys: lbp --> contains ['train', 'test']. Dimensions: (73257, 64)\n",
      "Keys: hcd --> contains ['train', 'test']. Dimensions: (73257, 64)\n",
      "Keys: orb --> contains ['train', 'test']. Dimensions: (73257, 50)\n"
     ]
    }
   ],
   "source": [
    "for keys, items in features.items():\n",
    "    dim = items['train'].shape\n",
    "    print(f'Keys: {keys} --> contains {list(items.keys())}. Dimensions: {dim}')"
   ]
  },
  {
   "cell_type": "markdown",
   "id": "4ff0da10-b402-48c8-a141-1bc4de4cc00b",
   "metadata": {},
   "source": [
    "## Decision Tree"
   ]
  },
  {
   "cell_type": "markdown",
   "id": "111cf8a7-f73b-4c1f-91ab-247f437374d3",
   "metadata": {},
   "source": [
    "In this section I fit a single decision tree on the train set using all the raw pixel values as well as all defined features in Phase 1 of the project. The hyperparameter are tuned using a GridSearch with Cross Validation. The performance is evaluated on the test set."
   ]
  },
  {
   "cell_type": "code",
   "execution_count": 35,
   "id": "13b8107c-28ca-48e8-aeea-fff8b8c95077",
   "metadata": {},
   "outputs": [],
   "source": [
    "from sklearn.tree import DecisionTreeClassifier"
   ]
  },
  {
   "cell_type": "code",
   "execution_count": 36,
   "id": "9b7a19bc-dc1c-4acd-acf5-a74779b103c6",
   "metadata": {
    "scrolled": true
   },
   "outputs": [
    {
     "name": "stderr",
     "output_type": "stream",
     "text": [
      "  0%|                                                     | 0/6 [00:00<?, ?it/s]"
     ]
    },
    {
     "name": "stdout",
     "output_type": "stream",
     "text": [
      "Fitting 5 folds for each of 8 candidates, totalling 40 fits\n"
     ]
    },
    {
     "name": "stderr",
     "output_type": "stream",
     "text": [
      " 17%|███████                                   | 1/6 [12:18<1:01:33, 738.71s/it]"
     ]
    },
    {
     "name": "stdout",
     "output_type": "stream",
     "text": [
      "Fitting 5 folds for each of 8 candidates, totalling 40 fits\n"
     ]
    },
    {
     "name": "stderr",
     "output_type": "stream",
     "text": [
      " 33%|██████████████▋                             | 2/6 [12:34<20:54, 313.61s/it]"
     ]
    },
    {
     "name": "stdout",
     "output_type": "stream",
     "text": [
      "Fitting 5 folds for each of 8 candidates, totalling 40 fits\n"
     ]
    },
    {
     "name": "stderr",
     "output_type": "stream",
     "text": [
      " 50%|██████████████████████                      | 3/6 [12:41<08:40, 173.42s/it]"
     ]
    },
    {
     "name": "stdout",
     "output_type": "stream",
     "text": [
      "Fitting 5 folds for each of 8 candidates, totalling 40 fits\n"
     ]
    },
    {
     "name": "stderr",
     "output_type": "stream",
     "text": [
      " 67%|█████████████████████████████▎              | 4/6 [12:43<03:31, 105.70s/it]"
     ]
    },
    {
     "name": "stdout",
     "output_type": "stream",
     "text": [
      "Fitting 5 folds for each of 8 candidates, totalling 40 fits\n"
     ]
    },
    {
     "name": "stderr",
     "output_type": "stream",
     "text": [
      " 83%|█████████████████████████████████████▌       | 5/6 [12:44<01:08, 68.16s/it]"
     ]
    },
    {
     "name": "stdout",
     "output_type": "stream",
     "text": [
      "Fitting 5 folds for each of 8 candidates, totalling 40 fits\n"
     ]
    },
    {
     "name": "stderr",
     "output_type": "stream",
     "text": [
      "100%|████████████████████████████████████████████| 6/6 [12:45<00:00, 127.66s/it]\n"
     ]
    }
   ],
   "source": [
    "model = DecisionTreeClassifier()\n",
    "solver(model, features, train_labels, test_labels, cv=5, save_dir='results_dt')"
   ]
  },
  {
   "cell_type": "markdown",
   "id": "bf33fae3-c06e-42cb-b6e2-45a1826b1cab",
   "metadata": {
    "id": "jukIVxiwJoE1"
   },
   "source": [
    "Read the predictions"
   ]
  },
  {
   "cell_type": "code",
   "execution_count": 37,
   "id": "b53eaf7d-f00b-4be6-8225-6ed6acfc69d7",
   "metadata": {
    "executionInfo": {
     "elapsed": 582,
     "status": "ok",
     "timestamp": 1702117241635,
     "user": {
      "displayName": "Louis Skowronek1",
      "userId": "14613357057446961286"
     },
     "user_tz": -180
    },
    "id": "003cf962-93fd-4a3b-80d5-9b0f364e015e"
   },
   "outputs": [],
   "source": [
    "df_preds_train = pd.read_csv('results_dt/train_preds.csv', index_col=0)\n",
    "df_preds_test = pd.read_csv('results_dt/test_preds.csv', index_col=0)"
   ]
  },
  {
   "cell_type": "code",
   "execution_count": 38,
   "id": "166bfb7f-f2e1-4fdb-ba85-2570eada432b",
   "metadata": {},
   "outputs": [
    {
     "data": {
      "text/html": [
       "<div>\n",
       "<style scoped>\n",
       "    .dataframe tbody tr th:only-of-type {\n",
       "        vertical-align: middle;\n",
       "    }\n",
       "\n",
       "    .dataframe tbody tr th {\n",
       "        vertical-align: top;\n",
       "    }\n",
       "\n",
       "    .dataframe thead th {\n",
       "        text-align: right;\n",
       "    }\n",
       "</style>\n",
       "<table border=\"1\" class=\"dataframe\">\n",
       "  <thead>\n",
       "    <tr style=\"text-align: right;\">\n",
       "      <th></th>\n",
       "      <th>labels</th>\n",
       "      <th>raw_pixels</th>\n",
       "      <th>rgb_histogram</th>\n",
       "      <th>gray_scaled</th>\n",
       "      <th>lbp</th>\n",
       "      <th>hcd</th>\n",
       "      <th>orb</th>\n",
       "    </tr>\n",
       "  </thead>\n",
       "  <tbody>\n",
       "    <tr>\n",
       "      <th>0</th>\n",
       "      <td>5</td>\n",
       "      <td>6</td>\n",
       "      <td>1</td>\n",
       "      <td>0</td>\n",
       "      <td>2</td>\n",
       "      <td>1</td>\n",
       "      <td>1</td>\n",
       "    </tr>\n",
       "    <tr>\n",
       "      <th>1</th>\n",
       "      <td>2</td>\n",
       "      <td>5</td>\n",
       "      <td>1</td>\n",
       "      <td>2</td>\n",
       "      <td>1</td>\n",
       "      <td>1</td>\n",
       "      <td>1</td>\n",
       "    </tr>\n",
       "    <tr>\n",
       "      <th>2</th>\n",
       "      <td>1</td>\n",
       "      <td>5</td>\n",
       "      <td>1</td>\n",
       "      <td>7</td>\n",
       "      <td>2</td>\n",
       "      <td>1</td>\n",
       "      <td>1</td>\n",
       "    </tr>\n",
       "    <tr>\n",
       "      <th>3</th>\n",
       "      <td>0</td>\n",
       "      <td>4</td>\n",
       "      <td>1</td>\n",
       "      <td>3</td>\n",
       "      <td>1</td>\n",
       "      <td>1</td>\n",
       "      <td>1</td>\n",
       "    </tr>\n",
       "    <tr>\n",
       "      <th>4</th>\n",
       "      <td>6</td>\n",
       "      <td>6</td>\n",
       "      <td>1</td>\n",
       "      <td>8</td>\n",
       "      <td>2</td>\n",
       "      <td>1</td>\n",
       "      <td>1</td>\n",
       "    </tr>\n",
       "  </tbody>\n",
       "</table>\n",
       "</div>"
      ],
      "text/plain": [
       "   labels  raw_pixels  rgb_histogram  gray_scaled  lbp  hcd  orb\n",
       "0       5           6              1            0    2    1    1\n",
       "1       2           5              1            2    1    1    1\n",
       "2       1           5              1            7    2    1    1\n",
       "3       0           4              1            3    1    1    1\n",
       "4       6           6              1            8    2    1    1"
      ]
     },
     "execution_count": 38,
     "metadata": {},
     "output_type": "execute_result"
    }
   ],
   "source": [
    "df_preds_test.head(5)"
   ]
  },
  {
   "cell_type": "markdown",
   "id": "422d0608-71f6-4331-9519-8bd4414ec3ee",
   "metadata": {
    "id": "b6d6809a-c956-4482-8ddc-1c8635677772"
   },
   "source": [
    "Now I create an ensemble made out all of the individual models. The classification is based on majority voting"
   ]
  },
  {
   "cell_type": "code",
   "execution_count": 162,
   "id": "3753dbea-c61a-41fc-bbb1-c9c160fdb288",
   "metadata": {
    "executionInfo": {
     "elapsed": 41795,
     "status": "ok",
     "timestamp": 1702117313997,
     "user": {
      "displayName": "Louis Skowronek1",
      "userId": "14613357057446961286"
     },
     "user_tz": -180
    },
    "id": "7a230ad0-7253-4a27-a507-d93d13fe8288",
    "scrolled": true
   },
   "outputs": [],
   "source": [
    "#df_preds_train = add_ensemble(df_preds_train)\n",
    "#df_preds_test = add_ensemble(df_preds_test)"
   ]
  },
  {
   "cell_type": "markdown",
   "id": "1fce4542-b5f4-490e-aa4f-7299ab00a3c5",
   "metadata": {
    "id": "d8beb15d-c150-4166-a515-feb97ef7fbbd"
   },
   "source": [
    "calculate the train and test accuracy of the different models"
   ]
  },
  {
   "cell_type": "code",
   "execution_count": 39,
   "id": "2674069b-1f9f-4db1-92e8-2916d44a3ebe",
   "metadata": {},
   "outputs": [],
   "source": [
    "df_results = compute_metrics(df_preds_train, df_preds_test)"
   ]
  },
  {
   "cell_type": "markdown",
   "id": "67a4ba3d-fcef-485b-af7b-5cb11b49c7d6",
   "metadata": {},
   "source": [
    "add the validation accuracy from the cross validation"
   ]
  },
  {
   "cell_type": "code",
   "execution_count": 40,
   "id": "20f204d6-7e5c-49bb-b18e-620e3a97b159",
   "metadata": {},
   "outputs": [],
   "source": [
    "with open('results_dt/params.pkl', 'rb') as file:\n",
    "    params = pickle.load(file)\n",
    "\n",
    "val_acc = []\n",
    "for keys, items in params.items():\n",
    "    val_acc.append(items['val_acc'])\n",
    "\n",
    "df_results.insert(1, 'val_acc', val_acc)\n",
    "df_results = np.round(df_results, 3)"
   ]
  },
  {
   "cell_type": "markdown",
   "id": "a72f9de0-8327-44f4-bfb7-413507462fa2",
   "metadata": {},
   "source": [
    "Performance results of decision tree on train, validation and test set."
   ]
  },
  {
   "cell_type": "code",
   "execution_count": 41,
   "id": "132b9f62-c7ca-4900-a1e5-46a32ca9086f",
   "metadata": {},
   "outputs": [
    {
     "data": {
      "text/html": [
       "<div>\n",
       "<style scoped>\n",
       "    .dataframe tbody tr th:only-of-type {\n",
       "        vertical-align: middle;\n",
       "    }\n",
       "\n",
       "    .dataframe tbody tr th {\n",
       "        vertical-align: top;\n",
       "    }\n",
       "\n",
       "    .dataframe thead th {\n",
       "        text-align: right;\n",
       "    }\n",
       "</style>\n",
       "<table border=\"1\" class=\"dataframe\">\n",
       "  <thead>\n",
       "    <tr style=\"text-align: right;\">\n",
       "      <th></th>\n",
       "      <th>acc_train</th>\n",
       "      <th>val_acc</th>\n",
       "      <th>acc_test</th>\n",
       "    </tr>\n",
       "  </thead>\n",
       "  <tbody>\n",
       "    <tr>\n",
       "      <th>raw_pixels</th>\n",
       "      <td>1.000</td>\n",
       "      <td>0.396</td>\n",
       "      <td>0.365</td>\n",
       "    </tr>\n",
       "    <tr>\n",
       "      <th>rgb_histogram</th>\n",
       "      <td>0.191</td>\n",
       "      <td>0.189</td>\n",
       "      <td>0.196</td>\n",
       "    </tr>\n",
       "    <tr>\n",
       "      <th>gray_scaled</th>\n",
       "      <td>1.000</td>\n",
       "      <td>0.392</td>\n",
       "      <td>0.385</td>\n",
       "    </tr>\n",
       "    <tr>\n",
       "      <th>lbp</th>\n",
       "      <td>0.265</td>\n",
       "      <td>0.221</td>\n",
       "      <td>0.236</td>\n",
       "    </tr>\n",
       "    <tr>\n",
       "      <th>hcd</th>\n",
       "      <td>0.199</td>\n",
       "      <td>0.197</td>\n",
       "      <td>0.210</td>\n",
       "    </tr>\n",
       "    <tr>\n",
       "      <th>orb</th>\n",
       "      <td>0.205</td>\n",
       "      <td>0.202</td>\n",
       "      <td>0.213</td>\n",
       "    </tr>\n",
       "  </tbody>\n",
       "</table>\n",
       "</div>"
      ],
      "text/plain": [
       "               acc_train  val_acc  acc_test\n",
       "raw_pixels         1.000    0.396     0.365\n",
       "rgb_histogram      0.191    0.189     0.196\n",
       "gray_scaled        1.000    0.392     0.385\n",
       "lbp                0.265    0.221     0.236\n",
       "hcd                0.199    0.197     0.210\n",
       "orb                0.205    0.202     0.213"
      ]
     },
     "execution_count": 41,
     "metadata": {},
     "output_type": "execute_result"
    }
   ],
   "source": [
    "df_results"
   ]
  },
  {
   "cell_type": "markdown",
   "id": "859979d3-9cc2-4b57-91e0-8ff35a8e1924",
   "metadata": {
    "id": "155691c1-db77-44bb-9c52-e7063926a799"
   },
   "source": [
    "## Random Forest\n",
    "In this section I fit a random forest on the train set using all the raw pixel values as well as all defined features in Phase 1 of the project. The hyperparameter are tuned using a GridSearch with Cross Validation. The performance is evaluated on the test set."
   ]
  },
  {
   "cell_type": "code",
   "execution_count": null,
   "id": "28fb279f-2f03-484d-a7f1-e9be9aeb6237",
   "metadata": {},
   "outputs": [],
   "source": [
    "from sklearn.ensemble import RandomForestClassifier"
   ]
  },
  {
   "cell_type": "code",
   "execution_count": 156,
   "id": "3baede24-f81a-44f9-ae1e-aecdebc2f8f6",
   "metadata": {
    "id": "3baede24-f81a-44f9-ae1e-aecdebc2f8f6",
    "outputId": "239075b9-92b0-4e43-c200-5e10d0b5b0ec"
   },
   "outputs": [
    {
     "name": "stderr",
     "output_type": "stream",
     "text": [
      "  0%|                                                     | 0/6 [00:00<?, ?it/s]"
     ]
    },
    {
     "name": "stdout",
     "output_type": "stream",
     "text": [
      "Fitting 5 folds for each of 8 candidates, totalling 40 fits\n"
     ]
    },
    {
     "name": "stderr",
     "output_type": "stream",
     "text": [
      " 17%|██████▏                              | 1/6 [5:39:10<28:15:53, 20350.61s/it]"
     ]
    },
    {
     "name": "stdout",
     "output_type": "stream",
     "text": [
      "Fitting 5 folds for each of 8 candidates, totalling 40 fits\n"
     ]
    },
    {
     "name": "stderr",
     "output_type": "stream",
     "text": [
      " 33%|████████████▋                         | 2/6 [6:00:02<10:07:44, 9116.22s/it]"
     ]
    },
    {
     "name": "stdout",
     "output_type": "stream",
     "text": [
      "Fitting 5 folds for each of 8 candidates, totalling 40 fits\n"
     ]
    },
    {
     "name": "stderr",
     "output_type": "stream",
     "text": [
      "/Users/louis.skowronek/miniforge3/envs/punctuation/lib/python3.8/site-packages/joblib/externals/loky/process_executor.py:752: UserWarning: A worker stopped while some jobs were given to the executor. This can be caused by a too short worker timeout or by a memory leak.\n",
      "  warnings.warn(\n",
      " 50%|███████████████████▌                   | 3/6 [6:16:14<4:29:51, 5397.09s/it]"
     ]
    },
    {
     "name": "stdout",
     "output_type": "stream",
     "text": [
      "Fitting 5 folds for each of 8 candidates, totalling 40 fits\n"
     ]
    },
    {
     "name": "stderr",
     "output_type": "stream",
     "text": [
      "/Users/louis.skowronek/miniforge3/envs/punctuation/lib/python3.8/site-packages/joblib/externals/loky/process_executor.py:752: UserWarning: A worker stopped while some jobs were given to the executor. This can be caused by a too short worker timeout or by a memory leak.\n",
      "  warnings.warn(\n",
      " 67%|██████████████████████████             | 4/6 [6:22:06<1:53:30, 3405.37s/it]"
     ]
    },
    {
     "name": "stdout",
     "output_type": "stream",
     "text": [
      "Fitting 5 folds for each of 8 candidates, totalling 40 fits\n"
     ]
    },
    {
     "name": "stderr",
     "output_type": "stream",
     "text": [
      "/Users/louis.skowronek/miniforge3/envs/punctuation/lib/python3.8/site-packages/joblib/externals/loky/process_executor.py:752: UserWarning: A worker stopped while some jobs were given to the executor. This can be caused by a too short worker timeout or by a memory leak.\n",
      "  warnings.warn(\n",
      " 83%|██████████████████████████████████▏      | 5/6 [6:33:15<40:18, 2418.89s/it]"
     ]
    },
    {
     "name": "stdout",
     "output_type": "stream",
     "text": [
      "Fitting 5 folds for each of 8 candidates, totalling 40 fits\n"
     ]
    },
    {
     "name": "stderr",
     "output_type": "stream",
     "text": [
      "/Users/louis.skowronek/miniforge3/envs/punctuation/lib/python3.8/site-packages/joblib/externals/loky/process_executor.py:752: UserWarning: A worker stopped while some jobs were given to the executor. This can be caused by a too short worker timeout or by a memory leak.\n",
      "  warnings.warn(\n",
      "100%|█████████████████████████████████████████| 6/6 [6:39:03<00:00, 3990.63s/it]\n"
     ]
    }
   ],
   "source": [
    "solver(features, train_labels, test_labels, model = 'random_forest', save_dir='results_rf')"
   ]
  },
  {
   "cell_type": "markdown",
   "id": "jukIVxiwJoE1",
   "metadata": {
    "id": "jukIVxiwJoE1"
   },
   "source": [
    "## Read the predictions"
   ]
  },
  {
   "cell_type": "code",
   "execution_count": 212,
   "id": "003cf962-93fd-4a3b-80d5-9b0f364e015e",
   "metadata": {
    "executionInfo": {
     "elapsed": 582,
     "status": "ok",
     "timestamp": 1702117241635,
     "user": {
      "displayName": "Louis Skowronek1",
      "userId": "14613357057446961286"
     },
     "user_tz": -180
    },
    "id": "003cf962-93fd-4a3b-80d5-9b0f364e015e"
   },
   "outputs": [],
   "source": [
    "df_preds_train = pd.read_csv('results_rf/train_preds.csv', index_col=0)\n",
    "df_preds_test = pd.read_csv('results_rf/test_preds.csv', index_col=0)"
   ]
  },
  {
   "cell_type": "code",
   "execution_count": 213,
   "id": "94562875-cce2-4e6b-aa81-5997caa86c0e",
   "metadata": {},
   "outputs": [
    {
     "data": {
      "text/html": [
       "<div>\n",
       "<style scoped>\n",
       "    .dataframe tbody tr th:only-of-type {\n",
       "        vertical-align: middle;\n",
       "    }\n",
       "\n",
       "    .dataframe tbody tr th {\n",
       "        vertical-align: top;\n",
       "    }\n",
       "\n",
       "    .dataframe thead th {\n",
       "        text-align: right;\n",
       "    }\n",
       "</style>\n",
       "<table border=\"1\" class=\"dataframe\">\n",
       "  <thead>\n",
       "    <tr style=\"text-align: right;\">\n",
       "      <th></th>\n",
       "      <th>labels</th>\n",
       "      <th>raw_pixels</th>\n",
       "      <th>rgb_histogram</th>\n",
       "      <th>gray_scaled</th>\n",
       "      <th>lbp</th>\n",
       "      <th>hcd</th>\n",
       "      <th>orb</th>\n",
       "    </tr>\n",
       "  </thead>\n",
       "  <tbody>\n",
       "    <tr>\n",
       "      <th>0</th>\n",
       "      <td>5</td>\n",
       "      <td>2</td>\n",
       "      <td>1</td>\n",
       "      <td>9</td>\n",
       "      <td>3</td>\n",
       "      <td>1</td>\n",
       "      <td>1</td>\n",
       "    </tr>\n",
       "    <tr>\n",
       "      <th>1</th>\n",
       "      <td>2</td>\n",
       "      <td>2</td>\n",
       "      <td>2</td>\n",
       "      <td>2</td>\n",
       "      <td>1</td>\n",
       "      <td>1</td>\n",
       "      <td>3</td>\n",
       "    </tr>\n",
       "    <tr>\n",
       "      <th>2</th>\n",
       "      <td>1</td>\n",
       "      <td>1</td>\n",
       "      <td>2</td>\n",
       "      <td>1</td>\n",
       "      <td>2</td>\n",
       "      <td>1</td>\n",
       "      <td>1</td>\n",
       "    </tr>\n",
       "    <tr>\n",
       "      <th>3</th>\n",
       "      <td>0</td>\n",
       "      <td>0</td>\n",
       "      <td>2</td>\n",
       "      <td>0</td>\n",
       "      <td>1</td>\n",
       "      <td>1</td>\n",
       "      <td>1</td>\n",
       "    </tr>\n",
       "    <tr>\n",
       "      <th>4</th>\n",
       "      <td>6</td>\n",
       "      <td>6</td>\n",
       "      <td>1</td>\n",
       "      <td>6</td>\n",
       "      <td>1</td>\n",
       "      <td>1</td>\n",
       "      <td>1</td>\n",
       "    </tr>\n",
       "  </tbody>\n",
       "</table>\n",
       "</div>"
      ],
      "text/plain": [
       "   labels  raw_pixels  rgb_histogram  gray_scaled  lbp  hcd  orb\n",
       "0       5           2              1            9    3    1    1\n",
       "1       2           2              2            2    1    1    3\n",
       "2       1           1              2            1    2    1    1\n",
       "3       0           0              2            0    1    1    1\n",
       "4       6           6              1            6    1    1    1"
      ]
     },
     "execution_count": 213,
     "metadata": {},
     "output_type": "execute_result"
    }
   ],
   "source": [
    "df_preds_test.head(5)"
   ]
  },
  {
   "cell_type": "markdown",
   "id": "b6d6809a-c956-4482-8ddc-1c8635677772",
   "metadata": {
    "id": "b6d6809a-c956-4482-8ddc-1c8635677772"
   },
   "source": [
    "Now I create an ensemble made out all of the individual models. The classification is based on majority voting"
   ]
  },
  {
   "cell_type": "code",
   "execution_count": 162,
   "id": "7a230ad0-7253-4a27-a507-d93d13fe8288",
   "metadata": {
    "executionInfo": {
     "elapsed": 41795,
     "status": "ok",
     "timestamp": 1702117313997,
     "user": {
      "displayName": "Louis Skowronek1",
      "userId": "14613357057446961286"
     },
     "user_tz": -180
    },
    "id": "7a230ad0-7253-4a27-a507-d93d13fe8288",
    "scrolled": true
   },
   "outputs": [],
   "source": [
    "#df_preds_train = add_ensemble(df_preds_train)\n",
    "#df_preds_test = add_ensemble(df_preds_test)"
   ]
  },
  {
   "cell_type": "markdown",
   "id": "d8beb15d-c150-4166-a515-feb97ef7fbbd",
   "metadata": {
    "id": "d8beb15d-c150-4166-a515-feb97ef7fbbd"
   },
   "source": [
    "calculate the train and test accuracy of the different models"
   ]
  },
  {
   "cell_type": "code",
   "execution_count": 214,
   "id": "f0c8fbf1-2862-436c-923f-bb1b3d40978d",
   "metadata": {},
   "outputs": [],
   "source": [
    "df_results = compute_metrics(df_preds_train, df_preds_test)"
   ]
  },
  {
   "cell_type": "markdown",
   "id": "a594e5c5-a0a7-4deb-ad53-38ec8f9adc9e",
   "metadata": {},
   "source": [
    "add the validation accuracy from the cross validation"
   ]
  },
  {
   "cell_type": "code",
   "execution_count": 215,
   "id": "7e9c7753-3979-4ac7-a828-42b7bf09e8d1",
   "metadata": {},
   "outputs": [],
   "source": [
    "with open('results_rf/params.pkl', 'rb') as file:\n",
    "    params = pickle.load(file)\n",
    "\n",
    "val_acc = []\n",
    "for keys, items in params.items():\n",
    "    val_acc.append(items['val_acc'])\n",
    "\n",
    "df_results.insert(1, 'val_acc', val_acc)\n",
    "df_results = np.round(df_results, 3)"
   ]
  },
  {
   "cell_type": "markdown",
   "id": "7aee5e93-999a-4c17-8fee-1f211f6b373a",
   "metadata": {},
   "source": [
    "Performance results of decision tree on train, validation and test set."
   ]
  },
  {
   "cell_type": "code",
   "execution_count": 217,
   "id": "aa33d861-ce26-4e7f-8f24-aa8cb14e9dec",
   "metadata": {},
   "outputs": [
    {
     "data": {
      "text/html": [
       "<div>\n",
       "<style scoped>\n",
       "    .dataframe tbody tr th:only-of-type {\n",
       "        vertical-align: middle;\n",
       "    }\n",
       "\n",
       "    .dataframe tbody tr th {\n",
       "        vertical-align: top;\n",
       "    }\n",
       "\n",
       "    .dataframe thead th {\n",
       "        text-align: right;\n",
       "    }\n",
       "</style>\n",
       "<table border=\"1\" class=\"dataframe\">\n",
       "  <thead>\n",
       "    <tr style=\"text-align: right;\">\n",
       "      <th></th>\n",
       "      <th>acc_train</th>\n",
       "      <th>val_acc</th>\n",
       "      <th>acc_test</th>\n",
       "    </tr>\n",
       "  </thead>\n",
       "  <tbody>\n",
       "    <tr>\n",
       "      <th>raw_pixels</th>\n",
       "      <td>1.000</td>\n",
       "      <td>0.709</td>\n",
       "      <td>0.677</td>\n",
       "    </tr>\n",
       "    <tr>\n",
       "      <th>rgb_histogram</th>\n",
       "      <td>0.492</td>\n",
       "      <td>0.194</td>\n",
       "      <td>0.202</td>\n",
       "    </tr>\n",
       "    <tr>\n",
       "      <th>gray_scaled</th>\n",
       "      <td>1.000</td>\n",
       "      <td>0.711</td>\n",
       "      <td>0.693</td>\n",
       "    </tr>\n",
       "    <tr>\n",
       "      <th>lbp</th>\n",
       "      <td>0.773</td>\n",
       "      <td>0.274</td>\n",
       "      <td>0.290</td>\n",
       "    </tr>\n",
       "    <tr>\n",
       "      <th>hcd</th>\n",
       "      <td>0.241</td>\n",
       "      <td>0.205</td>\n",
       "      <td>0.217</td>\n",
       "    </tr>\n",
       "    <tr>\n",
       "      <th>orb</th>\n",
       "      <td>0.325</td>\n",
       "      <td>0.219</td>\n",
       "      <td>0.229</td>\n",
       "    </tr>\n",
       "  </tbody>\n",
       "</table>\n",
       "</div>"
      ],
      "text/plain": [
       "               acc_train  val_acc  acc_test\n",
       "raw_pixels         1.000    0.709     0.677\n",
       "rgb_histogram      0.492    0.194     0.202\n",
       "gray_scaled        1.000    0.711     0.693\n",
       "lbp                0.773    0.274     0.290\n",
       "hcd                0.241    0.205     0.217\n",
       "orb                0.325    0.219     0.229"
      ]
     },
     "execution_count": 217,
     "metadata": {},
     "output_type": "execute_result"
    }
   ],
   "source": [
    "df_results"
   ]
  },
  {
   "cell_type": "markdown",
   "id": "c184a891-fb49-4ecc-bcf8-56e0364c318b",
   "metadata": {
    "id": "c184a891-fb49-4ecc-bcf8-56e0364c318b"
   },
   "source": [
    "# Vision Tranformer\n",
    "\n",
    "In this section I train a vision transformer from scratch to classify the the images"
   ]
  },
  {
   "cell_type": "code",
   "execution_count": 3,
   "id": "40d6abf4-26d7-4979-9abe-be0b62c2093a",
   "metadata": {
    "executionInfo": {
     "elapsed": 11623,
     "status": "ok",
     "timestamp": 1702403861551,
     "user": {
      "displayName": "Louis Skowronek1",
      "userId": "14613357057446961286"
     },
     "user_tz": -180
    },
    "id": "546c5e32-683e-4b5a-bc24-cd0bb56855ae"
   },
   "outputs": [],
   "source": [
    "import torch\n",
    "from torchvision import transforms\n",
    "from model import VisionTransformer, load_weights, VisionTransformerPytorch, get_loader, show_batch\n",
    "from solver import Solver, define_parser\n",
    "import matplotlib.pyplot as plt\n",
    "import pandas as pd"
   ]
  },
  {
   "cell_type": "code",
   "execution_count": null,
   "id": "b2e1ea4b-2abc-44e5-b7dd-877fe758b9e1",
   "metadata": {},
   "outputs": [],
   "source": [
    "# define the configuration of the architecture of the model and training parameters\n",
    "parser = define_parser()\n",
    "args = parser.parse_args([\n",
    "    \"--epochs\", \"40\",\n",
    "    \"--batch_size\", \"32\",\n",
    "    \"--lr\", \"0.0001\",\n",
    "    \"--n_classes\", \"10\",\n",
    "    \"--img_size\", \"32\",\n",
    "    \"--patch_size\", \"2\",\n",
    "    \"--n_channels\", \"3\",\n",
    "    \"--embed_dim\", \"128\",\n",
    "    \"--n_attention_heads\", \"8\",\n",
    "    \"--forward_mul\", \"4\",\n",
    "    \"--n_layers\", \"6\",\n",
    "    \"--dropout\", \"0.3\",\n",
    "    \"--train_path\", '/content/drive/MyDrive/pattern_recognition_project/train_32x32.mat',\n",
    "    \"--test_path\", '/content/drive/MyDrive/pattern_recognition_project/test_32x32.mat',\n",
    "    \"--save_dir\", '/content/drive/MyDrive/pattern_recognition_project/custom_vit_V1'\n",
    "])"
   ]
  },
  {
   "cell_type": "code",
   "execution_count": 9,
   "id": "51e64ef2-1da1-438d-8f95-741a1d1cb36b",
   "metadata": {
    "executionInfo": {
     "elapsed": 3473,
     "status": "ok",
     "timestamp": 1702403964631,
     "user": {
      "displayName": "Louis Skowronek1",
      "userId": "14613357057446961286"
     },
     "user_tz": -180
    },
    "id": "32d719ef-7085-4398-895e-2ce8bda584fe"
   },
   "outputs": [],
   "source": [
    "device = torch.device(\"cuda\" if torch.cuda.is_available() else \"cpu\")\n",
    "model = VisionTransformer(args).to(device)\n",
    "criterion = torch.nn.CrossEntropyLoss()\n",
    "optimizer = torch.optim.AdamW(model.parameters(), args.lr)\n",
    "\n",
    "transform = { 'train': transforms.Compose([transforms.ToTensor(),\n",
    "                                          transforms.RandomAffine(degrees=15, translate=(0.0, 0.2), scale=(0.9, 1.1), shear=15),\n",
    "                                          transforms.ColorJitter(brightness=0.3, contrast=0.3),\n",
    "                                          #transforms.RandomRotation(15),\n",
    "                                          transforms.Normalize(mean=[0.485, 0.456, 0.406], std=[0.229, 0.224, 0.225]),\n",
    "                                          ]),\n",
    "            'inference': transforms.Compose([transforms.ToTensor(),\n",
    "                                          transforms.Normalize(mean=[0.485, 0.456, 0.406], std=[0.229, 0.224, 0.225])\n",
    "                                          ])\n",
    "          }\n",
    "\n",
    "dl_train, dl_test = get_loader(args, transform)"
   ]
  },
  {
   "cell_type": "code",
   "execution_count": null,
   "id": "dc1682cb-b75c-4d29-ad62-fc04f3c0b42d",
   "metadata": {
    "colab": {
     "base_uri": "https://localhost:8080/",
     "height": 829
    },
    "executionInfo": {
     "elapsed": 1893,
     "status": "ok",
     "timestamp": 1702300376106,
     "user": {
      "displayName": "Louissko",
      "userId": "00337720139601541087"
     },
     "user_tz": -180
    },
    "id": "PEEkFYv0Enoy",
    "outputId": "cf448f93-f922-430f-82e0-c23f505beb1a"
   },
   "outputs": [
    {
     "data": {
      "image/png": "[encoded data removed]",
      "text/plain": [
       "<Figure size 1000x1000 with 25 Axes>"
      ]
     },
     "metadata": {},
     "output_type": "display_data"
    }
   ],
   "source": [
    "show_batch(dl_train)"
   ]
  },
  {
   "cell_type": "code",
   "execution_count": 12,
   "id": "e698c638-ea75-43df-b4e8-5c038d59ee73",
   "metadata": {
    "executionInfo": {
     "elapsed": 3,
     "status": "ok",
     "timestamp": 1702403997984,
     "user": {
      "displayName": "Louis Skowronek1",
      "userId": "14613357057446961286"
     },
     "user_tz": -180
    },
    "id": "A6YTDWJe5SlE"
   },
   "outputs": [],
   "source": [
    "solver = Solver(model, criterion, optimizer, dl_train, dl_test, device, args)"
   ]
  },
  {
   "cell_type": "code",
   "execution_count": null,
   "id": "30e1bb14-abb6-4cd9-96c5-217e97953ed8",
   "metadata": {
    "colab": {
     "base_uri": "https://localhost:8080/",
     "height": 471
    },
    "executionInfo": {
     "elapsed": 132924,
     "status": "ok",
     "timestamp": 1702300687823,
     "user": {
      "displayName": "Louissko",
      "userId": "00337720139601541087"
     },
     "user_tz": -180
    },
    "id": "nKg3kHybBQRz",
    "outputId": "8a86e216-4b18-4c92-d56c-6d240efaa54a"
   },
   "outputs": [
    {
     "name": "stderr",
     "output_type": "stream",
     "text": [
      "100%|██████████| 2000/2000 [02:12<00:00, 15.08it/s]\n"
     ]
    },
    {
     "data": {
      "image/png": "[encoded data removed]",
      "text/plain": [
       "<Figure size 640x480 with 1 Axes>"
      ]
     },
     "metadata": {},
     "output_type": "display_data"
    }
   ],
   "source": [
    "# use a learning rate finder, to find a suitable learning rate\n",
    "best_lr = solver.find_lr(init_lr=1e-6, final_lr=0.1, n_steps=2000, show_plot=True)"
   ]
  },
  {
   "cell_type": "code",
   "execution_count": null,
   "id": "de426735-f189-4aac-8475-1fa1cb43b126",
   "metadata": {
    "colab": {
     "base_uri": "https://localhost:8080/"
    },
    "executionInfo": {
     "elapsed": 593,
     "status": "ok",
     "timestamp": 1702300712795,
     "user": {
      "displayName": "Louissko",
      "userId": "00337720139601541087"
     },
     "user_tz": -180
    },
    "id": "cyN6s_rdB0D4",
    "outputId": "3a6c1ea5-d2e4-4f6b-9a92-eba3f922adb8"
   },
   "outputs": [
    {
     "data": {
      "text/plain": [
       "0.000189076832919664"
      ]
     },
     "execution_count": 28,
     "metadata": {},
     "output_type": "execute_result"
    }
   ],
   "source": [
    "best_lr"
   ]
  },
  {
   "cell_type": "code",
   "execution_count": null,
   "id": "3f5ca8c3-177d-44fa-a8b3-9aa455e48666",
   "metadata": {
    "colab": {
     "base_uri": "https://localhost:8080/",
     "height": 1000
    },
    "executionInfo": {
     "elapsed": 4183026,
     "status": "ok",
     "timestamp": 1702306368472,
     "user": {
      "displayName": "Louissko",
      "userId": "00337720139601541087"
     },
     "user_tz": -180
    },
    "id": "jrfOln4jBWsP",
    "outputId": "da1fc9d8-8104-4733-f26e-b7ec9cf91423"
   },
   "outputs": [
    {
     "data": {
      "text/html": [
       "\n",
       "  <div id=\"df-90d0fff2-3410-497d-9447-17dff3086071\" class=\"colab-df-container\">\n",
       "    <div>\n",
       "<style scoped>\n",
       "    .dataframe tbody tr th:only-of-type {\n",
       "        vertical-align: middle;\n",
       "    }\n",
       "\n",
       "    .dataframe tbody tr th {\n",
       "        vertical-align: top;\n",
       "    }\n",
       "\n",
       "    .dataframe thead th {\n",
       "        text-align: right;\n",
       "    }\n",
       "</style>\n",
       "<table border=\"1\" class=\"dataframe\">\n",
       "  <thead>\n",
       "    <tr style=\"text-align: right;\">\n",
       "      <th></th>\n",
       "      <th>train_loss</th>\n",
       "      <th>valid_loss</th>\n",
       "      <th>train_acc</th>\n",
       "      <th>valid_acc</th>\n",
       "      <th>time</th>\n",
       "    </tr>\n",
       "    <tr>\n",
       "      <th>epochs</th>\n",
       "      <th></th>\n",
       "      <th></th>\n",
       "      <th></th>\n",
       "      <th></th>\n",
       "      <th></th>\n",
       "    </tr>\n",
       "  </thead>\n",
       "  <tbody>\n",
       "    <tr>\n",
       "      <th>1</th>\n",
       "      <td>2.242537</td>\n",
       "      <td>2.194337</td>\n",
       "      <td>0.187259</td>\n",
       "      <td>0.206976</td>\n",
       "      <td>141.481392</td>\n",
       "    </tr>\n",
       "    <tr>\n",
       "      <th>2</th>\n",
       "      <td>2.004403</td>\n",
       "      <td>1.564212</td>\n",
       "      <td>0.289037</td>\n",
       "      <td>0.44622</td>\n",
       "      <td>144.965004</td>\n",
       "    </tr>\n",
       "    <tr>\n",
       "      <th>3</th>\n",
       "      <td>1.682294</td>\n",
       "      <td>1.288424</td>\n",
       "      <td>0.409053</td>\n",
       "      <td>0.558697</td>\n",
       "      <td>143.940503</td>\n",
       "    </tr>\n",
       "    <tr>\n",
       "      <th>4</th>\n",
       "      <td>1.403347</td>\n",
       "      <td>1.004207</td>\n",
       "      <td>0.522558</td>\n",
       "      <td>0.66764</td>\n",
       "      <td>146.443081</td>\n",
       "    </tr>\n",
       "    <tr>\n",
       "      <th>5</th>\n",
       "      <td>1.207372</td>\n",
       "      <td>0.854014</td>\n",
       "      <td>0.594264</td>\n",
       "      <td>0.720306</td>\n",
       "      <td>146.384618</td>\n",
       "    </tr>\n",
       "    <tr>\n",
       "      <th>6</th>\n",
       "      <td>1.063857</td>\n",
       "      <td>0.763994</td>\n",
       "      <td>0.646628</td>\n",
       "      <td>0.751229</td>\n",
       "      <td>145.637014</td>\n",
       "    </tr>\n",
       "    <tr>\n",
       "      <th>7</th>\n",
       "      <td>0.962597</td>\n",
       "      <td>0.675638</td>\n",
       "      <td>0.681628</td>\n",
       "      <td>0.781922</td>\n",
       "      <td>141.2995</td>\n",
       "    </tr>\n",
       "    <tr>\n",
       "      <th>8</th>\n",
       "      <td>0.891496</td>\n",
       "      <td>0.629037</td>\n",
       "      <td>0.707468</td>\n",
       "      <td>0.798517</td>\n",
       "      <td>141.557495</td>\n",
       "    </tr>\n",
       "    <tr>\n",
       "      <th>9</th>\n",
       "      <td>0.837456</td>\n",
       "      <td>0.589069</td>\n",
       "      <td>0.727903</td>\n",
       "      <td>0.812462</td>\n",
       "      <td>141.869685</td>\n",
       "    </tr>\n",
       "    <tr>\n",
       "      <th>10</th>\n",
       "      <td>0.791718</td>\n",
       "      <td>0.553907</td>\n",
       "      <td>0.742673</td>\n",
       "      <td>0.821796</td>\n",
       "      <td>141.741168</td>\n",
       "    </tr>\n",
       "    <tr>\n",
       "      <th>11</th>\n",
       "      <td>0.75731</td>\n",
       "      <td>0.537855</td>\n",
       "      <td>0.755655</td>\n",
       "      <td>0.828903</td>\n",
       "      <td>139.644279</td>\n",
       "    </tr>\n",
       "    <tr>\n",
       "      <th>12</th>\n",
       "      <td>0.718838</td>\n",
       "      <td>0.510104</td>\n",
       "      <td>0.768909</td>\n",
       "      <td>0.835894</td>\n",
       "      <td>139.155502</td>\n",
       "    </tr>\n",
       "    <tr>\n",
       "      <th>13</th>\n",
       "      <td>0.691299</td>\n",
       "      <td>0.474462</td>\n",
       "      <td>0.777646</td>\n",
       "      <td>0.849186</td>\n",
       "      <td>140.258646</td>\n",
       "    </tr>\n",
       "    <tr>\n",
       "      <th>14</th>\n",
       "      <td>0.668771</td>\n",
       "      <td>0.441719</td>\n",
       "      <td>0.785577</td>\n",
       "      <td>0.862362</td>\n",
       "      <td>142.817454</td>\n",
       "    </tr>\n",
       "    <tr>\n",
       "      <th>15</th>\n",
       "      <td>0.64026</td>\n",
       "      <td>0.475984</td>\n",
       "      <td>0.794886</td>\n",
       "      <td>0.850069</td>\n",
       "      <td>145.079331</td>\n",
       "    </tr>\n",
       "    <tr>\n",
       "      <th>16</th>\n",
       "      <td>0.617665</td>\n",
       "      <td>0.415853</td>\n",
       "      <td>0.802271</td>\n",
       "      <td>0.869584</td>\n",
       "      <td>142.213788</td>\n",
       "    </tr>\n",
       "    <tr>\n",
       "      <th>17</th>\n",
       "      <td>0.601313</td>\n",
       "      <td>0.406888</td>\n",
       "      <td>0.808824</td>\n",
       "      <td>0.873002</td>\n",
       "      <td>142.013153</td>\n",
       "    </tr>\n",
       "    <tr>\n",
       "      <th>18</th>\n",
       "      <td>0.584184</td>\n",
       "      <td>0.392095</td>\n",
       "      <td>0.813369</td>\n",
       "      <td>0.875845</td>\n",
       "      <td>145.783093</td>\n",
       "    </tr>\n",
       "    <tr>\n",
       "      <th>19</th>\n",
       "      <td>0.568351</td>\n",
       "      <td>0.387765</td>\n",
       "      <td>0.819225</td>\n",
       "      <td>0.87815</td>\n",
       "      <td>148.463699</td>\n",
       "    </tr>\n",
       "    <tr>\n",
       "      <th>20</th>\n",
       "      <td>0.550357</td>\n",
       "      <td>0.374888</td>\n",
       "      <td>0.82414</td>\n",
       "      <td>0.88203</td>\n",
       "      <td>139.411846</td>\n",
       "    </tr>\n",
       "    <tr>\n",
       "      <th>21</th>\n",
       "      <td>0.534331</td>\n",
       "      <td>0.394467</td>\n",
       "      <td>0.829682</td>\n",
       "      <td>0.877727</td>\n",
       "      <td>139.530577</td>\n",
       "    </tr>\n",
       "    <tr>\n",
       "      <th>22</th>\n",
       "      <td>0.523004</td>\n",
       "      <td>0.332772</td>\n",
       "      <td>0.833927</td>\n",
       "      <td>0.896128</td>\n",
       "      <td>137.973391</td>\n",
       "    </tr>\n",
       "    <tr>\n",
       "      <th>23</th>\n",
       "      <td>0.512715</td>\n",
       "      <td>0.369402</td>\n",
       "      <td>0.836876</td>\n",
       "      <td>0.883682</td>\n",
       "      <td>141.939571</td>\n",
       "    </tr>\n",
       "    <tr>\n",
       "      <th>24</th>\n",
       "      <td>0.49663</td>\n",
       "      <td>0.328834</td>\n",
       "      <td>0.844383</td>\n",
       "      <td>0.894745</td>\n",
       "      <td>139.344946</td>\n",
       "    </tr>\n",
       "    <tr>\n",
       "      <th>25</th>\n",
       "      <td>0.487945</td>\n",
       "      <td>0.33</td>\n",
       "      <td>0.846103</td>\n",
       "      <td>0.895321</td>\n",
       "      <td>138.74581</td>\n",
       "    </tr>\n",
       "    <tr>\n",
       "      <th>26</th>\n",
       "      <td>0.477552</td>\n",
       "      <td>0.321934</td>\n",
       "      <td>0.849407</td>\n",
       "      <td>0.899854</td>\n",
       "      <td>140.515234</td>\n",
       "    </tr>\n",
       "    <tr>\n",
       "      <th>27</th>\n",
       "      <td>0.469459</td>\n",
       "      <td>0.334926</td>\n",
       "      <td>0.852547</td>\n",
       "      <td>0.897319</td>\n",
       "      <td>138.473449</td>\n",
       "    </tr>\n",
       "    <tr>\n",
       "      <th>28</th>\n",
       "      <td>0.457238</td>\n",
       "      <td>0.325843</td>\n",
       "      <td>0.855509</td>\n",
       "      <td>0.900085</td>\n",
       "      <td>134.366301</td>\n",
       "    </tr>\n",
       "    <tr>\n",
       "      <th>29</th>\n",
       "      <td>0.447143</td>\n",
       "      <td>0.308428</td>\n",
       "      <td>0.859768</td>\n",
       "      <td>0.905578</td>\n",
       "      <td>135.201478</td>\n",
       "    </tr>\n",
       "    <tr>\n",
       "      <th>30</th>\n",
       "      <td>0.438959</td>\n",
       "      <td>0.304032</td>\n",
       "      <td>0.861774</td>\n",
       "      <td>0.907998</td>\n",
       "      <td>134.963562</td>\n",
       "    </tr>\n",
       "    <tr>\n",
       "      <th>31</th>\n",
       "      <td>0.42922</td>\n",
       "      <td>0.299524</td>\n",
       "      <td>0.864955</td>\n",
       "      <td>0.909381</td>\n",
       "      <td>136.082715</td>\n",
       "    </tr>\n",
       "    <tr>\n",
       "      <th>32</th>\n",
       "      <td>0.420318</td>\n",
       "      <td>0.310598</td>\n",
       "      <td>0.867139</td>\n",
       "      <td>0.903772</td>\n",
       "      <td>138.878682</td>\n",
       "    </tr>\n",
       "    <tr>\n",
       "      <th>33</th>\n",
       "      <td>0.41409</td>\n",
       "      <td>0.287313</td>\n",
       "      <td>0.869992</td>\n",
       "      <td>0.9128</td>\n",
       "      <td>137.914652</td>\n",
       "    </tr>\n",
       "    <tr>\n",
       "      <th>34</th>\n",
       "      <td>0.407635</td>\n",
       "      <td>0.30062</td>\n",
       "      <td>0.872667</td>\n",
       "      <td>0.909035</td>\n",
       "      <td>140.701436</td>\n",
       "    </tr>\n",
       "    <tr>\n",
       "      <th>35</th>\n",
       "      <td>0.398799</td>\n",
       "      <td>0.269601</td>\n",
       "      <td>0.876217</td>\n",
       "      <td>0.916219</td>\n",
       "      <td>144.663368</td>\n",
       "    </tr>\n",
       "    <tr>\n",
       "      <th>36</th>\n",
       "      <td>0.392811</td>\n",
       "      <td>0.266142</td>\n",
       "      <td>0.877172</td>\n",
       "      <td>0.920137</td>\n",
       "      <td>144.166336</td>\n",
       "    </tr>\n",
       "    <tr>\n",
       "      <th>37</th>\n",
       "      <td>0.38236</td>\n",
       "      <td>0.300429</td>\n",
       "      <td>0.881377</td>\n",
       "      <td>0.907959</td>\n",
       "      <td>142.923605</td>\n",
       "    </tr>\n",
       "    <tr>\n",
       "      <th>38</th>\n",
       "      <td>0.376477</td>\n",
       "      <td>0.26641</td>\n",
       "      <td>0.882823</td>\n",
       "      <td>0.918831</td>\n",
       "      <td>145.203743</td>\n",
       "    </tr>\n",
       "    <tr>\n",
       "      <th>39</th>\n",
       "      <td>0.369903</td>\n",
       "      <td>0.288118</td>\n",
       "      <td>0.884953</td>\n",
       "      <td>0.911148</td>\n",
       "      <td>139.575887</td>\n",
       "    </tr>\n",
       "    <tr>\n",
       "      <th>40</th>\n",
       "      <td>0.365746</td>\n",
       "      <td>0.269652</td>\n",
       "      <td>0.88625</td>\n",
       "      <td>0.918523</td>\n",
       "      <td>138.227188</td>\n",
       "    </tr>\n",
       "  </tbody>\n",
       "</table>\n",
       "</div>\n",
       "    <div class=\"colab-df-buttons\">\n",
       "\n",
       "  <div class=\"colab-df-container\">\n",
       "    <button class=\"colab-df-convert\" onclick=\"convertToInteractive('df-90d0fff2-3410-497d-9447-17dff3086071')\"\n",
       "            title=\"Convert this dataframe to an interactive table.\"\n",
       "            style=\"display:none;\">\n",
       "\n",
       "  <svg xmlns=\"http://www.w3.org/2000/svg\" height=\"24px\" viewBox=\"0 -960 960 960\">\n",
       "    <path d=\"M120-120v-720h720v720H120Zm60-500h600v-160H180v160Zm220 220h160v-160H400v160Zm0 220h160v-160H400v160ZM180-400h160v-160H180v160Zm440 0h160v-160H620v160ZM180-180h160v-160H180v160Zm440 0h160v-160H620v160Z\"/>\n",
       "  </svg>\n",
       "    </button>\n",
       "\n",
       "  <style>\n",
       "    .colab-df-container {\n",
       "      display:flex;\n",
       "      gap: 12px;\n",
       "    }\n",
       "\n",
       "    .colab-df-convert {\n",
       "      background-color: #E8F0FE;\n",
       "      border: none;\n",
       "      border-radius: 50%;\n",
       "      cursor: pointer;\n",
       "      display: none;\n",
       "      fill: #1967D2;\n",
       "      height: 32px;\n",
       "      padding: 0 0 0 0;\n",
       "      width: 32px;\n",
       "    }\n",
       "\n",
       "    .colab-df-convert:hover {\n",
       "      background-color: #E2EBFA;\n",
       "      box-shadow: 0px 1px 2px rgba(60, 64, 67, 0.3), 0px 1px 3px 1px rgba(60, 64, 67, 0.15);\n",
       "      fill: #174EA6;\n",
       "    }\n",
       "\n",
       "    .colab-df-buttons div {\n",
       "      margin-bottom: 4px;\n",
       "    }\n",
       "\n",
       "    [theme=dark] .colab-df-convert {\n",
       "      background-color: #3B4455;\n",
       "      fill: #D2E3FC;\n",
       "    }\n",
       "\n",
       "    [theme=dark] .colab-df-convert:hover {\n",
       "      background-color: #434B5C;\n",
       "      box-shadow: 0px 1px 3px 1px rgba(0, 0, 0, 0.15);\n",
       "      filter: drop-shadow(0px 1px 2px rgba(0, 0, 0, 0.3));\n",
       "      fill: #FFFFFF;\n",
       "    }\n",
       "  </style>\n",
       "\n",
       "    <script>\n",
       "      const buttonEl =\n",
       "        document.querySelector('#df-90d0fff2-3410-497d-9447-17dff3086071 button.colab-df-convert');\n",
       "      buttonEl.style.display =\n",
       "        google.colab.kernel.accessAllowed ? 'block' : 'none';\n",
       "\n",
       "      async function convertToInteractive(key) {\n",
       "        const element = document.querySelector('#df-90d0fff2-3410-497d-9447-17dff3086071');\n",
       "        const dataTable =\n",
       "          await google.colab.kernel.invokeFunction('convertToInteractive',\n",
       "                                                    [key], {});\n",
       "        if (!dataTable) return;\n",
       "\n",
       "        const docLinkHtml = 'Like what you see? Visit the ' +\n",
       "          '<a target=\"_blank\" href=https://colab.research.google.com/notebooks/data_table.ipynb>data table notebook</a>'\n",
       "          + ' to learn more about interactive tables.';\n",
       "        element.innerHTML = '';\n",
       "        dataTable['output_type'] = 'display_data';\n",
       "        await google.colab.output.renderOutput(dataTable, element);\n",
       "        const docLink = document.createElement('div');\n",
       "        docLink.innerHTML = docLinkHtml;\n",
       "        element.appendChild(docLink);\n",
       "      }\n",
       "    </script>\n",
       "  </div>\n",
       "\n",
       "\n",
       "<div id=\"df-f74bf41c-529f-46ef-971f-f28991d54928\">\n",
       "  <button class=\"colab-df-quickchart\" onclick=\"quickchart('df-f74bf41c-529f-46ef-971f-f28991d54928')\"\n",
       "            title=\"Suggest charts\"\n",
       "            style=\"display:none;\">\n",
       "\n",
       "<svg xmlns=\"http://www.w3.org/2000/svg\" height=\"24px\"viewBox=\"0 0 24 24\"\n",
       "     width=\"24px\">\n",
       "    <g>\n",
       "        <path d=\"M19 3H5c-1.1 0-2 .9-2 2v14c0 1.1.9 2 2 2h14c1.1 0 2-.9 2-2V5c0-1.1-.9-2-2-2zM9 17H7v-7h2v7zm4 0h-2V7h2v10zm4 0h-2v-4h2v4z\"/>\n",
       "    </g>\n",
       "</svg>\n",
       "  </button>\n",
       "\n",
       "<style>\n",
       "  .colab-df-quickchart {\n",
       "      --bg-color: #E8F0FE;\n",
       "      --fill-color: #1967D2;\n",
       "      --hover-bg-color: #E2EBFA;\n",
       "      --hover-fill-color: #174EA6;\n",
       "      --disabled-fill-color: #AAA;\n",
       "      --disabled-bg-color: #DDD;\n",
       "  }\n",
       "\n",
       "  [theme=dark] .colab-df-quickchart {\n",
       "      --bg-color: #3B4455;\n",
       "      --fill-color: #D2E3FC;\n",
       "      --hover-bg-color: #434B5C;\n",
       "      --hover-fill-color: #FFFFFF;\n",
       "      --disabled-bg-color: #3B4455;\n",
       "      --disabled-fill-color: #666;\n",
       "  }\n",
       "\n",
       "  .colab-df-quickchart {\n",
       "    background-color: var(--bg-color);\n",
       "    border: none;\n",
       "    border-radius: 50%;\n",
       "    cursor: pointer;\n",
       "    display: none;\n",
       "    fill: var(--fill-color);\n",
       "    height: 32px;\n",
       "    padding: 0;\n",
       "    width: 32px;\n",
       "  }\n",
       "\n",
       "  .colab-df-quickchart:hover {\n",
       "    background-color: var(--hover-bg-color);\n",
       "    box-shadow: 0 1px 2px rgba(60, 64, 67, 0.3), 0 1px 3px 1px rgba(60, 64, 67, 0.15);\n",
       "    fill: var(--button-hover-fill-color);\n",
       "  }\n",
       "\n",
       "  .colab-df-quickchart-complete:disabled,\n",
       "  .colab-df-quickchart-complete:disabled:hover {\n",
       "    background-color: var(--disabled-bg-color);\n",
       "    fill: var(--disabled-fill-color);\n",
       "    box-shadow: none;\n",
       "  }\n",
       "\n",
       "  .colab-df-spinner {\n",
       "    border: 2px solid var(--fill-color);\n",
       "    border-color: transparent;\n",
       "    border-bottom-color: var(--fill-color);\n",
       "    animation:\n",
       "      spin 1s steps(1) infinite;\n",
       "  }\n",
       "\n",
       "  @keyframes spin {\n",
       "    0% {\n",
       "      border-color: transparent;\n",
       "      border-bottom-color: var(--fill-color);\n",
       "      border-left-color: var(--fill-color);\n",
       "    }\n",
       "    20% {\n",
       "      border-color: transparent;\n",
       "      border-left-color: var(--fill-color);\n",
       "      border-top-color: var(--fill-color);\n",
       "    }\n",
       "    30% {\n",
       "      border-color: transparent;\n",
       "      border-left-color: var(--fill-color);\n",
       "      border-top-color: var(--fill-color);\n",
       "      border-right-color: var(--fill-color);\n",
       "    }\n",
       "    40% {\n",
       "      border-color: transparent;\n",
       "      border-right-color: var(--fill-color);\n",
       "      border-top-color: var(--fill-color);\n",
       "    }\n",
       "    60% {\n",
       "      border-color: transparent;\n",
       "      border-right-color: var(--fill-color);\n",
       "    }\n",
       "    80% {\n",
       "      border-color: transparent;\n",
       "      border-right-color: var(--fill-color);\n",
       "      border-bottom-color: var(--fill-color);\n",
       "    }\n",
       "    90% {\n",
       "      border-color: transparent;\n",
       "      border-bottom-color: var(--fill-color);\n",
       "    }\n",
       "  }\n",
       "</style>\n",
       "\n",
       "  <script>\n",
       "    async function quickchart(key) {\n",
       "      const quickchartButtonEl =\n",
       "        document.querySelector('#' + key + ' button');\n",
       "      quickchartButtonEl.disabled = true;  // To prevent multiple clicks.\n",
       "      quickchartButtonEl.classList.add('colab-df-spinner');\n",
       "      try {\n",
       "        const charts = await google.colab.kernel.invokeFunction(\n",
       "            'suggestCharts', [key], {});\n",
       "      } catch (error) {\n",
       "        console.error('Error during call to suggestCharts:', error);\n",
       "      }\n",
       "      quickchartButtonEl.classList.remove('colab-df-spinner');\n",
       "      quickchartButtonEl.classList.add('colab-df-quickchart-complete');\n",
       "    }\n",
       "    (() => {\n",
       "      let quickchartButtonEl =\n",
       "        document.querySelector('#df-f74bf41c-529f-46ef-971f-f28991d54928 button');\n",
       "      quickchartButtonEl.style.display =\n",
       "        google.colab.kernel.accessAllowed ? 'block' : 'none';\n",
       "    })();\n",
       "  </script>\n",
       "</div>\n",
       "    </div>\n",
       "  </div>\n"
      ],
      "text/plain": [
       "       train_loss valid_loss train_acc valid_acc        time\n",
       "epochs                                                      \n",
       "1        2.242537   2.194337  0.187259  0.206976  141.481392\n",
       "2        2.004403   1.564212  0.289037   0.44622  144.965004\n",
       "3        1.682294   1.288424  0.409053  0.558697  143.940503\n",
       "4        1.403347   1.004207  0.522558   0.66764  146.443081\n",
       "5        1.207372   0.854014  0.594264  0.720306  146.384618\n",
       "6        1.063857   0.763994  0.646628  0.751229  145.637014\n",
       "7        0.962597   0.675638  0.681628  0.781922    141.2995\n",
       "8        0.891496   0.629037  0.707468  0.798517  141.557495\n",
       "9        0.837456   0.589069  0.727903  0.812462  141.869685\n",
       "10       0.791718   0.553907  0.742673  0.821796  141.741168\n",
       "11        0.75731   0.537855  0.755655  0.828903  139.644279\n",
       "12       0.718838   0.510104  0.768909  0.835894  139.155502\n",
       "13       0.691299   0.474462  0.777646  0.849186  140.258646\n",
       "14       0.668771   0.441719  0.785577  0.862362  142.817454\n",
       "15        0.64026   0.475984  0.794886  0.850069  145.079331\n",
       "16       0.617665   0.415853  0.802271  0.869584  142.213788\n",
       "17       0.601313   0.406888  0.808824  0.873002  142.013153\n",
       "18       0.584184   0.392095  0.813369  0.875845  145.783093\n",
       "19       0.568351   0.387765  0.819225   0.87815  148.463699\n",
       "20       0.550357   0.374888   0.82414   0.88203  139.411846\n",
       "21       0.534331   0.394467  0.829682  0.877727  139.530577\n",
       "22       0.523004   0.332772  0.833927  0.896128  137.973391\n",
       "23       0.512715   0.369402  0.836876  0.883682  141.939571\n",
       "24        0.49663   0.328834  0.844383  0.894745  139.344946\n",
       "25       0.487945       0.33  0.846103  0.895321   138.74581\n",
       "26       0.477552   0.321934  0.849407  0.899854  140.515234\n",
       "27       0.469459   0.334926  0.852547  0.897319  138.473449\n",
       "28       0.457238   0.325843  0.855509  0.900085  134.366301\n",
       "29       0.447143   0.308428  0.859768  0.905578  135.201478\n",
       "30       0.438959   0.304032  0.861774  0.907998  134.963562\n",
       "31        0.42922   0.299524  0.864955  0.909381  136.082715\n",
       "32       0.420318   0.310598  0.867139  0.903772  138.878682\n",
       "33        0.41409   0.287313  0.869992    0.9128  137.914652\n",
       "34       0.407635    0.30062  0.872667  0.909035  140.701436\n",
       "35       0.398799   0.269601  0.876217  0.916219  144.663368\n",
       "36       0.392811   0.266142  0.877172  0.920137  144.166336\n",
       "37        0.38236   0.300429  0.881377  0.907959  142.923605\n",
       "38       0.376477    0.26641  0.882823  0.918831  145.203743\n",
       "39       0.369903   0.288118  0.884953  0.911148  139.575887\n",
       "40       0.365746   0.269652   0.88625  0.918523  138.227188"
      ]
     },
     "metadata": {},
     "output_type": "display_data"
    }
   ],
   "source": [
    "# train the model\n",
    "solver.train(lr=best_lr)"
   ]
  },
  {
   "cell_type": "code",
   "execution_count": null,
   "id": "214c27c5-8943-4082-bfed-89e6e073a160",
   "metadata": {
    "id": "w6PNJ3WJfvZ_"
   },
   "outputs": [],
   "source": [
    "results = pd.read_csv('/content/drive/MyDrive/pattern_recognition_project/custom_vit_V2/results.csv')"
   ]
  },
  {
   "cell_type": "code",
   "execution_count": null,
   "id": "08980f52-ceb0-45f3-a017-e359f731af67",
   "metadata": {
    "colab": {
     "base_uri": "https://localhost:8080/",
     "height": 472
    },
    "executionInfo": {
     "elapsed": 581,
     "status": "ok",
     "timestamp": 1702308624971,
     "user": {
      "displayName": "Louissko",
      "userId": "00337720139601541087"
     },
     "user_tz": -180
    },
    "id": "9ltqDdxDf3FK",
    "outputId": "96bb4c9f-fbc9-45e1-b98b-31e270083ac3"
   },
   "outputs": [
    {
     "data": {
      "image/png": "[encoded data removed]",
      "text/plain": [
       "<Figure size 640x480 with 1 Axes>"
      ]
     },
     "metadata": {},
     "output_type": "display_data"
    }
   ],
   "source": [
    "# Plot the train_loss and test_loss\n",
    "plt.plot(results['epochs'], results['train_loss'], label='Train Loss')\n",
    "plt.plot(results['epochs'], results['valid_loss'], label='Test Loss')\n",
    "\n",
    "# Adding labels and title\n",
    "plt.xlabel('Epochs')\n",
    "plt.ylabel('Loss')\n",
    "plt.title('Training and Test Loss Over Epochs')\n",
    "\n",
    "# Adding legend\n",
    "plt.legend()\n",
    "\n",
    "# Display the plot\n",
    "plt.show()"
   ]
  },
  {
   "cell_type": "code",
   "execution_count": null,
   "id": "8a58ff70-c6be-4216-aa42-4c5c08a1ce80",
   "metadata": {
    "colab": {
     "base_uri": "https://localhost:8080/"
    },
    "executionInfo": {
     "elapsed": 11451,
     "status": "ok",
     "timestamp": 1702306924448,
     "user": {
      "displayName": "Louissko",
      "userId": "00337720139601541087"
     },
     "user_tz": -180
    },
    "id": "haqbucZuXv0M",
    "outputId": "614413e9-9c49-4aba-8dfb-9b9b2277fac4"
   },
   "outputs": [
    {
     "name": "stderr",
     "output_type": "stream",
     "text": [
      "making predictions: 100%|██████████| 814/814 [00:11<00:00, 73.77it/s]\n"
     ]
    },
    {
     "name": "stdout",
     "output_type": "stream",
     "text": [
      "\n",
      "Loss on the test set is 0.26965153217315674. Accuracy on the test set is 0.9185233558696988\n"
     ]
    }
   ],
   "source": [
    "# check predictions on the test set\n",
    "solver.test()\n",
    "print()\n",
    "print(f'Loss on the test set is {solver.test_loss}. Accuracy on the test set is {solver.test_acc}')"
   ]
  },
  {
   "cell_type": "markdown",
   "id": "ae618639-e1eb-4ba7-abae-7233c58db74e",
   "metadata": {
    "id": "H8LrLlvVL0gf"
   },
   "source": [
    "## Train it for longer\n",
    "It seems like there is still some room for improvement. I load the model from a checkpoint and train it for an additional 10 Epochs"
   ]
  },
  {
   "cell_type": "code",
   "execution_count": 43,
   "id": "304cd46b-4362-4bfd-91f0-ebc956f89733",
   "metadata": {
    "executionInfo": {
     "elapsed": 516,
     "status": "ok",
     "timestamp": 1702411334705,
     "user": {
      "displayName": "Louis Skowronek1",
      "userId": "14613357057446961286"
     },
     "user_tz": -180
    },
    "id": "8QlqTFIYTQp5"
   },
   "outputs": [],
   "source": [
    "# set a new directory for saving the new model\n",
    "args.save_dir = '/content/drive/MyDrive/pattern_recognition_project/custom_vit_V2'"
   ]
  },
  {
   "cell_type": "code",
   "execution_count": 46,
   "id": "959ddf4f-c71a-41e1-b167-9066a584352e",
   "metadata": {
    "colab": {
     "base_uri": "https://localhost:8080/"
    },
    "executionInfo": {
     "elapsed": 2270,
     "status": "ok",
     "timestamp": 1702411370519,
     "user": {
      "displayName": "Louis Skowronek1",
      "userId": "14613357057446961286"
     },
     "user_tz": -180
    },
    "id": "LZNIrhEITe4W",
    "outputId": "621f803c-4587-4bf7-911c-3eb9cb9f2585"
   },
   "outputs": [
    {
     "name": "stdout",
     "output_type": "stream",
     "text": [
      "Loading weigths\n"
     ]
    }
   ],
   "source": [
    "# load the model from the checkpoint\n",
    "model = load_weights(model, '/content/drive/MyDrive/pattern_recognition_project/custom_vit_V1/best_model.pth')\n",
    "criterion = torch.nn.CrossEntropyLoss()\n",
    "optimizer = torch.optim.AdamW(model.parameters(), args.lr)"
   ]
  },
  {
   "cell_type": "code",
   "execution_count": 45,
   "id": "20d1d258-0d27-4a7f-bbe2-337725ac5e21",
   "metadata": {
    "executionInfo": {
     "elapsed": 600,
     "status": "ok",
     "timestamp": 1702411355788,
     "user": {
      "displayName": "Louis Skowronek1",
      "userId": "14613357057446961286"
     },
     "user_tz": -180
    },
    "id": "VLw3zzkZTghT"
   },
   "outputs": [],
   "source": [
    "solver = Solver(model, criterion, optimizer, dl_train, dl_test, device, args)"
   ]
  },
  {
   "cell_type": "code",
   "execution_count": 18,
   "id": "206f254e-6d94-4fd0-9b60-50c161e0bd3a",
   "metadata": {
    "colab": {
     "base_uri": "https://localhost:8080/",
     "height": 471
    },
    "executionInfo": {
     "elapsed": 11471,
     "status": "ok",
     "timestamp": 1702406391481,
     "user": {
      "displayName": "Louis Skowronek1",
      "userId": "14613357057446961286"
     },
     "user_tz": -180
    },
    "id": "nCJCHYbOTnsK",
    "outputId": "735dd690-53e1-45a1-983b-50a68d5ea314"
   },
   "outputs": [
    {
     "name": "stderr",
     "output_type": "stream",
     "text": [
      "100%|██████████| 100/100 [00:10<00:00,  9.45it/s]\n"
     ]
    },
    {
     "data": {
      "image/png": "[encoded data removed]",
      "text/plain": [
       "<Figure size 640x480 with 1 Axes>"
      ]
     },
     "metadata": {},
     "output_type": "display_data"
    }
   ],
   "source": [
    "best_lr = solver.find_lr(init_lr=1e-6, final_lr=0.001, n_steps=100, show_plot=True)"
   ]
  },
  {
   "cell_type": "code",
   "execution_count": 37,
   "id": "2578d236-38f1-4eb5-8f65-b7edeab3c092",
   "metadata": {
    "colab": {
     "base_uri": "https://localhost:8080/"
    },
    "executionInfo": {
     "elapsed": 4,
     "status": "ok",
     "timestamp": 1702410938396,
     "user": {
      "displayName": "Louis Skowronek1",
      "userId": "14613357057446961286"
     },
     "user_tz": -180
    },
    "id": "lfDTRsCamVln",
    "outputId": "f6f96282-f96d-4673-a224-8d0a309aa261"
   },
   "outputs": [
    {
     "data": {
      "text/plain": [
       "2.477076355991729e-05"
      ]
     },
     "execution_count": 37,
     "metadata": {},
     "output_type": "execute_result"
    }
   ],
   "source": [
    "best_lr"
   ]
  },
  {
   "cell_type": "code",
   "execution_count": 35,
   "id": "73fc89a3-a746-4341-95c5-14c378edd90d",
   "metadata": {
    "colab": {
     "base_uri": "https://localhost:8080/",
     "height": 394
    },
    "executionInfo": {
     "elapsed": 2331678,
     "status": "ok",
     "timestamp": 1702410752698,
     "user": {
      "displayName": "Louis Skowronek1",
      "userId": "14613357057446961286"
     },
     "user_tz": -180
    },
    "id": "0cRVzxYxcjjR",
    "outputId": "446eb3bd-f601-4d91-e21d-39c208b1d6e7"
   },
   "outputs": [
    {
     "data": {
      "text/html": [
       "\n",
       "  <div id=\"df-1594b5d2-27d8-4bab-a831-3ebb4f3f2f6d\" class=\"colab-df-container\">\n",
       "    <div>\n",
       "<style scoped>\n",
       "    .dataframe tbody tr th:only-of-type {\n",
       "        vertical-align: middle;\n",
       "    }\n",
       "\n",
       "    .dataframe tbody tr th {\n",
       "        vertical-align: top;\n",
       "    }\n",
       "\n",
       "    .dataframe thead th {\n",
       "        text-align: right;\n",
       "    }\n",
       "</style>\n",
       "<table border=\"1\" class=\"dataframe\">\n",
       "  <thead>\n",
       "    <tr style=\"text-align: right;\">\n",
       "      <th></th>\n",
       "      <th>train_loss</th>\n",
       "      <th>valid_loss</th>\n",
       "      <th>train_acc</th>\n",
       "      <th>valid_acc</th>\n",
       "      <th>time</th>\n",
       "    </tr>\n",
       "    <tr>\n",
       "      <th>epochs</th>\n",
       "      <th></th>\n",
       "      <th></th>\n",
       "      <th></th>\n",
       "      <th></th>\n",
       "      <th></th>\n",
       "    </tr>\n",
       "  </thead>\n",
       "  <tbody>\n",
       "    <tr>\n",
       "      <th>1</th>\n",
       "      <td>0.306286</td>\n",
       "      <td>0.235699</td>\n",
       "      <td>0.905579</td>\n",
       "      <td>0.929471</td>\n",
       "      <td>235.431995</td>\n",
       "    </tr>\n",
       "    <tr>\n",
       "      <th>2</th>\n",
       "      <td>0.286099</td>\n",
       "      <td>0.23142</td>\n",
       "      <td>0.912841</td>\n",
       "      <td>0.931315</td>\n",
       "      <td>233.271244</td>\n",
       "    </tr>\n",
       "    <tr>\n",
       "      <th>3</th>\n",
       "      <td>0.282627</td>\n",
       "      <td>0.226887</td>\n",
       "      <td>0.91407</td>\n",
       "      <td>0.933505</td>\n",
       "      <td>233.721286</td>\n",
       "    </tr>\n",
       "    <tr>\n",
       "      <th>4</th>\n",
       "      <td>0.277898</td>\n",
       "      <td>0.223672</td>\n",
       "      <td>0.915271</td>\n",
       "      <td>0.93289</td>\n",
       "      <td>232.147244</td>\n",
       "    </tr>\n",
       "    <tr>\n",
       "      <th>5</th>\n",
       "      <td>0.272782</td>\n",
       "      <td>0.213111</td>\n",
       "      <td>0.916008</td>\n",
       "      <td>0.937308</td>\n",
       "      <td>231.996945</td>\n",
       "    </tr>\n",
       "    <tr>\n",
       "      <th>6</th>\n",
       "      <td>0.267331</td>\n",
       "      <td>0.22158</td>\n",
       "      <td>0.917919</td>\n",
       "      <td>0.934734</td>\n",
       "      <td>232.581545</td>\n",
       "    </tr>\n",
       "    <tr>\n",
       "      <th>7</th>\n",
       "      <td>0.262687</td>\n",
       "      <td>0.217058</td>\n",
       "      <td>0.919489</td>\n",
       "      <td>0.936463</td>\n",
       "      <td>232.209342</td>\n",
       "    </tr>\n",
       "    <tr>\n",
       "      <th>8</th>\n",
       "      <td>0.261635</td>\n",
       "      <td>0.235531</td>\n",
       "      <td>0.920062</td>\n",
       "      <td>0.931277</td>\n",
       "      <td>232.136067</td>\n",
       "    </tr>\n",
       "    <tr>\n",
       "      <th>9</th>\n",
       "      <td>0.260662</td>\n",
       "      <td>0.219392</td>\n",
       "      <td>0.919871</td>\n",
       "      <td>0.935118</td>\n",
       "      <td>232.07847</td>\n",
       "    </tr>\n",
       "    <tr>\n",
       "      <th>10</th>\n",
       "      <td>0.258166</td>\n",
       "      <td>0.22125</td>\n",
       "      <td>0.921441</td>\n",
       "      <td>0.935848</td>\n",
       "      <td>234.894126</td>\n",
       "    </tr>\n",
       "  </tbody>\n",
       "</table>\n",
       "</div>\n",
       "    <div class=\"colab-df-buttons\">\n",
       "\n",
       "  <div class=\"colab-df-container\">\n",
       "    <button class=\"colab-df-convert\" onclick=\"convertToInteractive('df-1594b5d2-27d8-4bab-a831-3ebb4f3f2f6d')\"\n",
       "            title=\"Convert this dataframe to an interactive table.\"\n",
       "            style=\"display:none;\">\n",
       "\n",
       "  <svg xmlns=\"http://www.w3.org/2000/svg\" height=\"24px\" viewBox=\"0 -960 960 960\">\n",
       "    <path d=\"M120-120v-720h720v720H120Zm60-500h600v-160H180v160Zm220 220h160v-160H400v160Zm0 220h160v-160H400v160ZM180-400h160v-160H180v160Zm440 0h160v-160H620v160ZM180-180h160v-160H180v160Zm440 0h160v-160H620v160Z\"/>\n",
       "  </svg>\n",
       "    </button>\n",
       "\n",
       "  <style>\n",
       "    .colab-df-container {\n",
       "      display:flex;\n",
       "      gap: 12px;\n",
       "    }\n",
       "\n",
       "    .colab-df-convert {\n",
       "      background-color: #E8F0FE;\n",
       "      border: none;\n",
       "      border-radius: 50%;\n",
       "      cursor: pointer;\n",
       "      display: none;\n",
       "      fill: #1967D2;\n",
       "      height: 32px;\n",
       "      padding: 0 0 0 0;\n",
       "      width: 32px;\n",
       "    }\n",
       "\n",
       "    .colab-df-convert:hover {\n",
       "      background-color: #E2EBFA;\n",
       "      box-shadow: 0px 1px 2px rgba(60, 64, 67, 0.3), 0px 1px 3px 1px rgba(60, 64, 67, 0.15);\n",
       "      fill: #174EA6;\n",
       "    }\n",
       "\n",
       "    .colab-df-buttons div {\n",
       "      margin-bottom: 4px;\n",
       "    }\n",
       "\n",
       "    [theme=dark] .colab-df-convert {\n",
       "      background-color: #3B4455;\n",
       "      fill: #D2E3FC;\n",
       "    }\n",
       "\n",
       "    [theme=dark] .colab-df-convert:hover {\n",
       "      background-color: #434B5C;\n",
       "      box-shadow: 0px 1px 3px 1px rgba(0, 0, 0, 0.15);\n",
       "      filter: drop-shadow(0px 1px 2px rgba(0, 0, 0, 0.3));\n",
       "      fill: #FFFFFF;\n",
       "    }\n",
       "  </style>\n",
       "\n",
       "    <script>\n",
       "      const buttonEl =\n",
       "        document.querySelector('#df-1594b5d2-27d8-4bab-a831-3ebb4f3f2f6d button.colab-df-convert');\n",
       "      buttonEl.style.display =\n",
       "        google.colab.kernel.accessAllowed ? 'block' : 'none';\n",
       "\n",
       "      async function convertToInteractive(key) {\n",
       "        const element = document.querySelector('#df-1594b5d2-27d8-4bab-a831-3ebb4f3f2f6d');\n",
       "        const dataTable =\n",
       "          await google.colab.kernel.invokeFunction('convertToInteractive',\n",
       "                                                    [key], {});\n",
       "        if (!dataTable) return;\n",
       "\n",
       "        const docLinkHtml = 'Like what you see? Visit the ' +\n",
       "          '<a target=\"_blank\" href=https://colab.research.google.com/notebooks/data_table.ipynb>data table notebook</a>'\n",
       "          + ' to learn more about interactive tables.';\n",
       "        element.innerHTML = '';\n",
       "        dataTable['output_type'] = 'display_data';\n",
       "        await google.colab.output.renderOutput(dataTable, element);\n",
       "        const docLink = document.createElement('div');\n",
       "        docLink.innerHTML = docLinkHtml;\n",
       "        element.appendChild(docLink);\n",
       "      }\n",
       "    </script>\n",
       "  </div>\n",
       "\n",
       "\n",
       "<div id=\"df-dcfde243-6c56-422e-b4b0-dc0da26da073\">\n",
       "  <button class=\"colab-df-quickchart\" onclick=\"quickchart('df-dcfde243-6c56-422e-b4b0-dc0da26da073')\"\n",
       "            title=\"Suggest charts\"\n",
       "            style=\"display:none;\">\n",
       "\n",
       "<svg xmlns=\"http://www.w3.org/2000/svg\" height=\"24px\"viewBox=\"0 0 24 24\"\n",
       "     width=\"24px\">\n",
       "    <g>\n",
       "        <path d=\"M19 3H5c-1.1 0-2 .9-2 2v14c0 1.1.9 2 2 2h14c1.1 0 2-.9 2-2V5c0-1.1-.9-2-2-2zM9 17H7v-7h2v7zm4 0h-2V7h2v10zm4 0h-2v-4h2v4z\"/>\n",
       "    </g>\n",
       "</svg>\n",
       "  </button>\n",
       "\n",
       "<style>\n",
       "  .colab-df-quickchart {\n",
       "      --bg-color: #E8F0FE;\n",
       "      --fill-color: #1967D2;\n",
       "      --hover-bg-color: #E2EBFA;\n",
       "      --hover-fill-color: #174EA6;\n",
       "      --disabled-fill-color: #AAA;\n",
       "      --disabled-bg-color: #DDD;\n",
       "  }\n",
       "\n",
       "  [theme=dark] .colab-df-quickchart {\n",
       "      --bg-color: #3B4455;\n",
       "      --fill-color: #D2E3FC;\n",
       "      --hover-bg-color: #434B5C;\n",
       "      --hover-fill-color: #FFFFFF;\n",
       "      --disabled-bg-color: #3B4455;\n",
       "      --disabled-fill-color: #666;\n",
       "  }\n",
       "\n",
       "  .colab-df-quickchart {\n",
       "    background-color: var(--bg-color);\n",
       "    border: none;\n",
       "    border-radius: 50%;\n",
       "    cursor: pointer;\n",
       "    display: none;\n",
       "    fill: var(--fill-color);\n",
       "    height: 32px;\n",
       "    padding: 0;\n",
       "    width: 32px;\n",
       "  }\n",
       "\n",
       "  .colab-df-quickchart:hover {\n",
       "    background-color: var(--hover-bg-color);\n",
       "    box-shadow: 0 1px 2px rgba(60, 64, 67, 0.3), 0 1px 3px 1px rgba(60, 64, 67, 0.15);\n",
       "    fill: var(--button-hover-fill-color);\n",
       "  }\n",
       "\n",
       "  .colab-df-quickchart-complete:disabled,\n",
       "  .colab-df-quickchart-complete:disabled:hover {\n",
       "    background-color: var(--disabled-bg-color);\n",
       "    fill: var(--disabled-fill-color);\n",
       "    box-shadow: none;\n",
       "  }\n",
       "\n",
       "  .colab-df-spinner {\n",
       "    border: 2px solid var(--fill-color);\n",
       "    border-color: transparent;\n",
       "    border-bottom-color: var(--fill-color);\n",
       "    animation:\n",
       "      spin 1s steps(1) infinite;\n",
       "  }\n",
       "\n",
       "  @keyframes spin {\n",
       "    0% {\n",
       "      border-color: transparent;\n",
       "      border-bottom-color: var(--fill-color);\n",
       "      border-left-color: var(--fill-color);\n",
       "    }\n",
       "    20% {\n",
       "      border-color: transparent;\n",
       "      border-left-color: var(--fill-color);\n",
       "      border-top-color: var(--fill-color);\n",
       "    }\n",
       "    30% {\n",
       "      border-color: transparent;\n",
       "      border-left-color: var(--fill-color);\n",
       "      border-top-color: var(--fill-color);\n",
       "      border-right-color: var(--fill-color);\n",
       "    }\n",
       "    40% {\n",
       "      border-color: transparent;\n",
       "      border-right-color: var(--fill-color);\n",
       "      border-top-color: var(--fill-color);\n",
       "    }\n",
       "    60% {\n",
       "      border-color: transparent;\n",
       "      border-right-color: var(--fill-color);\n",
       "    }\n",
       "    80% {\n",
       "      border-color: transparent;\n",
       "      border-right-color: var(--fill-color);\n",
       "      border-bottom-color: var(--fill-color);\n",
       "    }\n",
       "    90% {\n",
       "      border-color: transparent;\n",
       "      border-bottom-color: var(--fill-color);\n",
       "    }\n",
       "  }\n",
       "</style>\n",
       "\n",
       "  <script>\n",
       "    async function quickchart(key) {\n",
       "      const quickchartButtonEl =\n",
       "        document.querySelector('#' + key + ' button');\n",
       "      quickchartButtonEl.disabled = true;  // To prevent multiple clicks.\n",
       "      quickchartButtonEl.classList.add('colab-df-spinner');\n",
       "      try {\n",
       "        const charts = await google.colab.kernel.invokeFunction(\n",
       "            'suggestCharts', [key], {});\n",
       "      } catch (error) {\n",
       "        console.error('Error during call to suggestCharts:', error);\n",
       "      }\n",
       "      quickchartButtonEl.classList.remove('colab-df-spinner');\n",
       "      quickchartButtonEl.classList.add('colab-df-quickchart-complete');\n",
       "    }\n",
       "    (() => {\n",
       "      let quickchartButtonEl =\n",
       "        document.querySelector('#df-dcfde243-6c56-422e-b4b0-dc0da26da073 button');\n",
       "      quickchartButtonEl.style.display =\n",
       "        google.colab.kernel.accessAllowed ? 'block' : 'none';\n",
       "    })();\n",
       "  </script>\n",
       "</div>\n",
       "    </div>\n",
       "  </div>\n"
      ],
      "text/plain": [
       "       train_loss valid_loss train_acc valid_acc        time\n",
       "epochs                                                      \n",
       "1        0.306286   0.235699  0.905579  0.929471  235.431995\n",
       "2        0.286099    0.23142  0.912841  0.931315  233.271244\n",
       "3        0.282627   0.226887   0.91407  0.933505  233.721286\n",
       "4        0.277898   0.223672  0.915271   0.93289  232.147244\n",
       "5        0.272782   0.213111  0.916008  0.937308  231.996945\n",
       "6        0.267331    0.22158  0.917919  0.934734  232.581545\n",
       "7        0.262687   0.217058  0.919489  0.936463  232.209342\n",
       "8        0.261635   0.235531  0.920062  0.931277  232.136067\n",
       "9        0.260662   0.219392  0.919871  0.935118   232.07847\n",
       "10       0.258166    0.22125  0.921441  0.935848  234.894126"
      ]
     },
     "metadata": {},
     "output_type": "display_data"
    }
   ],
   "source": [
    "solver.train(lr=best_lr)"
   ]
  },
  {
   "cell_type": "code",
   "execution_count": 36,
   "id": "06f9f5e6-92ae-4cce-8e86-96a7672dfda0",
   "metadata": {
    "colab": {
     "base_uri": "https://localhost:8080/"
    },
    "executionInfo": {
     "elapsed": 22281,
     "status": "ok",
     "timestamp": 1702410825176,
     "user": {
      "displayName": "Louis Skowronek1",
      "userId": "14613357057446961286"
     },
     "user_tz": -180
    },
    "id": "QhHAcwlWcEO1",
    "outputId": "bbea7775-c5c9-4e9a-83f5-dbfa0ca49b0a"
   },
   "outputs": [
    {
     "name": "stderr",
     "output_type": "stream",
     "text": [
      "making predictions: 100%|██████████| 814/814 [00:21<00:00, 37.54it/s]"
     ]
    },
    {
     "name": "stdout",
     "output_type": "stream",
     "text": [
      "\n",
      "Loss on the test set is 0.22125018467206772. Accuracy on the test set is 0.9358481868469576\n"
     ]
    },
    {
     "name": "stderr",
     "output_type": "stream",
     "text": [
      "\n"
     ]
    }
   ],
   "source": [
    "# report performance on test set\n",
    "solver.test()\n",
    "print()\n",
    "print(f'Loss on the test set is {solver.test_loss}. Accuracy on the test set is {solver.test_acc}')"
   ]
  },
  {
   "cell_type": "markdown",
   "id": "ip2b9Z85soAj",
   "metadata": {
    "id": "ip2b9Z85soAj"
   },
   "source": [
    "# Pretrained Convoluation Neural Network (ResNet)\n",
    "\n",
    "could be trained as well, but i did not report the results for it"
   ]
  },
  {
   "cell_type": "code",
   "execution_count": 4,
   "id": "I4WNFr7-uyus",
   "metadata": {
    "executionInfo": {
     "elapsed": 2002,
     "status": "ok",
     "timestamp": 1701624762885,
     "user": {
      "displayName": "Louis Skowronek1",
      "userId": "14613357057446961286"
     },
     "user_tz": -180
    },
    "id": "I4WNFr7-uyus"
   },
   "outputs": [],
   "source": [
    "from fastai.vision import *\n",
    "from fastai.metrics import error_rate\n",
    "from fastai.vision.widgets import *\n",
    "from fastai.vision.all import *\n",
    "from fastai.callback.all import *\n",
    "import os\n",
    "from tqdm import tqdm"
   ]
  },
  {
   "cell_type": "code",
   "execution_count": null,
   "id": "t2qpF7UdOx98",
   "metadata": {
    "id": "t2qpF7UdOx98"
   },
   "outputs": [],
   "source": [
    "# Provide the paths to SVHN train and test datasets\n",
    "train_path = '/content/drive/MyDrive/pattern_recognition_project/train_32x32.mat'\n",
    "test_path = '/content/drive/MyDrive/pattern_recognition_project/test_32x32.mat'\n",
    "\n",
    "train_images, train_labels, test_images, test_labels = load_svhn_dataset(train_path, test_path)"
   ]
  },
  {
   "cell_type": "code",
   "execution_count": 7,
   "id": "Wa7Mredjc9GZ",
   "metadata": {
    "colab": {
     "base_uri": "https://localhost:8080/"
    },
    "executionInfo": {
     "elapsed": 35360,
     "status": "ok",
     "timestamp": 1701624814974,
     "user": {
      "displayName": "Louis Skowronek1",
      "userId": "14613357057446961286"
     },
     "user_tz": -180
    },
    "id": "Wa7Mredjc9GZ",
    "outputId": "ec0ee1e9-1eaf-4bb7-c2d2-453d942c55e0"
   },
   "outputs": [
    {
     "name": "stderr",
     "output_type": "stream",
     "text": [
      "100%|██████████| 73257/73257 [00:34<00:00, 2100.62it/s]\n"
     ]
    }
   ],
   "source": [
    "# Create a directory to store the images\n",
    "output_dir = \"training_images\"\n",
    "os.makedirs(output_dir, exist_ok=True)\n",
    "\n",
    "# Loop through the array, convert each image to a PIL image, and save it\n",
    "for i in tqdm(range(len(train_images))):\n",
    "    image = Image.fromarray((train_images[i]).astype(np.uint8))\n",
    "    image.save(os.path.join(output_dir, f\"image_{i}_{train_labels[i]}.png\"))"
   ]
  },
  {
   "cell_type": "code",
   "execution_count": 8,
   "id": "Iqm9gH8Yene-",
   "metadata": {
    "executionInfo": {
     "elapsed": 358,
     "status": "ok",
     "timestamp": 1701624859262,
     "user": {
      "displayName": "Louis Skowronek1",
      "userId": "14613357057446961286"
     },
     "user_tz": -180
    },
    "id": "Iqm9gH8Yene-"
   },
   "outputs": [],
   "source": [
    "def label_func(fname):\n",
    "    return str(fname).split('.')[0].split('_')[-1]"
   ]
  },
  {
   "cell_type": "code",
   "execution_count": 19,
   "id": "smJmCCk4dY2L",
   "metadata": {
    "executionInfo": {
     "elapsed": 328,
     "status": "ok",
     "timestamp": 1701624983234,
     "user": {
      "displayName": "Louis Skowronek1",
      "userId": "14613357057446961286"
     },
     "user_tz": -180
    },
    "id": "smJmCCk4dY2L"
   },
   "outputs": [],
   "source": [
    "# create datablock\n",
    "dblock = DataBlock(blocks    = (ImageBlock, CategoryBlock),\n",
    "                   get_items = get_image_files,\n",
    "                   get_y     = label_func,\n",
    "                   splitter  = TrainTestSplitter(test_size=0.2,random_state=42),\n",
    "                   item_tfms=Resize((32,32), method = ResizeMethod.Pad, pad_mode='zeros')\n",
    "                   batch_tfms = aug_transforms(mult=2, pad_mode ='zeros', min_scale=0.8, xtra_tfms=[RandomErasing(p=.8, sh = 0.4, max_count=60)])\n",
    "                   )"
   ]
  },
  {
   "cell_type": "code",
   "execution_count": 20,
   "id": "4SPV-uR5enNV",
   "metadata": {
    "executionInfo": {
     "elapsed": 9226,
     "status": "ok",
     "timestamp": 1701624993539,
     "user": {
      "displayName": "Louis Skowronek1",
      "userId": "14613357057446961286"
     },
     "user_tz": -180
    },
    "id": "4SPV-uR5enNV"
   },
   "outputs": [],
   "source": [
    "dls = dblock.dataloaders('/content/training_images', bs = 32)"
   ]
  },
  {
   "cell_type": "code",
   "execution_count": 21,
   "id": "h-cUKNYaf615",
   "metadata": {
    "colab": {
     "base_uri": "https://localhost:8080/",
     "height": 662
    },
    "executionInfo": {
     "elapsed": 1071,
     "status": "ok",
     "timestamp": 1701624994608,
     "user": {
      "displayName": "Louis Skowronek1",
      "userId": "14613357057446961286"
     },
     "user_tz": -180
    },
    "id": "h-cUKNYaf615",
    "outputId": "401e0ff1-4bfc-44bc-ad78-bb419bbde401"
   },
   "outputs": [
    {
     "data": {
      "image/png": "[encoded data removed]",
      "text/plain": [
       "<Figure size 900x900 with 9 Axes>"
      ]
     },
     "metadata": {},
     "output_type": "display_data"
    }
   ],
   "source": [
    "dls.show_batch()"
   ]
  },
  {
   "cell_type": "code",
   "execution_count": 16,
   "id": "pmPd-_5i_V8v",
   "metadata": {
    "executionInfo": {
     "elapsed": 527,
     "status": "ok",
     "timestamp": 1701624953240,
     "user": {
      "displayName": "Louis Skowronek1",
      "userId": "14613357057446961286"
     },
     "user_tz": -180
    },
    "id": "pmPd-_5i_V8v"
   },
   "outputs": [],
   "source": [
    "parser = define_parser()\n",
    "# Simulate command-line arguments in a notebook\n",
    "args = parser.parse_args([\n",
    "    \"--epochs\", \"30\",\n",
    "    \"--batch_size\", \"128\",\n",
    "    \"--n_classes\", \"10\",\n",
    "    \"--lr\", \"5e-4\",\n",
    "    \"--img_size\", \"32\",\n",
    "    \"--patch_size\", \"4\",\n",
    "    \"--n_channels\", \"3\",\n",
    "    \"--embed_dim\", \"96\",\n",
    "    \"--n_attention_heads\", \"4\",\n",
    "    \"--forward_mul\", \"2\",\n",
    "    \"--n_layers\", \"6\",\n",
    "    \"--train_path\", '/content/drive/MyDrive/pattern_recognition_project/test_32x32.mat',\n",
    "    \"--test_path\", '/content/drive/MyDrive/pattern_recognition_project/test_32x32.mat',\n",
    "    \"--transform\", \"custom\",\n",
    "])"
   ]
  },
  {
   "cell_type": "code",
   "execution_count": 25,
   "id": "oFM-uU_I4oRU",
   "metadata": {
    "colab": {
     "base_uri": "https://localhost:8080/"
    },
    "executionInfo": {
     "elapsed": 2355,
     "status": "ok",
     "timestamp": 1701625049702,
     "user": {
      "displayName": "Louis Skowronek1",
      "userId": "14613357057446961286"
     },
     "user_tz": -180
    },
    "id": "oFM-uU_I4oRU",
    "outputId": "c643c82a-acde-4a20-bed6-83790796c800"
   },
   "outputs": [
    {
     "name": "stderr",
     "output_type": "stream",
     "text": [
      "Downloading: \"https://download.pytorch.org/models/resnet34-b627a593.pth\" to /root/.cache/torch/hub/checkpoints/resnet34-b627a593.pth\n",
      "100%|██████████| 83.3M/83.3M [00:01<00:00, 69.7MB/s]\n"
     ]
    }
   ],
   "source": [
    "learn = vision_learner(dls, models.resnet34, metrics=[accuracy, F1Score(average = 'weighted')])"
   ]
  },
  {
   "cell_type": "code",
   "execution_count": 26,
   "id": "QOcgoJABwPAl",
   "metadata": {
    "colab": {
     "base_uri": "https://localhost:8080/",
     "height": 471
    },
    "executionInfo": {
     "elapsed": 9628,
     "status": "ok",
     "timestamp": 1701625061786,
     "user": {
      "displayName": "Louis Skowronek1",
      "userId": "14613357057446961286"
     },
     "user_tz": -180
    },
    "id": "QOcgoJABwPAl",
    "outputId": "45d3a889-15b4-43e4-994f-28d5ad7134b7"
   },
   "outputs": [
    {
     "data": {
      "text/html": [
       "\n",
       "<style>\n",
       "    /* Turns off some styling */\n",
       "    progress {\n",
       "        /* gets rid of default border in Firefox and Opera. */\n",
       "        border: none;\n",
       "        /* Needs to be in here for Safari polyfill so background images work as expected. */\n",
       "        background-size: auto;\n",
       "    }\n",
       "    progress:not([value]), progress:not([value])::-webkit-progress-bar {\n",
       "        background: repeating-linear-gradient(45deg, #7e7e7e, #7e7e7e 10px, #5c5c5c 10px, #5c5c5c 20px);\n",
       "    }\n",
       "    .progress-bar-interrupted, .progress-bar-interrupted::-webkit-progress-bar {\n",
       "        background: #F44336;\n",
       "    }\n",
       "</style>\n"
      ],
      "text/plain": [
       "<IPython.core.display.HTML object>"
      ]
     },
     "metadata": {},
     "output_type": "display_data"
    },
    {
     "data": {
      "text/html": [],
      "text/plain": [
       "<IPython.core.display.HTML object>"
      ]
     },
     "metadata": {},
     "output_type": "display_data"
    },
    {
     "name": "stdout",
     "output_type": "stream",
     "text": [
      "Minimum/10: 2.57e-03, steepest point: 1.07e-04\n"
     ]
    },
    {
     "data": {
      "image/png": "[encoded data removed]",
      "text/plain": [
       "<Figure size 640x480 with 1 Axes>"
      ]
     },
     "metadata": {},
     "output_type": "display_data"
    }
   ],
   "source": [
    "lr_valley, lr_min,lr_steep = learn.lr_find(start_lr = 1e-06, suggest_funcs=(valley, minimum, steep))\n",
    "print(f\"Minimum/10: {lr_min:.2e}, steepest point: {lr_steep:.2e}\")"
   ]
  },
  {
   "cell_type": "code",
   "execution_count": null,
   "id": "5a715098-5d74-4c91-97c7-789b02ee6c85",
   "metadata": {},
   "outputs": [],
   "source": [
    "learn.fine_tune(epochs = 30, base_lr = lr_valley, freeze_epochs=3)"
   ]
  }
 ],
 "metadata": {
  "colab": {
   "provenance": []
  },
  "kernelspec": {
   "display_name": "Python 3 (ipykernel)",
   "language": "python",
   "name": "python3"
  },
  "language_info": {
   "codemirror_mode": {
    "name": "ipython",
    "version": 3
   },
   "file_extension": ".py",
   "mimetype": "text/x-python",
   "name": "python",
   "nbconvert_exporter": "python",
   "pygments_lexer": "ipython3",
   "version": "3.8.18"
  }
 },
 "nbformat": 4,
 "nbformat_minor": 5
}
